{
 "cells": [
  {
   "cell_type": "code",
   "execution_count": 169,
   "id": "07af659e",
   "metadata": {},
   "outputs": [],
   "source": [
    "import tensorflow as tf"
   ]
  },
  {
   "cell_type": "code",
   "execution_count": 170,
   "id": "e3964088",
   "metadata": {},
   "outputs": [
    {
     "data": {
      "text/plain": [
       "'2.6.0'"
      ]
     },
     "execution_count": 170,
     "metadata": {},
     "output_type": "execute_result"
    }
   ],
   "source": [
    "tf.__version__"
   ]
  },
  {
   "cell_type": "code",
   "execution_count": 171,
   "id": "3e34c684",
   "metadata": {},
   "outputs": [],
   "source": [
    "import matplotlib.pyplot as plt\n",
    "%matplotlib inline \n",
    "import numpy as np\n",
    "import pathlib"
   ]
  },
  {
   "cell_type": "markdown",
   "id": "3f61667a",
   "metadata": {},
   "source": [
    "pathlib 文件目录\n",
    "- pathlib.Path(data_dir)\n",
    "- .glob(*/)"
   ]
  },
  {
   "cell_type": "code",
   "execution_count": 172,
   "id": "0a5fe368",
   "metadata": {},
   "outputs": [],
   "source": [
    "data_dir='./2_class'"
   ]
  },
  {
   "cell_type": "code",
   "execution_count": 173,
   "id": "f572f971",
   "metadata": {},
   "outputs": [],
   "source": [
    "data_root= pathlib.Path(data_dir)"
   ]
  },
  {
   "cell_type": "code",
   "execution_count": 174,
   "id": "39eaefa1",
   "metadata": {},
   "outputs": [
    {
     "data": {
      "text/plain": [
       "WindowsPath('2_class')"
      ]
     },
     "execution_count": 174,
     "metadata": {},
     "output_type": "execute_result"
    }
   ],
   "source": [
    "data_root"
   ]
  },
  {
   "cell_type": "code",
   "execution_count": 175,
   "id": "ca315ff3",
   "metadata": {},
   "outputs": [
    {
     "name": "stdout",
     "output_type": "stream",
     "text": [
      "2_class\\airplane\n",
      "2_class\\lake\n"
     ]
    }
   ],
   "source": [
    "for item in data_root.iterdir():\n",
    "    print(item)"
   ]
  },
  {
   "cell_type": "markdown",
   "id": "cdc15205",
   "metadata": {},
   "source": [
    "### 提取所有路径"
   ]
  },
  {
   "cell_type": "code",
   "execution_count": 176,
   "id": "3a685abd",
   "metadata": {},
   "outputs": [],
   "source": [
    "all_image_path=list(data_root.glob('*/*') )  #所有目录的文件"
   ]
  },
  {
   "cell_type": "code",
   "execution_count": 177,
   "id": "a584544e",
   "metadata": {},
   "outputs": [
    {
     "data": {
      "text/plain": [
       "1400"
      ]
     },
     "execution_count": 177,
     "metadata": {},
     "output_type": "execute_result"
    }
   ],
   "source": [
    "len(all_image_path)"
   ]
  },
  {
   "cell_type": "code",
   "execution_count": 178,
   "id": "10624384",
   "metadata": {},
   "outputs": [
    {
     "data": {
      "text/plain": [
       "[WindowsPath('2_class/airplane/airplane_001.jpg'),\n",
       " WindowsPath('2_class/airplane/airplane_002.jpg'),\n",
       " WindowsPath('2_class/airplane/airplane_003.jpg')]"
      ]
     },
     "execution_count": 178,
     "metadata": {},
     "output_type": "execute_result"
    }
   ],
   "source": [
    "all_image_path[:3]"
   ]
  },
  {
   "cell_type": "code",
   "execution_count": 179,
   "id": "c142358f",
   "metadata": {},
   "outputs": [
    {
     "data": {
      "text/plain": [
       "[WindowsPath('2_class/lake/lake_698.jpg'),\n",
       " WindowsPath('2_class/lake/lake_699.jpg'),\n",
       " WindowsPath('2_class/lake/lake_700.jpg')]"
      ]
     },
     "execution_count": 179,
     "metadata": {},
     "output_type": "execute_result"
    }
   ],
   "source": [
    "all_image_path[-3:]"
   ]
  },
  {
   "cell_type": "code",
   "execution_count": 180,
   "id": "e8cba732",
   "metadata": {},
   "outputs": [],
   "source": [
    "all_image_path=[str(path ) for path in all_image_path]"
   ]
  },
  {
   "cell_type": "code",
   "execution_count": 181,
   "id": "a633c561",
   "metadata": {},
   "outputs": [
    {
     "data": {
      "text/plain": [
       "['2_class\\\\airplane\\\\airplane_001.jpg',\n",
       " '2_class\\\\airplane\\\\airplane_002.jpg',\n",
       " '2_class\\\\airplane\\\\airplane_003.jpg']"
      ]
     },
     "execution_count": 181,
     "metadata": {},
     "output_type": "execute_result"
    }
   ],
   "source": [
    "all_image_path[:3]"
   ]
  },
  {
   "cell_type": "markdown",
   "id": "d51cc74a",
   "metadata": {},
   "source": [
    "### 乱序"
   ]
  },
  {
   "cell_type": "code",
   "execution_count": 182,
   "id": "beb3d5e6",
   "metadata": {},
   "outputs": [],
   "source": [
    "import random "
   ]
  },
  {
   "cell_type": "code",
   "execution_count": 183,
   "id": "7e3da3ac",
   "metadata": {},
   "outputs": [],
   "source": [
    "random.shuffle(all_image_path)"
   ]
  },
  {
   "cell_type": "code",
   "execution_count": 184,
   "id": "2bc31179",
   "metadata": {},
   "outputs": [
    {
     "data": {
      "text/plain": [
       "['2_class\\\\lake\\\\lake_574.jpg',\n",
       " '2_class\\\\lake\\\\lake_070.jpg',\n",
       " '2_class\\\\lake\\\\lake_562.jpg']"
      ]
     },
     "execution_count": 184,
     "metadata": {},
     "output_type": "execute_result"
    }
   ],
   "source": [
    "all_image_path[-3:]"
   ]
  },
  {
   "cell_type": "code",
   "execution_count": 185,
   "id": "70844f1e",
   "metadata": {},
   "outputs": [
    {
     "data": {
      "text/plain": [
       "1400"
      ]
     },
     "execution_count": 185,
     "metadata": {},
     "output_type": "execute_result"
    }
   ],
   "source": [
    "image_count=len(all_image_path)\n",
    "image_count"
   ]
  },
  {
   "cell_type": "markdown",
   "id": "bb46540f",
   "metadata": {},
   "source": [
    "### 添加所有图片的label"
   ]
  },
  {
   "cell_type": "code",
   "execution_count": 186,
   "id": "c23e99b5",
   "metadata": {},
   "outputs": [
    {
     "data": {
      "text/plain": [
       "['airplane', 'lake']"
      ]
     },
     "execution_count": 186,
     "metadata": {},
     "output_type": "execute_result"
    }
   ],
   "source": [
    "label_name=sorted(item.name for item in data_root.glob('*/'))\n",
    "label_name"
   ]
  },
  {
   "cell_type": "code",
   "execution_count": 187,
   "id": "d2e4c0c0",
   "metadata": {},
   "outputs": [],
   "source": [
    "#编码\n",
    "label_to_index=dict((name,index) for index,name in enumerate(label_name))"
   ]
  },
  {
   "cell_type": "code",
   "execution_count": 188,
   "id": "0669f69d",
   "metadata": {},
   "outputs": [
    {
     "data": {
      "text/plain": [
       "{'airplane': 0, 'lake': 1}"
      ]
     },
     "execution_count": 188,
     "metadata": {},
     "output_type": "execute_result"
    }
   ],
   "source": [
    "label_to_index"
   ]
  },
  {
   "cell_type": "code",
   "execution_count": 189,
   "id": "6e00a225",
   "metadata": {},
   "outputs": [
    {
     "data": {
      "text/plain": [
       "'airplane'"
      ]
     },
     "execution_count": 189,
     "metadata": {},
     "output_type": "execute_result"
    }
   ],
   "source": [
    "pathlib.Path( '2_class\\\\airplane\\\\airplane_213.jpg').parent.name"
   ]
  },
  {
   "cell_type": "markdown",
   "id": "c735f250",
   "metadata": {},
   "source": [
    "所有的label"
   ]
  },
  {
   "cell_type": "code",
   "execution_count": 190,
   "id": "626aeaea",
   "metadata": {},
   "outputs": [
    {
     "data": {
      "text/plain": [
       "[1, 1, 0, 1, 0]"
      ]
     },
     "execution_count": 190,
     "metadata": {},
     "output_type": "execute_result"
    }
   ],
   "source": [
    "all_image_label=[label_to_index [pathlib.Path(p).parent.name] for p in all_image_path]\n",
    "all_image_label[:5]"
   ]
  },
  {
   "cell_type": "code",
   "execution_count": 191,
   "id": "8d2315d0",
   "metadata": {},
   "outputs": [],
   "source": [
    "import IPython.display as display"
   ]
  },
  {
   "cell_type": "markdown",
   "id": "acbdcc10",
   "metadata": {},
   "source": [
    "index_to_label 标签，看转换成文字方便检查"
   ]
  },
  {
   "cell_type": "code",
   "execution_count": 192,
   "id": "f6bd19a0",
   "metadata": {},
   "outputs": [],
   "source": [
    "index_to_label=dict((v,k) for  k,v in label_to_index.items())"
   ]
  },
  {
   "cell_type": "code",
   "execution_count": 193,
   "id": "5e7e46c1",
   "metadata": {},
   "outputs": [
    {
     "data": {
      "text/plain": [
       "{0: 'airplane', 1: 'lake'}"
      ]
     },
     "execution_count": 193,
     "metadata": {},
     "output_type": "execute_result"
    }
   ],
   "source": [
    "index_to_label"
   ]
  },
  {
   "cell_type": "markdown",
   "id": "a88ecdd1",
   "metadata": {},
   "source": [
    "随机打印3张图片"
   ]
  },
  {
   "cell_type": "code",
   "execution_count": 194,
   "id": "07f077f9",
   "metadata": {},
   "outputs": [
    {
     "data": {
      "image/jpeg": "[encoded data removed]",
      "text/plain": [
       "<IPython.core.display.Image object>"
      ]
     },
     "metadata": {},
     "output_type": "display_data"
    },
    {
     "name": "stdout",
     "output_type": "stream",
     "text": [
      "airplane\n"
     ]
    },
    {
     "data": {
      "image/jpeg": "[encoded data removed]",
      "text/plain": [
       "<IPython.core.display.Image object>"
      ]
     },
     "metadata": {},
     "output_type": "display_data"
    },
    {
     "name": "stdout",
     "output_type": "stream",
     "text": [
      "lake\n"
     ]
    },
    {
     "data": {
      "image/jpeg": "[encoded data removed]",
      "text/plain": [
       "<IPython.core.display.Image object>"
      ]
     },
     "metadata": {},
     "output_type": "display_data"
    },
    {
     "name": "stdout",
     "output_type": "stream",
     "text": [
      "lake\n"
     ]
    }
   ],
   "source": [
    "for item in range(3):\n",
    "    image_index=random.choice(range(len(all_image_path)))\n",
    "    display.display(display.Image(all_image_path[image_index]))\n",
    "    print(index_to_label[all_image_label[image_index]])\n",
    "    "
   ]
  },
  {
   "cell_type": "markdown",
   "id": "16add883",
   "metadata": {},
   "source": [
    "### 图片加载\n",
    "使用tensorflow的方法提取图片\n",
    "- tf.io.read_file(image_path)\n",
    "- 解码 tf.image.decode_image(img_raw)\n",
    "\n",
    "可以写成一个函数实现"
   ]
  },
  {
   "cell_type": "code",
   "execution_count": 195,
   "id": "5ac28e51",
   "metadata": {},
   "outputs": [
    {
     "data": {
      "text/plain": [
       "'2_class\\\\lake\\\\lake_299.jpg'"
      ]
     },
     "execution_count": 195,
     "metadata": {},
     "output_type": "execute_result"
    }
   ],
   "source": [
    "image_path0=all_image_path[0]\n",
    "image_path0"
   ]
  },
  {
   "cell_type": "code",
   "execution_count": 196,
   "id": "4e1ccabd",
   "metadata": {},
   "outputs": [
    {
     "data": {
      "text/plain": [
       "<tf.Tensor: shape=(), dtype=string, numpy=b'\\xff\\xd8\\xff\\xe0\\x00\\x10JFIF\\x00\\x01\\x01\\x00\\x00\\x01\\x00\\x01\\x00\\x00\\xff\\xdb\\x00C\\x00\\x08\\x06\\x06\\x07\\x06\\x05\\x08\\x07\\x07\\x07\\t\\t\\x08\\n\\x0c\\x14\\r\\x0c\\x0b\\x0b\\x0c\\x19\\x12\\x13\\x0f\\x14\\x1d\\x1a\\x1f\\x1e\\x1d\\x1a\\x1c\\x1c $.\\' \",#\\x1c\\x1c(7),01444\\x1f\\'9=82<.342\\xff\\xdb\\x00C\\x01\\t\\t\\t\\x0c\\x0b\\x0c\\x18\\r\\r\\x182!\\x1c!22222222222222222222222222222222222222222222222222\\xff\\xc0\\x00\\x11\\x08\\x01\\x00\\x01\\x00\\x03\\x01\"\\x00\\x02\\x11\\x01\\x03\\x11\\x01\\xff\\xc4\\x00\\x1f\\x00\\x00\\x01\\x05\\x01\\x01\\x01\\x01\\x01\\x01\\x00\\x00\\x00\\x00\\x00\\x00\\x00\\x00\\x01\\x02\\x03\\x04\\x05\\x06\\x07\\x08\\t\\n\\x0b\\xff\\xc4\\x00\\xb5\\x10\\x00\\x02\\x01\\x03\\x03\\x02\\x04\\x03\\x05\\x05\\x04\\x04\\x00\\x00\\x01}\\x01\\x02\\x03\\x00\\x04\\x11\\x05\\x12!1A\\x06\\x13Qa\\x07\"q\\x142\\x81\\x91\\xa1\\x08#B\\xb1\\xc1\\x15R\\xd1\\xf0$3br\\x82\\t\\n\\x16\\x17\\x18\\x19\\x1a%&\\'()*456789:CDEFGHIJSTUVWXYZcdefghijstuvwxyz\\x83\\x84\\x85\\x86\\x87\\x88\\x89\\x8a\\x92\\x93\\x94\\x95\\x96\\x97\\x98\\x99\\x9a\\xa2\\xa3\\xa4\\xa5\\xa6\\xa7\\xa8\\xa9\\xaa\\xb2\\xb3\\xb4\\xb5\\xb6\\xb7\\xb8\\xb9\\xba\\xc2\\xc3\\xc4\\xc5\\xc6\\xc7\\xc8\\xc9\\xca\\xd2\\xd3\\xd4\\xd5\\xd6\\xd7\\xd8\\xd9\\xda\\xe1\\xe2\\xe3\\xe4\\xe5\\xe6\\xe7\\xe8\\xe9\\xea\\xf1\\xf2\\xf3\\xf4\\xf5\\xf6\\xf7\\xf8\\xf9\\xfa\\xff\\xc4\\x00\\x1f\\x01\\x00\\x03\\x01\\x01\\x01\\x01\\x01\\x01\\x01\\x01\\x01\\x00\\x00\\x00\\x00\\x00\\x00\\x01\\x02\\x03\\x04\\x05\\x06\\x07\\x08\\t\\n\\x0b\\xff\\xc4\\x00\\xb5\\x11\\x00\\x02\\x01\\x02\\x04\\x04\\x03\\x04\\x07\\x05\\x04\\x04\\x00\\x01\\x02w\\x00\\x01\\x02\\x03\\x11\\x04\\x05!1\\x06\\x12AQ\\x07aq\\x13\"2\\x81\\x08\\x14B\\x91\\xa1\\xb1\\xc1\\t#3R\\xf0\\x15br\\xd1\\n\\x16$4\\xe1%\\xf1\\x17\\x18\\x19\\x1a&\\'()*56789:CDEFGHIJSTUVWXYZcdefghijstuvwxyz\\x82\\x83\\x84\\x85\\x86\\x87\\x88\\x89\\x8a\\x92\\x93\\x94\\x95\\x96\\x97\\x98\\x99\\x9a\\xa2\\xa3\\xa4\\xa5\\xa6\\xa7\\xa8\\xa9\\xaa\\xb2\\xb3\\xb4\\xb5\\xb6\\xb7\\xb8\\xb9\\xba\\xc2\\xc3\\xc4\\xc5\\xc6\\xc7\\xc8\\xc9\\xca\\xd2\\xd3\\xd4\\xd5\\xd6\\xd7\\xd8\\xd9\\xda\\xe2\\xe3\\xe4\\xe5\\xe6\\xe7\\xe8\\xe9\\xea\\xf2\\xf3\\xf4\\xf5\\xf6\\xf7\\xf8\\xf9\\xfa\\xff\\xda\\x00\\x0c\\x03\\x01\\x00\\x02\\x11\\x03\\x11\\x00?\\x00\\xf3V\\xb3,\\xa0\\xa89\\xc7\\x1c\\xd4r\\xa9\\x82=\\xc12G^j\\x0b[\\xa6\\xb6\\x93\\x0e\\xad\\xb4\\x9ekMeY\\x97(U\\x81\\xf5\\xac\\x9d\\xd1\\x92\\xb33P\\xbb\\x858\\x1e\\xbd*,\\xb2\\x12[\\x95\\xf6\\xa7\\xc8\\x8d\\x1c\\xae#9\\xc1\\xc63M\\x8aW2\\xed+\\xd7\\xadQ\\x0c\\x00\\xc8\\x12)\\xf9\\x7fZF\\x90\\x96\\xc2\\x9eI\\xeaiB2\\xb3\\x93\\xf7I\\xc1\\xc5$h<\\xa6c\\x8c\\x83\\xc04\\xc0\\x90\\xc3\\xce\\xe0\\xf952?\\xe1LQ\\xb8\\x03\\xf9b\\x87a\\x1a\\x17?\\x80\\xa9.%\\x8f%\\xa5\\x88\\x8e0\\x7f\\x88\\xf6\\xaaH\\x92[\\\\\\x07n@<\\xe0\\xd4\\xf0\\xcd\\xe6FN\\x08^\\xe3=iv\\xef}\\xbdsM2\\x9a\\xd0\\xafs \\x12\\x89\\x90|\\xa4\\xf4\\xe9VmnV_\\x96N\\xa4w\\xefPK\\td##\\x1e\\x95Mw\\xc4\\xd8\\xe4\\xe3\\x9ej\\xac\\x99)\\xb4h\\\\\\x04\\n\\xc00\\xdb\\xda\\x96\\xd6u\\x94\\x08\\xcf,\\xbd\\xfd\\xaa\\x07\\x95n\\x91v\\x8c7\\xa5>4\\xf2W9\\xc9=\\xe9l\\x81\\xbdK\\xe2@\\x8d\\x8c\\x12I\\xe2\\xa0\\x99\\xcb1L\\xe4\\x0eM:\\x19c\\x00y\\xa0\\x9e\\xe3\\x1d\\xcf\\xa5F\\x03\\xbc\\xec\\xde[\\x1d\\xdd\\x94T\\x8eR\\xbe\\x82\\xa1Q\\xd3\\x03>\\xb4\\xec\\xb0\\x91_\\xe5 \\x9cc\\xd2\\x9c\\xf0*2\\xe6@\\xa3\\x1c\\xef<\\x8f\\xc2\\xa3\\xfd\\xc8\\x95Ivq\\xd8\\xaf\\xca\\r\\x026,\\x97N\\xb7\\xb2\\x13\\xdc\\x86y\\x89%b\\x1c\\xab\\xfb\\x1fN\\xdc\\xfbUv\\x91on\\x7fs\\x00M\\xc9\\x82\\xa9\\x93\\xcdW{\\xc0\\x8c\\x12(P\\x0c\\xf5c\\xb8\\xd3\\xa3i\\x8eH\\x95\\xb0\\xbd\\x81\\xc0\\x14\\xackuk\\x1b\\x1a\\\\Mkn\\xcbr\\xd1\\xc2\\xa4\\xe7t\\x8c\\x07oJn\\xf8\\xdb\\xe5\\x9a\\xe9\\xa4\\x1dq\\x1a\\xf1\\x9f\\xa9\\xa8\\xe0\\xd3%\\x92?5\\x80\\x00\\x0f\\x97\\'4Z\\\\\\xe9\\x96\\xac\\xcdu#K <*\\x03\\x8a\\x86h\\xafk\\x1a\\x16\\xf3\\x99\\x99\\x8cp\\xa8T\\x1fy\\xc6\\xe2?\\xa5Mq\\xa8\\x98\\xe2\\xf2\\xa4p\\x03vQ\\xb7\\xf9S\\xda\\xff\\x00d\"H\\x95!\\x8ba\\x19U\\x00\\x9fL\\x8a\\xe7\\xefoRpO\\x04\\x83\\x80\\xd9\\xea})E6\\xc6\\xe5df\\xdd3<\\x92m`\\xaa\\xcd\\xf9\\n\\x86\\xdc\\xb7\\xf0)b>Q\\xf4\\xa7\\xc8\\xcd*\\xba\\xab*\\xb0\\x03v;{U\\xfb;}\\x91\\x1d\\xc3\\x92\\x00Q\\x9ekf\\xd2F\\t6\\xcdX!\\x0bo\\x1b3\\x81\\xc0\\x04\\x8e\\xa2\\x96)\\xa4\\xb6f\\x91\\x1f(}G4m\\x98\\xc5\\x14\\\\\\x04^N8\\xab\\x12\\xa4\\x0f\\x12$\\x1b\\x98\\x1f\\xbeOo\\xa5e\\xb9\\xd0\\xa3\\xa1B\\xe7s\\xb3:)*\\xdc\\xe0\\x1c\\x8cS\\xa0\\xba\\xd9\\x85\\x99C\\'N{T\\xb0\\xca\\xf6q\\\\!\\x07c\\xa6\\x18\\x81\\x82=\\xaa\\x89\\x1e|E\\xa3BUx s\\xf3\\x1e\\x05\\t\\x12\\xdd\\x8e\\x86\\x0b\\x88\\xe7P\\xa3\\x0c\\x8a:\\x8e\\xff\\x00\\x85O=\\xef\\xd8mD\\x88\\x83,p2zV\\x01H\\xf4{\\xcb\\\\\\xbb\\x19\\x8e\\x1ah\\x97\\xaa\\x920\\x07\\xd0\\xe7\\xb5I{ssr\\xa5J\\xc5\\x18\\'\\xfdZ\\x9c\\xe3\\xf3\\xa5\\xcbv?idr.\\xcd \\xe7\\xb7ZbHa\\x93 \\xe0zT\\xf1\\xc4\\'bwm\\xe7\\x91V\\x85\\xa0\\x8d\\x1bp\\x05H\\xeak[\\x9c\\x9c\\xa5\\x10\\xd9b\\xc7\\xa99\\xebNh\\xf7(`pz\\x83K\\xe4\\xb4M\\x8e\\xa8\\x7fJ\\x08\\xc3\\x15\\' \\x1e)\\x82BE0\\xd9\\xb5\\xb9#\\x82\\x0fzf\\xdf*R\\xbc\\xedn\\x99\\xa6\\xc8\\x84\\xb6\\xe5\\x15*\\xa7\\x9a\\xa3vw\\x0e:\\xd0\\x1dI\\x10lN:\\x9e)\\x97\\xd9DQ\\x8e\\xbc\\xd2\\x93\\xf6|\\x16\\x1b\\x90z\\xd4s\\xac\\x93\\x80\\xa8\\xa5\\xd8s\\xc5\\x08\\xa6\\xb4&\\xd3`\\x92K\\xa8\\xe1\\xdd\\xb7x\\xeb\\x9e\\x82\\xac\\x98|\\xb9\\n>\\x15\\x94\\xe0s\\x9e)\\xb6z|\\xf1D%v\\x11\\x16\\xceK\\xb0\\x18\\x15r%\\xb1\\x8dKO;HI\\x1f\\xea\\xd3\\xfa\\x9a\\x96\\xca\\x84t*\\xbcc\\x93\\xfc=\\x8dV\\x96\\x06c\\x98\\xd0\\xb3\\x1e\\xd8\\xad#y\\x04m\\x88\\xad\\xfe^\\xc6C\\xb8\\xd4\\x12\\\\H\\xf9\\x05\\xf0\\x0f8\\x03\\x02\\x88\\xb6\\x874\\x8aV\\xb6\\xae\\x03<\\x80G\\xcfs\\xfd*\\xc1H\\x91w|\\xcf\\xec\\x06*\\x10\\xd9o\\xa5K\\x9d\\xab\\xd4\\xfd*\\x99\\x88\\xd3q\\xb7\\x1e\\\\J\\xbe\\xe4d\\x8a\\x85\\xa7\\x94\\xa1\\xdc\\xed\\x8c\\xf03O`A\\xf4\\'\\xb5D\\xc9\\x9c\\x0e\\xd9\\xa3A\\x96\\xee\\x85\\xa46\\xf14R\\x19fu\\xcb\\x8e\\xcbUc\\x1bv7\\\\r*2\\xa0.y\\x15*\\x901\\xc62;\\xd3\\xb0\\xaf\\xa9cq%F\\xd09\\xcej\\xc4g \\x82v\\xfb\\xd5ue 0\\x19\"\\x950\\x01\\xdc\\xd8\\xa5\\xb9\\xb2\\xb2\\xd4\\xe9\\xef\\xf5%\\xb5\\xd3\\x96\\xde\\xd8\\xab\\xcb$`n\\x03\\xa5r\\xbbH\\xe0\\xfe9\\xab0\\xcc\\xa0\\x08\\xb3\\xb7\\x9cf\\xa4h\\xb7a\\xc0\\x18\\xecjR\\xe5\\tO\\x98X\\xe6\\xcc~d\\x84\\xb9\\x03\\x18\\xaa\\x8d\\xbeG*\\xcc\\x14c\\x80\\x0f\\x03\\xda\\xa6\\xb9D\\xfb0tp0ps\\xdc\\xd5H\\x0e\\xd9\\x01\\xdb\\xbb\\x07\\xd2\\x9a!\\xca\\xe4\\xd6q\\x06\\x928\\xc0\\x1c\\x91\\xbb\\x02\\xba\\tDQ\\xdb*|\\xdfi\\xdcw\\x0c\\x0cc\\xb6+7A\\x829\\xb5h\\xd2B\\xc1A\\xcf\\x15\\xb3\\xa8&\\xe9\\xc6\\xc5\\xe5rF8\\xe2\\xa2OSZkK\\x91\\xc7s\\xbd\\x02\\x15\\xe1z\\xe0u\\xaa\\xf7:\\x9c\\x9as\\x13\\x0fV89\\xe9\\x8a\\xd8\\xb1\\xb1\\x8eh\\x0b\\xb3\\xacL\\x17<\\xf4&\\xb8\\xcdFW\\x92\\xf1\\x94cb\\x12?\\xfa\\xf4E\\\\\\xba\\x92qE\\xcb\\xdde\\xee`\\xd8\\x81Sx\\xc3\\x9fj\\xcb\\xe0(\\xe7$\\x0c\\xe2\\x9b\\xf7\\x8e:\\xd4\\xc9\\xe5\\xab\\x00z\\xf4\\xce3ZX\\xe7rr\\x08\\xb7\\x12[v\\x0f\\xf7\\x9a\\xb4\\xad\\xd5\\x9ah\\xe6\\x9a@\\xa0\\x9c\\x1c\\x1ep)\\x92C\\x03*\\xf2>U\\xe4\\x9alM#!\\x95\\x88\\xf2\\x90\\xe1W\\xaei\\t\\x14\\xc0E\\x91\\xa4\\x83\\xee\\xf5 \\xd2;<\\x999\\xa6\\xaf\\xca\\x08\\xcf\\x07\\x9a8\\x0b\\xcei\\x949NN\\x0b{\\xe3\\xd6\\x9a\\xdf\\xbc=9=\\x85,hd\\xe1z\\x9f\\xd2\\xa6YV3\\xb22\\x14w\\x93\\x1c\\x9a@\\x91\\x17\\x94\\xc3;\\x82\\xae=N)\\xd8E\\x1b\\x8b\\x16\\xf5\\xda\\xbf\\xe3N\\xd9\\x1a\\x9d\\xd9\\xc9\\x1d6\\x8e\\xb4\\xf3\\n\\x9bR]3+\\x92rd\\xfb\\xa3\\xe9@\\xf4C\\x1eh\\x95r\"BFI\\xf3\\x0eH\\xaa\\x86\\xfa\\xe6S\\xb4\\xbb\"daTc\\xf9U\\x9f\\xb3\\xa9PZ=\\xe4\\x1c\\xf5\\xc0\\xa9\\xd87\\x96\\x1a[@\\xc8\\xdc\\x02(D\\xde\\xfa\\r\\x85\\xed\\xd9BJ\\xce\\xdc\\xff\\x00\\x08\\xa8\\xcb\\xa8\\x0e\\xa1\\x08\\x00\\xe0\\x03\\xc9\\xa6\\x08\\xad\\xa4\\'axO\\xb9\\xa50l\\xf9\\x8d\\xcc|\\x8fZ,i{n8\\xa6\\xf00\\xd8\\xe3\\xbdF\\tF\\xe0\\xe4\\x03\\x8ei|\\xc8\\x86\\x01\\xb9@\\xdd=h\\xcc\\x00m7Q\\x13\\x93M\\\\\\x894\\xc6\\x0c\\x17\\xc0\\x1c\\x9fJ\\x91\\xc1R85\"=\\x92\\xc6\\x1b\\xed \\x9c\\x85\\x07\\xb5@\\xfa\\xc2\\x89\\xe4\\x11\\xc6<\\xb5\\xe1F:\\xfb\\xd2\\xd5\\x93by\\x86\\xf4\\x8d\\xc0#\\xb1\\xcdF!\\x0cI\\xe8\\xa3\\xadD\\xda\\xd1\\xdb\\x86\\x85\\x0e0s\\x8c\\xd5\\xd8\\xae\\xac\\xee\\xed\\xc7\\xef\\x04lNXRi\\xa0\\xb5\\xcaF<\\xf3\\xd0c\\x8ai\\x0eU\\x15N\\xe0;\\xd5\\xbf\\xed\\x1bD\\xe3c\\x11\\xb79\\xc6)-\\xefm\\tfD\\xe0\\x0c\\xe3\\xfci\\xdd\\x87)^0\\xe8HQ\\xc9\\xf5\\xab1\\xdb\\xdc\\x00\\x99L\\xef?)\\xc5\\x0b}d\\xd1\\x89%\\xca\\x1c\\xf2\\xa0\\xff\\x00*l\\xfa\\x9c\\x86V\\x11\\xcaR\\x12\\x06\\x14u\\xa3V\\x0e\\xc8\\x9e\\xe6X\\xed\"\\x1e`C\\xb4\\xe3\\x8erO_\\xad7\\xedm0X\\xc22\\xe4d\\xe6\\xb3J5\\xc4\\x8b\\xbd\\x8e\\xd59\\x19\\xebZ& v\\xbaHPua\\x9e\\xa6\\x86\\x92Ds_bib+`\\x83\\xcbU\\xe7\\x96<\\x9a\\xa3\\x16U\\xce\\x0f5\\xa5\\x12\\t3\\x12H\\xbed\\x9f\\xdf\\xe7\\x1fJ\\xaf2\\xac\\x12\\xb4C.\\xe0\\xe0\\x1fZI\\xd8\\xab\\x13\\xd8\\xbf\\x97}\\x14\\x91\\x83\\xb8\\x1c\\x1c\\x8e=+v\\xe2@\\xd2\\x83\\x1e2x\\xaeb+\\x86\\x86\\\\\\xe7\\x18=\\xebn\\x1b\\x9bk\\xab\\x7f,+-\\xd1\\xe39\\xe3\\x15\\x12OsxOK\\x13]\\xc8\\xff\\x00g*\\x8c@c\\xc1\\x15\\xcc\\xdcF\\x1a\\xe9\\xf8\\xdb\\x8fz\\xe9\\xe2\\xb2u\\x89\\xf0Y\\xb6\\xe3\\xb7J\\xc6\\xd4-\\xb6\\xce\\x92\\x1e\\x8f\\xc6\\x08\\xf4\\xa7\\x06\\x13M\\xea\\xcc\\xb20\\xc0\\xa8n\\xbd\\x07z\\xb1\\x04O\\x93\\xf2\\xe3\\'\\xbfZE\\x90D\\x98p\\xd9\\xdd\\xc7\\xbd[3\\x18-w`3\\xc8N3\\xdb\\xdf\\xf9V\\x8c\\xcd\\x82\\xc5\\x15\\xb5\\xb4\\xaeHgs\\xb1A<\\xfb\\x9f\\xa5)/\\'\\x96\\x1dU\\x10pqU\\x04\\x8b\\x18\\xc36\\xe2;\\x1e\\xde\\xf5\\xa1\\x04J\\xf0;L\\n\\xa9\\x1c`\\xf2i=\\tFJ(\\x18\\x19\\x04\\xd3\\xb0K(<\\x0c\\xd21\\xc19\\x00{z\\xd3\\x80Y\\x08\\xc7\\x00s\\x91\\xd4PP\\xe9\"kvu\\xda\\xdb\\x8f\\\\s\\x81M\\x7f)\\x80\\nX\\x1cd\\xe4p(\\xfb\\\\\\x8a\\x1d@\\x18n\\xb9<\\xd5r\\xc78#\\ny\\xa6\\x1c\\xc2\\x96t9V8>\\xb5<R\\xe1\\xfc\\xdd\\xc7cpW\\xde\\xa9\\x92Y\\x80PX\\xfa\\n\\x9e\\x10D?8\\x03&\\x8b\"%\\xa9\\xa01 \\xca\\x9f\\x96\\xaeA\\x98\\xc2\\x97\\xce\\xc08\\x1fZ\\xcb\\x19\\x8c\\x00\\t\\xc5N\\xb7d\\xc7\\xb5\\xba\\xf65-\\x10\\x9d\\x996\\xa4-\\xde!\\xb3i\\x91\\xbb\\x1e\\xd5\\x83\\xf6\\x05.K\\xca\\x14g\\xa95r\\xe5\\xc3\\x1e\\xb95JE\\xc9\\xc9\\xe6\\xb4\\x80J\\xa9RT\\x11\\xb1<\\x1c\\x1e\\r0\\x15,3\\xd2\\xac\\x15\\x07\\x83Q\\x98\\xb0y\\xab3R\\x11\\xd2>\\x1b\\x83\\x83Rd\\x0e\\x03\\x03\\x9e\\xb8\\xa6\\x88\\xc7\\xa5K\\xe5\\x808\\x14X\\x1c\\x81s\\xdb\\xa5\\x01\\x966\\x03h\\xc7<SI4\\xbc\\x1e\\xb4\\xac5&\\x87\\xee\\xcb\\x92\\xc2\\x85\\x11\\xb3\\x10\\x06\\x07\\xf3\\xa8\\x98\\xf5\\xa5A\\xebG(\\xf9\\x98\\xaeWvv\\x82\\xc3\\xa7\\xb59\\x19\\xb3\\x96=(*1Lf\\xf4\\xa6\\x88m\\xb2x\\xe5\\x00\\x85\\xdd\\xd4\\xf5\\xab@\\x98\\x9dfq\\xbd3\\xf2\\xf3Y\\x83\\'\\xb5h\\xdb\"I\\x16\\xc3 \\x04/z\\x97\\x14\\x8d iY\\xdc[\\xc3!\\x99\\xc6\\xe9\\x18s\\xb4\\xfe\\x82\\xad\\xdbC\\x15\\xe4N\\xb1\\r\\x93\\x9f\\x99K\\x9c\\x9a\\xc2{y-\\x94:\\x9eGOCRY\\xeaDN\\xa5\\x0e\\xd9?\\xbaGSYJ/tj\\xbc\\xc7\\xce\\x8e\\xa4\\x97S\\xc1\\xe4\\xe3\\xa9\\xa8\\x84\\x92#\\x86F!\\x87B+GY\\x9a\\xe31[\\xcd\\x81\\x81\\xb9\\x80\\x1cd\\xd6Q$\\x1cg\\xa58\\x86\\xc7W\\xa2j\\xce\\xc5\\x94\\xb9\\x0e\\xcb\\xb5\\x97\\xfb\\xdf\\x87\\xa5T\\xd5c\\xdd} %\\xce\\xd3\\x95\\xf4\\x15\\xcf\\xac\\x8c\\xae\\x0cd\\xf9\\x99\\x18\\xc7\\xadkBgh\\xe4y\\xdd\\x8b\\x8eiZ\\xce\\xe5\\xba\\x97\\x8d\\x8a\\x06$\\x17\\x1ed\\x92\\x10ws\\xedW\\xa4\"I#\\x8d\\x1836@\\\\\\xfbw\\xaaMw\\x0b)\\xf3\\x15rG\\x1cg\\x1f\\x8fzv\\x9c\\xf1oy&.\\x02|\\xc0w&\\xac\\xcd\\x10\\xb4/\\x1d\\xc6\\xf9A\\xdaO8\\xab\\xfeaHUr\\xd99$\\x9f\\xee\\xf6\\xa4\\x87u\\xdb;d\\xb3\\xb1\\xe3\\'\\x8a\\xd0\\xb4\\xd2\\xbeL\\xccC\\x9c\\xe7\\x03\\xa7\\xe3S)!\\xab\\xbd\\x8c\\x05`\\xd8\\xdd\\xd0T\\xb2\\x85D!\\x01U=Oz\\xae\\x83*{*\\xf2i|\\xee\\x0f\\xa1\\xea\\r\\x16\\x1bb\\x15a\\xcfoZi}\\x8b\\x83\\xd2\\xa6f\\xdd\\x04j\\xb1\\xb89$\\x9f_\\xa5W\\xdd\\x96\\xc0\\xe4\\x9e\\x00\\xf5\\xa6\\x99.\\xc8\\xb5\\x11t\\x02H\\xa3\\x01\\x9b\\xf8\\x8fj\\xbb\\x06\\x95qp\\xe94\\x99\\xd9\\x91\\xc9\\x18\\xaa\\xf6\\xe8\\xf1\\xc6\\xaaI!}j\\xda\\xea\\xee\\x98IpW\\xa0\\'\\xb5&\\xbb\\tIu\\x16\\xf2\\xd7\\xc8\\xdc\\x0bdv\\xac\\xf2\\xc1FZ\\xb6Y\\x96\\xf2-\\xca\\xc0\\xae:\\xe6\\xb0/\\x9dL\\x868\\xcf\\x03\\xa9\\xa7\\x12ge\\xb1\\x13\\xca\\x19\\xf2:Q\\x90j1\\x85\\x14\\xbb\\x81\\xad\\x1a1\\x02\\x9f=#\\xa0#\\xe9R/\\xd6\\x91\\x88\\xa0,D\\xa3\\xd6\\x9f\\x8c\\nv\\x055\\xb2(\\xb8XB\\x99\\x15\\x1b\\x82\\xa2\\xa6\\\\\\xf7\\xa1\\xd7r\\xf1E\\xc6W\\x1c\\x8a\\x90(\\xc6i\\x00\\xc1\\xe9O\\x1ft\\xd3\\x00\\'\\x8a\\x81\\xb1SuZ\\x81\\xa8BLr\\xb1\\x08@=i\\xd1\\x8es\\x9a\\x8c{S\\xe3\\x00\\x1fz\\xa64\\xcdX\\xa6\\x13C\\xb6C\\xf5>\\x95\\x9cm\\xdai\\x81\\xb7\\x05\\x88\\xe9\\x8a\\xb1\\x1b\\x10\\xa4q\\x83UQ\\xa7\\xb7\\x99\\x8a\\x12\\x14r1Y\\x9bFWgQ\\x04\\xb3\\xff\\x00g*j\\x96\\xca\\xb6\\xf1\\x8f\\x94\\x9f\\xbcO\\xa0\\xac)\\x13\\xe6&0@=\\x01\\xad\\x9d?Q\\x8fT\\xd3\\xda\\xd2\\xed\\x80p2\\xa7\\xba\\xd5\\t\\x8cvgj\\xca$\\x9f\\xd4\\x0e\\x17\\xff\\x00\\xafYE\\xeb\\xa9\\xac\\xda\\xb1\\x1c\\x00[0w\\xff\\x00[\\xd9\\x7f\\xba?\\xc6\\xae\\xf9\\xd1y[d\\xea\\xc3\\x9f\\xc6\\xb3\\x03\\xfc\\xe7\\xe6\\x07=sR\\xa7\\xef\\x0f\\x04.x\\xebV\\xe3s\\x15$\\xcb\\xbf`\\xb31|\\xf9\\x0cNC\\x03\\xd6\\x88,m\\xa6w\\x88\\xdc\\x96-\\xd3\\x1dEf\\x1biL\\xac\\x0b\\xb9\\x03\\xa0\\xce\\x050J\\xd6S\\x06\\x0b\\xb7\\x8e\\xa0\\x9f\\xd6\\x8eF4\\xd5\\xf5:\\x88\\xad~\\xca\\x80\\x85\\xfd\\xd8\\xe0U\\xe5\\x90ycnv\\x8f\\xd6\\xb2\\xac51q\\x12,\\xa0\\x92F\\x06h\\xba\\xb9\\xfb<f\\x14o\\xde\\xbf\\n=\\x07\\xadb\\xe2\\xeffox\\xa5\\xa1\\x84\\xc4\\xa2\\x04\\x1dI\\xe6\\x96;g}\\xc1\\x89A\\xc6\\x0f\\xad,{^PJ\\x91\\xb4\\xf5\\xab\\xc7&\\xad\\xbb\\x18Tm\\x16-\\xa3\\x8f8\\x99\\xf01\\x85\\xee~\\xb5Z\\xe2\\x04\\xf3~R\\x08O\\xba\\xd8\\xc1\\xa4\\x0c\\xea\\xd9\\xe8je\\t,\\\\\\x9f\\x9a\\x84JwD(\\xe3iR\\x0f=*\\xac\\xf1\\x92\\xbb\\x8f\\xafJ\\xbe\\x90\\x8d\\x85\\xb1\\xd2\\xa8\\xddH\\x0b\\xedS\\x90:\\xe2\\xae$\\xcbb$\\x91\\xe3\\x07c\\x95\\xfaT\\x07\\x92MK\\x9e*\\x12j\\x91\\x1d\\x044m\\xcd8`\\x8aR*\\x80L\\x0cu\\xe6\\x8d\\xa74\\x84R\\x83\\x81H\\x10\\xe1H\\xc0u\\xcd!$\\xd2c\\x8a\\n\\x1e\\x07\\xa59OcM^\\x05/ \\xd2`2Q\\x83\\xc5FM>F\\xcbc\\xd2\\x98zSB\\x14\\x1e)\\x8d\\x8cqK\\x8c\\x0cw\\xa6\\xb6@\\xc6)\\x88fy\\xa7\\x03\\x8ai\\xe7\\xa0\\xa1A,\\x00\\xaa\\x02\\xcc2\\'|\\xe6\\xa4\\n$VRJ\\xe6\\xa01:8\\x18\\xce}*\\xd4D*\\x85\\xc7\\'\\xf4\\xa9cN\\xc5H\\xe1\\x92\\tX\\x83\\x85\\x1f\\xad=\\x8b\\x0e{\\x9a\\xb5$e\\xb2{\\xd4m\\x1f\\xcb\\xefI\"\\x9blHv\\xbf\\x1d\\xea\\xdd\\xb1Q.\\x08\\xce*\\x91O$\\xa9\\xed\\xfc\\xaa\\xc5\\xbd\\xc4~o\\xef8\\xcfz\\xabhB\\xdc\\xbaybq\\x80j\\x9d\\xd4*\\xf8\\xad\\xc8\\xec\\x0c\\x8a\\x1a6\\xdc\\x08\\xa3\\xec\\n\\xa38\\x19\\xcf>\\xd5\\x9a\\x95\\x99\\xaf#f&\\x8e\\x8d\\xf6\\xe6\\x89\\x9b\\xee\\xf2\\x17\\xd6\\xac^?\\x9b|\\xee\\x98\\xdd\\x9c\\x1a\\x99\\x95m\\xaf\\xa7\\xb8\\x18_*/^\\xacx\\x15V\\x04\\xdd\\x86\\xed\\x9e\\xbe\\xb4\\x9d\\x9b\\xb9J\\xfb\\x00\\xde\\x81\\x91s\\x82x\\x1d\\xabB\\xca5\\x904|\\x16^\\xf9\\xebYl\\xf8a\\x8c\\x01\\x9a\\xb1av\\xb6\\xd7H\\xce\\xc3\\x18\\xc1\\xe3\\xa5KWF\\xba\\x1as\\xd9\\xedPs\\x81\\xfc\\xea\\x8b\\xa9\\x82BW\\xee\\x8a\\xdb{\\x88\\x9e\\x1d\\xe1\\x81\\x0c8=k\\x1a\\xfd\\xe3\\x08\\x88\\xbd{\\xd2D\\xd4I+\\x95\\xe7\\xb9yP\\xaev\\x8fj\\xa4A\\'\\x152\\xd3\\xb6\\x02x\\xaa\\xbd\\x8eK\\xb6Us\\x8e)\\x02\\x8e\\xb8\\xab\\r\\x07qM)\\x81MI\\x0c\\x8bnO\\x1cRr:\\xd4\\xa0q\\xcd\\x05C\\nw\\x02,\\x03\\xcd.\\x05 ;I\\x06\\x9d\\xdb\\x8a\\xa4\\xc0i\\x14S\\x85\\x04\\x81\\xcd\\x00&B\\x8c\\x9a\\x8d\\xdc\\x93\\x91J\\xc7uFFx\\xa0a\\x8c\\x9c\\xd3\\x82\\x96l\\n\\x02\\xd4\\xb1\\x0cf\\x86\\xec$*\"\\xaf^M\\x0c\\x10\\x91\\x95\\x14\\xf0\\xa0\\x9e(e\\xc0\\xe6\\xa51\\xb4D`\\\\|\\xb4\\xc4\\xc2\\x921\\x83Rd\\xf6\\xa3f\\xe0}j\\xbdD0\\xc8\\xeb\\xc8\\x19\\xa7g\\x03>\\xb4\\xcd\\xcc\\xa3\\x04q\\xde\\x82w\\xc7\\xf2\\xf5\\xaaH\\x0b+:\\x94\\x19#p\\xa6\\xb92\\xecUS\\xbd\\xb9\\x00\\x0c\\xe6\\xa3X\\xc2Z\\xb4\\x922\\x87|\\x04\\x18\\xea;\\xff\\x00\\x9fz\\xb54>B\\xee\\x19\\x01\\x97\\x07\\x8e1\\xda\\xa5\\xc9#h\\xc1\\xb5r\\xb4\\xc5\\x81dl\\x12\\x87\\x1cs\\xcfz\\x9e\\xd5#\\x99p\\xe8\\x0f\\xb5RM\\xd8\\xd9\\x92\\xaaNx\\x15\\xbd\\xa6\\xc4\\x1e\\x01.\\x08#\\x83\\xefM\\xbd\\x04\\xa9\\xeb\\xa1~\\xc8\\xfd\\x99\\n\\xae\\xe2;\\x03\\xda\\xa7P\\x1bq/\\xb5\\x9b=zR\\xdb\\xaeN\\xd2~\\\\q\\x91S=\\x89q\\x8e\\xc4V\\x1dM\\xed\\xa1\\x8c\\xcce\\xd2\\xef$\\xc0\\x12\\x96\\x1b\\x9b\\xd8v\\x15R\\xcd\\x1aw\\xd8\\xb8\\xf6\\xab\\x16\\xcb\\x8b\\xcb\\x8bBB\\x868\\x19\\xab\\x10[6\\x9f9\\xf3\\x07=\\x8f\\xad\\r\\x91k\\xbb\\x982\\xbeT\\x11\\xc1\\x1dj\\xb6\\xf2[\\xa6MHq\\x82\\x0fJ\\xb5\\x16\\x9c\\xf3D\\xd2\\xc32d\\x1c\\x0fN\\x95w\\xb0\\xecj\\xda\\xe6\\xd3HU\\x97\\x1b\\xb9l\\x0e\\xc2\\xb1\\xa5\\x9d\\xa4\\x98\\xb1\\xeej\\xec\\xf7\\x12=\\xbaC!\\x05\\x90rGsT\\nsI\\x18T\\x95\\xdd\\x89\\x81\\x19\\xa9\\x94\\x8c\\xd4(UG=\\xa9\\xdb\\x94\\xf4\\x14\\x99\\x918e\\xc1\\xa8\\xdc)\\x1di\\x8cM1\\xb284$R\\x18\\xce\\x17\\x8e\\xd4#\\x0c\\xfbSX~4\\xd1\\x95<t\\xabH\\x05\\x98\\x0e\\xa2\\x98\\xad\\xce*V\\xf9\\x93\\x15\\x00\\xe0\\xd3@HN\\x050\\xe5\\xbe\\x94g\\xd6\\x8c\\x13\\xc6)\\x80d\\nB\\t\\xe4\\nFR\\xa7\\xa5K\\x07\\r\\xcfA\\xd6\\x81\\x91\\x16 sSC\\x8c{\\xd3\\\\\\xc6\\xcf#\\x12\\x15\\x94eF:\\xd2\\xa1_+pn\\xfc\\xd1\\xb8\\xdcZW%\\xe9\\xcd4\\xb6\\xef\\xc2\\x9aX\\x11\\xc55\\x01\\xce)$N\\xac\\x96\\x18\\xdag#\\xa2\\x8a\\xbde\\xa5\\xcbs\\x11\\x90\\x15\\x0b\\xbbh$\\xf2~\\x95I\\x18\\xa8)\\x8e\\x1b\\xaf\\xff\\x00\\xae\\xba\\xdd\\x0f\\xec\\xcd`\\x19\\t\\x12\\x8e\\ng\\xa0\\xedY\\xd4mj\\x8e\\xca\\x14\\xd4\\x96\\xa7/qe$\\x17\\r\\x13\\xaeN2\\x08\\xe4T\\r\\x10B\\x80\\xe3\\xe78\\x1d\\xab\\xa2\\xd5-\\xda$\\xfbZ\\xb0R\\x87\\x04\\xff\\x00t\\x7f\\x8dboi\\xe6y\\xa5\\xcb;\\x0e\\x0e>\\xe8\\xaa\\x84\\xee\\x82\\xa5$\\x9e\\x81qo\\xfb\\xc8\\xe1\\xf37C\\x18\\xe3\\x8e2z\\xff\\x00\\x9fj\\xb6\\xb1\\xb3\\xc2\\x8a\\xe4mC\\x84\\xc7R?\\xadSpg\\xe0\\xb9*)0\\xc1\\xd1\\xf7\\x92A\\x18\\xf6\\xa4\\xc7\\x1d\\x04\\xbd\\x8cI8`\\n\\xe0`\\x83\\xed\\xde\\xba\\r(D4\\x95\\xdd \\\\\\x12\\t>\\xb5\\x8bt\\xe2I\\x93o\\x05\\x06\\x08\\xa4Fi\\x97\\xcb\\x91\\x8f\\x92\\x87q\\\\\\xe0c\\xdf\\xd6\\x8e\\x82\\xd9\\x9d]\\xb4.\\xb1\\r\\xe7s\\x03\\xd7\\xb1\\x15t6\\xe8\\xf6\\x81\\xf8\\xd4\\xba\\\\k6\\x8bi!\\xeac\\xc6G9\\xfa\\xd4\\x1a\\x9e\\xa5c\\xa4\\xdb\\xf9\\x93\\x1c\\xbbp\\xa8\\xa7\\x965\\x1b\\xb3F\\xac\\xaer\\x9a\\x86\\xd8\\xb5Is\\x8d\\xddpN\\x08\\x15\\xb1,i}\\x15\\xbd\\xccO\\xba5P\\x0e\\rq\\xd77r]_=\\xd3\\x81\\xb9\\x9b8\\xf6\\xf4\\xad\\xdf\\x0e\\xea-\\r\\xc0\\xb5\\x9d\\x94\\xc1)\\xc2\\xf6\\xaa\\x9a1\\x84\\xae\\xc8\\x0e\\x96\\xc4\\x80dA\\x80~lg\\x9al\\xcf\\xf6t\\x10#\\x92\\x07,OsV.g\\xd8\\x9b\\xa3p\\xdfCYE\\xfc\\xc79\\xeb\\xebR\\x93{\\x99\\xceod\\x1fy\\xaaR\\x9e\\x82\\xa2.\\x8b\\xdf\\'\\xda\\x95\\xae\\x98t\\x03\\x8e\\x95Z\\x99\\xa86!\\x8d\\xc19=hP\\xc0\\x02y=\\xf1H\\x82I\\x18\\x91\\xf7\\x80$\\xe5\\xb1BD\\xcc\\t\\xe0{t\\xaa\\xb1\\xa4i\\xa2e\\x966!w\\x0c\\xfb\\xd3\\xa5^3\\x8f\\xadW\\x95U\\x0f*0{\\x8fZX\\xdd\\x86\\x01\\'i\\xe8M+\\x138Xi\\x194\\xc3\\x90qRc\\xf7\\x9did\\x8f\\xb8\\xe9Us!\\xa3\\xd2\\xa0\\x90\\xe1\\xcdJ\\x01\\x14\\xa25\\xceOz`6\\x14/\\xce*\\xc8\\x01GJf\\xf0\\xa3\\x03\\x8a\\x91Hq\\x8e\\xf5.\\xe1q\\xb2FYr\\x06j\\xac\\xbf Rs\\xeaG\\xb5h\\xa2\\x9d\\x8c;\\x91\\x81Uc\\xccw*e]\\xe0|\\xb9n\\x9f\\x85\\t\\x9a\\xd2\\x8d\\xde\\xa3mcK\\x8b\\x95\\x12))\\xce@\\x1c\\xe3\\xfc)\\x03F\\x14\\xec\\x81\\x95G\\xdc=\\x8f\\xd6\\xae\\xce\\xc8\\xcc\\xc6\\x17\\xf2\\xc8\\x18\\xc0\\x1c\\x11\\xefU\\xd4`\\x86\\xdd\\x801\\xb7\\x8a.t\\xb8t#X\\x80e`\\x87\\xfd\\xa0O\\x04\\xd4\\xa2 \\xaed\\n\\xa1\\xf3\\xc2\\x9eqV\\x15L\\xcaB\\xaeJb\\x9c\\xd6\\x8eH\\'\\x0b\\x91\\x9c\\x0eE&\\xc1A\\x15\\x8c\\x81bpc\\xcb7\\xcb\\x93\\xda\\xb5\\xb4)\\xde+\\xb4\\x84\\x0c\\tq\\xd7\\xbe+/\\xcb\\x93~\\xd4m\\xd9\\xff\\x00g?\\xce\\xadZ\\xdbJ&Y\\x0b2\\xedl\\xe4\\x9cg\\xda\\x94\\xadb\\xa1t\\xce\\x9bR\\x87\\xcd\\xf3c\\x97by\\x8b\\xd0t\\xac\\x1bqo\\x04[X\\xa8a\\x90\\xe4\\xe0\\x13R\\xde\\xeaj\\xac\\xa9\\xc3\\xb2\\x8e\\xdd\\x05bI\\x96r\\xe4|\\xe4\\xf3S\\x18\\xb4\\\\\\xe4\\xba\\x13I2\\xee`\\xbd;\\x10:\\x8a\\x13\\xc8\\x93c6G\\xbe)\\x90\\xae\\xe7\\\\/9\\xc75\\xa8\"Q\\xf2\\xaa\\x00>\\x95m\\x99n\\xcc\\xf9\\xfc\\xb7\\x00\\xab\\x0f\\xa9\\xefK\\x1bm$\\x1c\\xe1\\x86\\x1b\\x02\\x99* \\x96M\\xbc\\x85\\xe9K\\t.\\x9b\\ng\\x8e\\xb9\\xe9@\\xcd\\x8b\\x0b\\xa1\\x0ck\\x1bK Ll\\x1b[n\\x07\\\\\\x8e\\xd5\\x9b}n/\\x99L\\x92gi8c\\xc19\\xa7F\\xac\\xee\\x15y8\\xe9V\\xd6\\xd9\\xd5>e\\x04\\x11\\xcf\\x15)\\xd8\\x1f\\xbc\\xace\\x1d#\\xe7!_\\x03\\xb5U\\x86\\x1d\\xd7\\x11\\x82\\xc59\\xe4\\x8e\\xd5\\xd4\\xc1l$M\\xcc\\x00\\\\u\\x19\\xed\\xdb\\xde\\xad&\\x99l\\x15d)\\x1e2I\\xe7\\xfa\\xd0\\xeatbT\\xb5\\xd0\\xe2\\xa2\\x0eA#\\x18\\x1c\\x8cR\\x92\\xdc\\xe78=\\xa9O\\xcb\\xc68\\x14\\xd6c\\xbb\\x00\\x9cU\\xa36*\\xa3u<\\n\\x9e(\\xf6\\x86 #epwv\\xaa\\xa5\\x88<r\\r_\\x8a\\xe1D\\x00m\\x00\\xfaP4\\xeeW\\x82\\xd6E\\xfd\\xebaG sR?\\x97\\x00R\\xe5\\x8f<\\x91\\xda\\x94\\xb9\\xdb\\x8d\\xc7\\xafC\\xcdE7\\xcd\\x11\\xc9\\xe0\\xf3Hz-\\x82\\xe1\\x84\\xab\\xb8d\\x0e\\x83\\x15\\n\\xb6\"\\xc6y\\x0c\\x0f^\\x82\\x9b\\x1f\\x01\\xb7\\x0e8\\xe2\\x91~\\xf3\\xaf\\\\\\xaf\\xff\\x00^\\xad\\x10\\xdd\\xcbE\\x87\\x99\\x91\\xc8\\xf5\\xa9\\xbe\\xf0\\xc5T\\x8b%FF*\\xdcJs\\xcdK0\\xea0\\xc4G\\xd2\\x8f$\\xb1\\xe0\\xd5\\xcd\\x80\\xf1J\"\\xc1\\xe9S\\xcc.R\\x8f\\xd9\\x8995*\\xc4R\\xae\\x88\\xf2:sCF\\x16\"[\\xb7\\xa5.r\\xb9J\\xca03\\xcey\\xe2\\xa8\\xcbt\\xee\\x02\\xb2\\x04PO\\x07\\xa8\\xab7\\xa2M\\xab$(@\\x1d[\\xd6\\xa9\\xf2\\xc5Y\\xbebrw\\x1e\\xfe\\xa6\\xadjj\\xa3d\\x10:\\xa9%\\x899=\\xf8\\xc0\\xabH\\xe5\\x9bb+1\\x07vs\\xc7\\xff\\x00^\\xa8\\xa8\\xc8\\xc9\\xe0v\\xf7\\xad+8\\x95W\\xcc\\x8f\\x82;\\xe7<\\xd3f\\x90r{\\x93\\xdb\\xc4\\xe90>S\\x92z\\x83\\xfc\\xebR9\\x0co\\xf7FW\\x1c2\\xf1\\xf9Ukq4\\x98\\xc9\\xc8<\\xe6\\xad\\xab\\x02p\\x079\\xc61\\xd4\\xfa\\x9a\\xc9\\xdc\\xe8Hj\\x08\\xd6F\\x00|\\xd8\\xeb\\x8a\\x86\\xe1\\xfc\\x9f\\x94\\x91\\xb4\\x8e\\xdd\\xa9\\xf7wF\\xd7\\x9d\\xb9f\\x18\\\\z\\xfa\\x9a\\xcb2\\xc98\\xdf#\\x83\\xcfJ\\x12\\xb8\\x9bDL\\x91\\x8eS\\x80j3\\xc9\\x1d\\xbb\\xd4\\xcc\\x0e00i\\x02\\x0e\\xf8\\xcfSVdD\\xacQ\\x81\\x1c7\\\\\\x9a\\xbf\\x04\\xf2< \\x93\\xcfsY\\xcd\\x92N\\xd3\\x83\\x8f\\xca\\x9fj\\xe5e\\x19$\\xa8\\xed@\\x89\\x196\\xca\\xc7vw\\x1c\\xe3\\xd2\\xa7\\x8b*\\x84p\\x05H\\x91\\x97r\\xc4\\x01\\xe8*\\xd0\\xb5\\xc8\\xf9\\xb8\\xfaw\\xa9\\xe6\\x1a\\x19h\\x18I\\xbb\\xcb;q\\xd4\\xf6\\xab\\xf2\\xb1T\\x0e\\x0f\\xd4R\\xc3\\x10u\\x00\\x03\\xe80z\\xd2\\\\\\x8d\\xa5\\xb2\\xa4m\\xe3\\x15\\r\\x9a[M\\x0b\\xda|o,b-\\xbc\\x82\\\\\\x82{U\\xa5UD\\x19\\x19\\x8c\\x9c\\x8fj\\x87I(-\\x99\\xbb\\xfd\\xd2\\x0fSV\\xe6p\\x92\\xc6q\\x98\\xf1\\xf3\\x06\\xee*$m\\x15\\xa5\\xcf:\\xdb\\xb8s\\xfaTf1\\x8c\\xfb\\xd4\\xa4s\\xd4\\xfdi\\xa4v=k\\xa0\\xe2\\xb0\\xdc`p\\x07\\xb6)A\\xed\\x9eE!l\\x1c\\xe7\\x14\\xc0\\xc0\\x93\\xed@\\xaeK\\xb9\\x02\\x90q\\x91\\xd0T\\x12M\\x95\\xdb\\x8c\\x01Q\\xcaIn8\\xa4pLA\\xb8>\\xb5I\\t\\xb1\\xc9\\xc2\\x90N})Wh\\xc9%\\x8eF\\x01\\x1e\\xb5\\x02\\xb0\\x07#\\xd2\\xa4\\x8c\\xb7\\x0cA w\\xc5Q7\\xb9j\\xdf\\x98r:\\x8e\\xbe\\x82\\xadD\\x0b\\x0c\\xe6\\xaa\\xc4P\\xdc\\x95M\\xfbY\\x06\\x01\\xf5\\xab\\xb1\\xae\\x06+92Z\\xd4\\x99p\\x175\\x04\\x97M\\x14\\xa1v\\x83\\x9er{\\n\\x9c\\x02\\x10\\x8a\\xcf\\x99\\xc3\\\\\\x00\\x84aF\\x03g\\xadLP\\xd2\\xbb,}\\xb6q\\xb5\\xb1\\x18\\x8f\\xab\\x1c\\xf4\\xab\\xb0\\xcf\\x1d\\xc2nWVP}k\\x1f)\\xe5:\\xfc\\xc02\\x91\\xb8\\xf4\\xcd.\\x9f\\xa7I)u\\xb7\\xc4\\xac\\x07\\xcc:\\n\\xa7\\x14\\xcdyu\\xd0\\xd3\\x9f\\xc81\\x88\\xd0\\xa3\\t\\x18\\x1e\\x0f\\x7fS\\xebY\\x99\\r+b=\\xbd\\xb8\\xf4\\xf4\\xae\\x82;;d\\x8686\\xe6\\xe1\\xd4\\x06\\xe3\\x1b1\\xdc\\x1f_\\xfe\\xb5QkO&B\\x9f1\\ny?ZQi\\x1a:M\\x14\\x964\\xdc>@kGO\\xb62g\\xa6\\xc49\\xfa\\x9aa\\xb3\\x99\\x891\\xc6@\\xef\\x91R\\xbb\\xb5\\x8c\\x0c\\x14\\x8f9\\xff\\x00AI\\xbb\\xecRV\\xdc\\xb8eQ\\x90\\xad\\xcf|\\n\\xa4o^9\\xc9\\x00\\x14\\x07\\xa0\\x1dj\\x17\\xbf\\x96H\\xb0\\x00\\x0c\\xc7\\xe6j\\x80\\x90y\\'$v\\xa4\\x909v\\x16\\xe1\\xdak\\x86r[\\x07\\x18\\r\\xd8zS\\x19\\x82\\xae0\\x07\\xb8\\xa6\\xbb\\x85Vnv\\x8e\\xf5\\x07\\x98%\\x04#\\xe0c\\xadZFm\\x96N1\\xb7\\x9ey&\\xa2g\\xec\\xbd\\xe9\\x8d)\\x8d\\x01s\\x91\\xda\\xa2i\\xd7h\\'\\xae8\\xc54\\x85rF|1U\\x19&\\xaeC\\x11\\x8e0x$\\xfe\\x95^\\xd7\\xcbh\\xcc\\x989<\\x0c\\x8a\\x9c7S\\xdb\\xb5\\x0c.j\\xd9\\'\\xdc<>\\x07O\\\\\\xd3\\xae$Rp\\x13i\\x04\\xe7\\x9f\\xd2\\xa0\\xb0\\x97b\\x8cu\\x07 \\xd4\\xf2\\xc0\\xec7#\\r\\xc7\\xaeMd\\xd6\\xa5\\xf4\\xd0-Y\\xbc\\xc4\\xf2\\x89W\\xdc0W\\xb5_\\x92\\xd6\\xe6d\\x97;\\xf6\\xc6\\xdf\\xbclu\\xa8t\\xe1\\x1d\\x93\\x99\\xaeyS\\xc0#\\xb1\\xa57\\xcd-\\xd4\\xaa\\xac\\xc2\\'=\\t\\xa9{\\xe8T^\\x96c\\xec\\xe7kI\\x19\\x0e]O\\x03\\xda\\xaf\\xcd|.Ya*US\\xa6\\x0fZ\\xcb\\x91\\x08B\\xe7\\xefg\\x8a\\xb1n\"2)$\\x8e9\\xfa\\xd2j\\xe5\\xc6Oc\\x8dC\\xb9\\xb2O4\\xe68\\'<\\x81Q\\xe0)\\xc9\\xfc\\xa82\\x0c\\x13\\x80}\\xebs\\x96\\xe4G\\xe6\\xc94\\xc3\\xc6qN>\\xb5\\x1f\\xa8\\xaaH\\x8b\\x8f\\xca\\xc9\\x90N1\\xdf\\x14\\xd1 U\\xda~`\\x7f\\nf\\xe2\\x0e{Rz\\x9e\\xa6\\xa9!\\\\@v\\x9c\\x8cqV\\xb6\\x9f-p\\xc3\\x04g\\x02\\xaa\\xb6B\\xe7\\x1di\\x03\\x9c\\x0es\\x8e\\x82\\x86\\xae\\t\\xd8\\xbf\\x16>\\xd3\\x17\\'\\xd0\\xd5\\xe6\\x93\\xcb\\x88\\xba\\xa1c\\x9e\\x05P\\xb1M\\xec\\xb8\\xcf~j{\\xe0\\xd1@\\xa0\\x12\\x06y\\xac\\xe5\\xbd\\x82\\xe4R\\xdc\\xcf7,\\xd8C\\xfc=\\x00\\x14\\xcf1\\x14\\x85r\\x1b\\xde\\x9a\\xa5Z_\\x9d\\xb2\\xa3\\xda\\xa66\\xe1\\x88\\xc6r\\x7fJ\\xab\\x16\\x84\\x0e$\\x18\\x0cW\\xd75\\xd2\\xf8z\\x18\\xf61U\\xce\\x17,\\xc4\\xe0~u\\xcd8\\x1fw\\xb8\\xe0\\xd5\\xeb-[\\xc8\\x023\\xc78\\xcfj\\x99&kJJ/S\\xae\\x8dbD\\x05\\xd4\\x93Q\\xce\\xaa\\x11v6N\\t#\\x1d*\\x08\\xae\\x11\\xe2E-\\x89\\ne\\xbd\\x0f\\xd2\\xa1\\x92\\xe9U\\x86p\\xaa\\x01%\\x8f\\xb5c\\xd4\\xea\\x94\\x95\\x87\\xcb$q\\xc6d\\'h\\x00\\xee5\\x815\\xc2\\xdc\\xcf\\xc8\\x03\\xb2\\xfb}if\\xb9k\\xd9Xs\\xb0gn\\xee\\xfe\\xf5\\x9c\\xea\\xf1\\xb12\\x02\\x0b{\\xd6\\x91\\x8fs\\x9aS\\'3\\x05l\\x17\\x1cz\\nV`\\xe7\\x8f\\xae=j8\\xe3\\x13 bx&\\xa4\\x8d\\x04l\\xff\\x00+\\x12x\\xaa\\xd8\\x9b\\xdcd\\xab\\xbdpz\\xfaTV\\xd6\\xf1I#\\x12I\\xc7\\xf0\\xd5\\xc6\\x85\\\\n\\\\\\x93\\x8f\\xd6\\xaaC#E)\\x0e0zS\\xdfbY%\\xe2\\'\\xd9\\x88\\x19\\x1bk<\\x82\\x08\\xc7\\x04\\xf5\\xad\\x1b\\xa6_\\xb2\\xb1\\xe0\\x93\\xc0\\x1e\\xf5\\x1d\\xa5\\xb1\\x0c^L\\x0e\\xf8\\xa6\\x9bD\\xb5\\xa94jE\\xba\\xaep\\xcb\\xd8\\xd3\\xb0\\x0e\\x00\\x1d\\x079=\\xe9K\\x03\\xc0\\xebJ\\x1b`\\xc9\\x1c\\xd2\\x19~\\xdd\\x84d)\\x1cc\\x04\\xd6\\x86\\xce@\\xe1\\x89\\x03\\x18\\xfeU\\x94$\\x08\\x83k\\xe4\\xb7\\xe6*H\\xef%\\x88nC\\x8c\\x1e\\x07\\xbdf\\xe2\\xeeZ}\\x0b\\x17YfU\\x03<\\xd2Fv\\x82\\x019\\xc7n\\x94\\xf5o0\\xb1\\x95r\\xc7\\xf45b\\x0b)%l\\r\\xa0\\x0e\\x0eM-\\x06\\x93\\xb8\\xabw\\xba\\xd9bnUNsC\\x06Xd\\x9e B\\x06\\xda\\xbe\\xe6\\x83\\xa7\\xba\\\\ye\\x8e\\xd1\\xce@\\xea=\\xaad\\xb5\\xf3P\\x16\\x91\\x82\\'\\xddPx\\xa9\\xbd\\x8dRl\\xe2\\x19\\xb1\\xd7\\x9ar\\x00\\xc9\\xedQ\\x90G_\\xad)`\\x00\\xed[\\x9cW\\x11\\x86\\x0e*&94\\xf6m\\xc3\\xa1\\xa8\\x98zf\\xa9\\x00\\xb9\\xe0\\xd2\\x00?\\xfa\\xf4*7~\\x94\\xfd\\x84\\xe7\\x03\\xa51\\x0c\\x198\\x07\\xa7\\xa5&9\\x03\\x8f\\xc6\\xa4*wSq\\x92}(\\xb8\\x16l\\xaeZ\\x12Wy_o\\xe6*\\xcd\\xe4~l~re\\x87B=+0\\x8e9\\xad\\x0b\\x0b\\x90\\x8c\\x01\\x03\\x07\\xe5<\\xf5\\x06\\xa1\\xae\\xa5/2\\xa8\\x19l\\x82H\\xedR\\xac\\x87\\x18\\xce\\x06y\\xc9\\xa5h\\x0f\\xda\\xda\\x18\\xcfV\\xc2\\xfbS\\xe5\\xb6h\\xb0\\x8c\\xbc\\x9e\\xf9\\xcd;\\x97\\x15\\xa5\\xc8\\xc1\\xc9\\x04\\x10>\\xbd\\xe9\\xb1\\xab\\x992\\xa0\\x12z\\xfaT\\x9b\\x16R\\xaa\\x01\\xfc\\x075j+vI6\\xc8\\x1b\\n;s\\x8aW\\x04\\xb5/X\\xc9<d\\xa4\\x8cv\\x05\\xc2\\x9fOj\\x82\\xea[\\x8b\\xa5\\x08\\x80\\xb4Y\\xeb\\xea\\x7f\\xc2\\x9fwz\\x8f\\x1a\\xdbC\\x95\\x8c\\x0c\\x13\\xdd\\x8dg5\\xd3\\x08\\x84J\\xec\\xa4\\x1f\\x9b\\x07\\x83R\\x96\\xa6\\x92}\\r\\x05h\\xa1\\xda\\xac\\xf9lp\\rP\\xbcs\\xe7\\x1c\\x90{c\\xd2\\xa1\\x92y\\x14\\x87\\x91Ae\\xe0T!\\xf7\\xb9\\x92M\\xde\\xb8\\xaaQ3l\\x96)\\x8clNp\\xa7\\x8f\\xa5:\\xe3P`\\xa1`\\\\\\x01\\xdc\\xd5G`\\x06A\\xfa\\x01\\xd8U\\xdbT\\x86\\xe2\\x02\\xac3*\\x8e\\x07\\xa9\\xa6\\xec\\x0b]\\x08\\xa0\\xbc\\x91H,\\xd9\\xcd2vy$,F9\\xf5\\xa7\\xc9\\x11W*\\xd1l9\\x1cw\\x14\\x91\\x86\\x92m\\x99\\x1bA\\xa1\\x13\\xad\\xec[\\x8d\\x02F\\x07\\x07\\xbeO4\\xe2vc\\x9ei\\xdbG\\x00\\x8e;T@d\\x91\\x91\\x9c\\xf1Hc\\xc1f\\xe6\\x9c\\xed\\xb9\\x94\\xe3;F1M\\x04\\x84\\x19\\xebI\\xf4\\xa0hx`[\\x07\\xadH\\x0e\\x17\\x07\\x9erj4`\\xa4\\x929\\x1d\\xe9\\xe6UQ\\x95\\x18>\\xb4\\x14\\x8b\\x96\\xee\\xfeh\\x00\\x90\\rt\\x1am\\xd0\\x8aP\\xb2r\\x1b\\xa6FEs0\\x15,:\\xe4\\xd5\\xf1>\\xef\\xf5|\\x85<\\x1a\\xcej\\xe6\\xb1\\x9d\\x99\\xd6\\xdf\\xa2Cn\\xd7\\x117\\x9cH\\xce\\xc0}\\x7f\\xc9\\xaeq.\\xe5h\\xbc\\x94\\x8b\\x90\\xf9-\\x9eqZ:V\\xa3\\x1b\\xc7p.X\\x0c.\\xf0q\\xdcv\\xaas\\x1bx\\xdf\\xcf\\x8d\\xb0Ns\\xff\\x00\\xd6\\xac\\xa2\\xad\\xa1\\xb4\\xdaz\\xa3\\x89\\'<\\xf5\\xa6\\x00\\x0eI\\xedV\\xae-\\x8cg\\x81\\xf2\\xd4%O\\xe0+\\xa4\\xf3\\xdah\\x8fi\\xf5\\xe0\\xd3\\xb6\\x80=\\xe9\\xe1x\\xceh\\n:\\xe6\\x9ab\\x18G\\xa74\\x1e0\\x01\\xc1\\xefJH\\x1e\\xfe\\xa6\\x9a\\xc0\\xf1\\x8ab\\'\\x89T\\x8c\\x9c\\x1cv\\xc5D\\xe7vB\\xe39\\xebDcn\\t\\xe0\\x03\\xda\\x90\\x00O9\\xc6i\\x14\\x86\\x14d\\\\\\xb1\\xeaz\\x0e\\xf5\\x7fJ\\xb7I\\xdd\\xe39\\xde\\x08`\\x07~j\\xac\\x8c\\xc4(9\\'<d\\xd4\\x91\\x83\\x19\\x12\\x16\\xf9A\\xc9\\xc7\\x7fAC\\x1cw\\xd4\\xd9}1-\\xb5o\\x9c\\x19\\x19\\x97x\\x03\\xaeH\\xceO\\xa0\\xa8o\\xa4\\xf36\\xc6\\x14\\x82[\\xb7==\\xea;{\\xe7\\xbd\\xbf\\x173\\xc8<\\xc6\\x016\\xf6 qV\\x1e\\'i7\\x05\\xc6\\xc0N\\x7fZ\\xcfcuf\\xb4\"\\xb6\\x88\\x87)\\x08\\xf9\\xf1\\x8c\\x8a\\xbd\\xc41\\xb1?3\\xaerOjKp\\xaa\\xab#0V\\x1c\\xe4S.\\xaeCZ;\\x022[\\x03\\xde\\x8b\\xb6\\xcaVH\\xc9s\\xd0\\xa8\\xcf\\x1d*\\x83\\xbb3\\x95\\xef\\xec+R$3;\\x85n1U\\xeea\\x10\\xb8$\\x13\\xd0\\n\\xb4\\xccd\\xae>\\xd3M\\xf3ci\\x1d\\xf0z\\xe0\\xf4\\xf6\\xa9\\r\\xb5\\xb4N<\\xdc6\\x0f\"3\\x9c\\xd4\\xd1N\\xa2\\x02\\xa4\\xe4\\x9c\\x00=*9\\x18\"t\\\\\\xe7\\x1cw\\xa5\\xa8\\xd2V+\\xdeCl\\x88g_57\\xf4C\\x8e\\x05V\\xb7\\x81\\xdc\\x17V#\\x1d\\xfd(\\x96\\xec\\xcb.\\x18n\\x1d\\x00\\'\\x80+N\\xde0\\x96\\xe1U01\\x93C\\xd0\\x99;\\xbd\\x0c\\x99]\\xb7`1\\'?\\x9dhYB\\x16-\\xc3\\xef\\x1e\\xb9\\xedQMh\\xa5\\x94 \\x00\\x1e\\xb54y\\x8b#\\x8c\\x1e\\xb4\\xfa\\n>d\\x9f.J\\xb7AQ\\x90\\x17\\xe6P)\\xae\\xdc\\xf3I\\xdf\\x9c\\xfd(\\x1b\\x17\\x05\\x8f?\\xa5(\\x18\\xea1H\\xa1\\xc8%xZRp9\\xc8\\xf5\\xa0h\\x95\\xd3\\x00\\x01\\x90\\x0f5\\x10%\\xdc\\x9d\\xdf\\xa5\\x04\\xf00\\xc7\\xe9Al/\\xbd\\x03\\x15\\x18\\xa3cw\\x02\\xaf@\\xe64.\\x0eG\\\\Vp\\x19 \\x91\\xcdI\\x82\\xd1\\xb1\\x07\\x00z\\xd2z\\x8d\\x1aV\\x93\\xf9\\xb6\\xf3\\x06b\\xacq\\xd3\\x9e)\\x92\\xc8\\xcc\\x02\\xae6v\\xa6\\xd9\\x85k\\x178\\xe5\\xdc/\\xe5\\xcd#\\xb1F+\\xd7=\\xc5H6\\xec6h\\xc3\\xa6\\x1c\\x80+1\\x86\\x1d\\x80\\xc1\\x1d\\xaa\\xd3\\xcef]\\xa5MWd*\\xd8\"\\x9a\\xf3\"Z\\x91\\x95\\xc0\\x1c\\xd0xOB\\xdd)\\xd3.\\xd6\\x1fA\\xc5&\\xdd\\xcc~l`S3\\xb1\\t\\xe7\\xe5\\xc6?\\x1ap8=z\\xd4\\xdeVF:\\x9e\\xf5\\x19\\x8fk\\xe0\\x9e=i\\xdcv\\x10\\x02x^})\\xca\\xa4\\x16\\xe7\\x03\\x14\\xf8\\xe3$\\x9c1\\x00\\x8e\\x0fJz@\\x1c\\x82\\xf2 \\x00\\x1e[\\xa0\\xc5;\\x94\\x91\\x04\\x85\\x9a@\\t\\xe0\\x0c\\x01D\\xc0\\xaaD\\x060\\xcaX\\xe3\\xbf\\xb7\\xe9Nb%~\\x0f\\x1c\\x8f\\xa2\\xd3\\x1bt\\x8d\\xf2\\xf4\\xe8\\x05;\\x88\\xd4\\xd3\\xac\\x01\\x8a+\\x90\\xe39\\x04&+RH\\xcc\\xf1:\\xc7\\xf2\\x03\\xd3\\x8e\\x9dz\\xd5-\\x1d\\xe5`a8*=jf\\xd4\\xe5\\xb6\\x9fjB\\xbbA \\x822O\\xbd`\\xefs\\xa6\\x16H\\xa6\\xed/\\xd9];\\x06\\xda7\\x0eMTv\\x08\\x80\\x83\\x93\\xcf\\xd0\\x9a\\xd3\\x95$\\xba\\xb92\\xbev\\xff\\x00\\n\\x83\\xcdg\\xdeY\\xbcr\\x10\\x84u\\xe3?\\xd2\\xad\\x11/\"[T\\xf9\\x0b\\x1e\\x0fzm\\xe2\\x0f\\'\\x01\\xb2\\xc0\\xe4\\n\\xb3\\x02\\xe21\\x93\\xf55OS\\x05\\'\\x18\\x03\\x18\\r\\xf5\\xa4\\xb7%\\xecf\\xc94\\x96\\xfb\\x80\\'\\x9e\\xa0\\xd4Mp\\xcf\\xc1\\x1e\\xe2\\xb4\\xa5\\x86\\x1b\\xa4\\xcb\\x9f\\x9c\\x0e1\\xfdj\\x82\\xc0\\x8e\\xec\\x89\\x9c\\x81\\x90Gz\\xd536\\x85\\xb2\\x84\\xcfx\\x88@\\xe4\\xfe\\x95\\xbb\"\\xa2\\x13\\x87\\xcf\\xb5gX[\\xf9_\\xbdl\\xee\\xc1\\xef\\xcdYg\\xce\\x18c9\\xe9P\\xf5`\\x9d\\x88\\xd8\\x92\\xc4\\x9f\\xc6\\x9c\\x08X\\xc0=\\xcesM\\xcf\\xefK\\x11\\x81\\xe9Rq\\xb4\\x96\\xc0\\xcfJ\\x11qD1\\xc8\\xaf#\\r\\xb9\\x18\\xc0\\xa7\\x85\\xc8\\xe0\\xf3S\\xb0\\x83\\xc9\\xc4K\\x89\\x17\\xef\\x0c}\\xe1T\\xf0\\xe5\\xb3\\xc0\\x1dr(\\x13V%Q\\xb0`\\xe3\\x9aP2i\\x7f\\xd7\\x0c\\x01\\xf3/zk\\x06\\x0e@\\\\\\x8c\\xd01\\x08\\x08x\\\\\\x9fZ\\x15w\\xb6\\x17\\xaf\\\\v\\xa5+\\xc0\\x1c\\xfb\\xd3\\x80\\n\\xbf( \\xf74\\r!\\xdbD`\\xf1\\x9c\\xf7\\xa5Q\\xfb\\xa7\\xdd\\x8c\\x1f\\xd2\\x85;\\x8f#\\x8a\\x0e%\\xccJ0;\\xb3p(\\x19b\\x05\\x0bh\\x00<\\xb1&\\x9b\\xb8F\\x85I\\x07\\x079\\x154N\\x93DS\\x0b\\xf2\\r\\xa3\\x03\\xadA\"\\x1d\\xb9\\xe9\\xcdE\\xf5\\x13+\\xaa\\xe0\\xeef\\xe0v\\xa70\\xcd0\\x11\\x13\\x1d\\xdc\\x83J\\xf2\\xa9\\x00\\xaf+\\xde\\x99%y\\x14\\xab\\x1c\\xf3\\xcd1S,J\\x9cz\\xd4\\xe5\\x03\\x95e\\xc6OjU\\x89\\xb7\\xed\\xc0\\x18\\xaa\\x15\\x87\\x80\\xbb\\x01n\\x00\\xe35\\x1b\\xb2\\x96\\xf9FE:h\\xd8uo\\x94\\x8c\\xf5\\xe9QF\\x8b\\xbb-\\x90\\x83\\xbf\\xad\\x03\\xb12\\xc8\\t\\x1f\\xba.X`d\\xf0\\x0f\\xadG)e\\x88 \\x88\\x8d\\xdc\\xaf\\x7f\\xa9\\xa6\\xb8%@\\\\\\x81\\xdcT\\xb6\\xb7\\x1b\\x12KwL\\x898\\x00\\xf4#\\xfaSCeo\\x95\\x93\\x05\\xc7\\x98Np9\\xfc\\xeah\\xa2(\\xc3q\\xedM\\xf2D\\x17?wtM\\xca\\x9fZ\\x99d.\\x00l\\x03\\x9c\\xe6\\x86\\t\\x16m\\xe40\\x10\\xe8rs\\xd3\\xfcj\\xd9hn\\x0bI\\xb4y\\x85py\\xe0UH\"P7\\x10I=\\x8dN|\\x98\\x9c3\\x12I8 t\\xac\\xd9\\xaa\\x1c\\xea\\xf1\\xa2\\xed\\x07\\x03\\xef\\x13\\xebU&2\\xcc\\xc5\\xa4bN:\\xd4\\xb2\\xdd\\x99\\x07*v\\xe3\\xbfJ\\x89gWl\\x0f\\xbb\\xe9B\\xd0Lz0\\x08\\x14\\xf1\\xe9Q^+L\\x06\\x0eJ\\x0c)\\xc7oJ\\x9d#Y\\xae\\x17\\x0c\\xa8\\xa7\\x96\\x90\\xff\\x00\\x02\\x8e\\xb5+\\xb5\\xb4\\x008BNr\\xad\\xb8\\x1c\\x8f\\xa5\\x1dt\\x0b]ja}\\x86\\xf3y\\x0b\\x0b\\x93\\xea\\x07\\x18\\xad\\x1bK\\x1f!78\\xc4\\x84sZ6\\xd37\\x92\\xc49\\x08\\x0f\\xdc\\xcej\\x19\\x9fy\\xe0c\\xd4\\xd3\\xe6l\\x8eT\\x8a\\xd3 ,q\\xc0\\x15\\x01\\x8fw\\x03\\xb7sV\\x1a2\\xbds\\x83\\xd0\\x93Qp\\x1fkq\\x9cp)\\xa1r\\xea5Ab}1\\x8axU\\xf9T\\xe3\\x8eNj\\xd4\\xb0\\xa2\\xa2\\xa2\\x9f\\x9b\\xd4\\xd5G$HC\\x1eE\\x05l(VV2+w\\xc7\\xb5 !\\xdc\\xee\\x18\\x1csOF\\xd8~a\\x91\\xd4\\x0e\\xd4\\xe7\\x1b\\x9bp#>\\x87\\xb5\\x01k\\x8c!~c\\xf2\\x8f\\xa5G\\x96\\xcfBFx\\xfa\\xd4\\x8eJ\\x9e\\x18\\x1c\\xfaQo\\x92\\xdc\\xfc\\xb8\\xefL,G\\x1a\\xbc\\xcc\\xaa\\x8a\\xcc\\xc7\\xb6:\\x9a\\xbd\\xf6\\x19\\x12#\\xbbi t\\x07<\\xd6\\xce\\x9d\\xa7\\x1d\\xa1Qp\\xad\\xc9lr\\xc6\\xb4N\\x94$\\x9f\\xc9@F=\\xb3\\x81Y\\xb9\\x9a*n\\xc7\\x1b\\xf2\\x84\\xc6\\xd2\\x0frj\\t\\x01nN}\\xabcU\\xd2\\xda\\xd6\\xe1\\xc8\\xe1}\\xfd+:P@\\x08\\n\\x85nz\\xe6\\xad;\\xeaD\\xa3a\\xfad\\x8d\\x0c\\xe1\\x97\\x04\\xe7\\x05H\\xceE_\\xd4\\xa2\\x8e\\x1bp\\xea~i\\x0eH\\x02\\xb2\\xe0\\x0c\\x8d\\xbf\\'\\x00\\xe7\\x8a\\xd3i\\x92h\\xbe\\xf1\\x0f\\xeaje\\xbd\\xc4\\x9e\\x96?\\xff\\xd9'>"
      ]
     },
     "execution_count": 196,
     "metadata": {},
     "output_type": "execute_result"
    }
   ],
   "source": [
    "img_raw=tf.io.read_file(image_path0)\n",
    "img_raw"
   ]
  },
  {
   "cell_type": "code",
   "execution_count": 197,
   "id": "08df659d",
   "metadata": {},
   "outputs": [
    {
     "data": {
      "text/plain": [
       "TensorShape([256, 256, 3])"
      ]
     },
     "execution_count": 197,
     "metadata": {},
     "output_type": "execute_result"
    }
   ],
   "source": [
    "img_tensor=tf.image.decode_image(img_raw)\n",
    "img_tensor.shape"
   ]
  },
  {
   "cell_type": "code",
   "execution_count": 198,
   "id": "045dc386",
   "metadata": {},
   "outputs": [
    {
     "data": {
      "text/plain": [
       "tf.uint8"
      ]
     },
     "execution_count": 198,
     "metadata": {},
     "output_type": "execute_result"
    }
   ],
   "source": [
    "img_tensor.dtype"
   ]
  },
  {
   "cell_type": "markdown",
   "id": "f20cf9af",
   "metadata": {},
   "source": [
    "标准化\n",
    "\n",
    "imag_tensor  tensor数据类型"
   ]
  },
  {
   "cell_type": "code",
   "execution_count": 199,
   "id": "5476d079",
   "metadata": {},
   "outputs": [],
   "source": [
    "imag_tensor=tf.cast(img_tensor,tf.float32)"
   ]
  },
  {
   "cell_type": "code",
   "execution_count": 200,
   "id": "fd7e5060",
   "metadata": {},
   "outputs": [
    {
     "data": {
      "text/plain": [
       "<tf.Tensor: shape=(256, 256, 3), dtype=float32, numpy=\n",
       "array([[[0.1254902 , 0.19215687, 0.12941177],\n",
       "        [0.14901961, 0.21568628, 0.15294118],\n",
       "        [0.15686275, 0.22352941, 0.16078432],\n",
       "        ...,\n",
       "        [0.58431375, 0.49803922, 0.40784314],\n",
       "        [0.60784316, 0.5254902 , 0.44313726],\n",
       "        [0.61960787, 0.5372549 , 0.45490196]],\n",
       "\n",
       "       [[0.11764706, 0.18431373, 0.12156863],\n",
       "        [0.13725491, 0.20392157, 0.14117648],\n",
       "        [0.14117648, 0.20784314, 0.14509805],\n",
       "        ...,\n",
       "        [0.6       , 0.52156866, 0.42745098],\n",
       "        [0.6       , 0.5176471 , 0.43529412],\n",
       "        [0.5921569 , 0.50980395, 0.42745098]],\n",
       "\n",
       "       [[0.15686275, 0.21176471, 0.14509805],\n",
       "        [0.17254902, 0.22745098, 0.16078432],\n",
       "        [0.17254902, 0.22745098, 0.16078432],\n",
       "        ...,\n",
       "        [0.6039216 , 0.52156866, 0.4392157 ],\n",
       "        [0.57254905, 0.49019608, 0.40784314],\n",
       "        [0.5294118 , 0.45882353, 0.37254903]],\n",
       "\n",
       "       ...,\n",
       "\n",
       "       [[0.1764706 , 0.24313726, 0.17254902],\n",
       "        [0.16862746, 0.23529412, 0.16470589],\n",
       "        [0.15686275, 0.22352941, 0.15294118],\n",
       "        ...,\n",
       "        [0.2784314 , 0.3254902 , 0.23137255],\n",
       "        [0.28235295, 0.32156864, 0.22352941],\n",
       "        [0.2784314 , 0.31764707, 0.21960784]],\n",
       "\n",
       "       [[0.17254902, 0.23921569, 0.16862746],\n",
       "        [0.16862746, 0.23529412, 0.16470589],\n",
       "        [0.16078432, 0.22745098, 0.15686275],\n",
       "        ...,\n",
       "        [0.2509804 , 0.29803923, 0.20392157],\n",
       "        [0.2627451 , 0.3019608 , 0.20392157],\n",
       "        [0.2627451 , 0.3019608 , 0.20392157]],\n",
       "\n",
       "       [[0.16862746, 0.23529412, 0.16470589],\n",
       "        [0.16862746, 0.23529412, 0.16470589],\n",
       "        [0.16470589, 0.23137255, 0.16078432],\n",
       "        ...,\n",
       "        [0.22745098, 0.27450982, 0.18039216],\n",
       "        [0.23529412, 0.27450982, 0.1764706 ],\n",
       "        [0.23529412, 0.27450982, 0.1764706 ]]], dtype=float32)>"
      ]
     },
     "execution_count": 200,
     "metadata": {},
     "output_type": "execute_result"
    }
   ],
   "source": [
    "img_tensor=img_tensor/255\n",
    "img_tensor"
   ]
  },
  {
   "cell_type": "code",
   "execution_count": 201,
   "id": "83c5648d",
   "metadata": {},
   "outputs": [
    {
     "data": {
      "text/plain": [
       "array([[[0.1254902 , 0.19215687, 0.12941177],\n",
       "        [0.14901961, 0.21568628, 0.15294118],\n",
       "        [0.15686275, 0.22352941, 0.16078432],\n",
       "        ...,\n",
       "        [0.58431375, 0.49803922, 0.40784314],\n",
       "        [0.60784316, 0.5254902 , 0.44313726],\n",
       "        [0.61960787, 0.5372549 , 0.45490196]],\n",
       "\n",
       "       [[0.11764706, 0.18431373, 0.12156863],\n",
       "        [0.13725491, 0.20392157, 0.14117648],\n",
       "        [0.14117648, 0.20784314, 0.14509805],\n",
       "        ...,\n",
       "        [0.6       , 0.52156866, 0.42745098],\n",
       "        [0.6       , 0.5176471 , 0.43529412],\n",
       "        [0.5921569 , 0.50980395, 0.42745098]],\n",
       "\n",
       "       [[0.15686275, 0.21176471, 0.14509805],\n",
       "        [0.17254902, 0.22745098, 0.16078432],\n",
       "        [0.17254902, 0.22745098, 0.16078432],\n",
       "        ...,\n",
       "        [0.6039216 , 0.52156866, 0.4392157 ],\n",
       "        [0.57254905, 0.49019608, 0.40784314],\n",
       "        [0.5294118 , 0.45882353, 0.37254903]],\n",
       "\n",
       "       ...,\n",
       "\n",
       "       [[0.1764706 , 0.24313726, 0.17254902],\n",
       "        [0.16862746, 0.23529412, 0.16470589],\n",
       "        [0.15686275, 0.22352941, 0.15294118],\n",
       "        ...,\n",
       "        [0.2784314 , 0.3254902 , 0.23137255],\n",
       "        [0.28235295, 0.32156864, 0.22352941],\n",
       "        [0.2784314 , 0.31764707, 0.21960784]],\n",
       "\n",
       "       [[0.17254902, 0.23921569, 0.16862746],\n",
       "        [0.16862746, 0.23529412, 0.16470589],\n",
       "        [0.16078432, 0.22745098, 0.15686275],\n",
       "        ...,\n",
       "        [0.2509804 , 0.29803923, 0.20392157],\n",
       "        [0.2627451 , 0.3019608 , 0.20392157],\n",
       "        [0.2627451 , 0.3019608 , 0.20392157]],\n",
       "\n",
       "       [[0.16862746, 0.23529412, 0.16470589],\n",
       "        [0.16862746, 0.23529412, 0.16470589],\n",
       "        [0.16470589, 0.23137255, 0.16078432],\n",
       "        ...,\n",
       "        [0.22745098, 0.27450982, 0.18039216],\n",
       "        [0.23529412, 0.27450982, 0.1764706 ],\n",
       "        [0.23529412, 0.27450982, 0.1764706 ]]], dtype=float32)"
      ]
     },
     "execution_count": 201,
     "metadata": {},
     "output_type": "execute_result"
    }
   ],
   "source": [
    "img_tensor.numpy()"
   ]
  },
  {
   "cell_type": "markdown",
   "id": "2c757a57",
   "metadata": {},
   "source": [
    "可以，加载，预处理图片的函数"
   ]
  },
  {
   "cell_type": "code",
   "execution_count": 202,
   "id": "9dd347f7",
   "metadata": {},
   "outputs": [],
   "source": [
    "def load_preprocess_image(img_path):\n",
    "    img_raw=tf.io.read_file(img_path)\n",
    "    img_tensor=tf.image.decode_jpeg(img_raw,channels=3)  # 3彩色图片\n",
    "    img_tensor=tf.image.resize(img_tensor,[256,256])  # 改变图像大小的方法，  通知时图片\n",
    "    imag_tensor=tf.cast(img_tensor,tf.float32)\n",
    "    img=img_tensor/255\n",
    "    return img"
   ]
  },
  {
   "cell_type": "code",
   "execution_count": 203,
   "id": "8628bfe4",
   "metadata": {},
   "outputs": [],
   "source": [
    "# plt.imshow(load_preprocess_image(all_image_path[10]))"
   ]
  },
  {
   "cell_type": "code",
   "execution_count": 204,
   "id": "40b9b1de",
   "metadata": {},
   "outputs": [
    {
     "data": {
      "text/plain": [
       "<TensorSliceDataset shapes: (), types: tf.string>"
      ]
     },
     "execution_count": 204,
     "metadata": {},
     "output_type": "execute_result"
    }
   ],
   "source": [
    "path_ds=tf.data.Dataset.from_tensor_slices(all_image_path)\n",
    "path_ds   #tf.string>"
   ]
  },
  {
   "cell_type": "code",
   "execution_count": 205,
   "id": "67202f46",
   "metadata": {},
   "outputs": [
    {
     "data": {
      "text/plain": [
       "<MapDataset shapes: (256, 256, 3), types: tf.float32>"
      ]
     },
     "execution_count": 205,
     "metadata": {},
     "output_type": "execute_result"
    }
   ],
   "source": [
    "image_dataset=path_ds.map(load_preprocess_image)\n",
    "image_dataset"
   ]
  },
  {
   "cell_type": "code",
   "execution_count": 206,
   "id": "ec6c0362",
   "metadata": {},
   "outputs": [
    {
     "data": {
      "text/plain": [
       "<TensorSliceDataset shapes: (), types: tf.int32>"
      ]
     },
     "execution_count": 206,
     "metadata": {},
     "output_type": "execute_result"
    }
   ],
   "source": [
    "label_dataset=tf.data.Dataset.from_tensor_slices(all_image_label)\n",
    "label_dataset"
   ]
  },
  {
   "cell_type": "code",
   "execution_count": 207,
   "id": "37692fe2",
   "metadata": {},
   "outputs": [
    {
     "name": "stdout",
     "output_type": "stream",
     "text": [
      "1\n",
      "1\n",
      "0\n",
      "1\n",
      "0\n",
      "1\n",
      "1\n",
      "0\n",
      "0\n",
      "0\n"
     ]
    }
   ],
   "source": [
    "for label in label_dataset.take(10):\n",
    "    print(label.numpy())"
   ]
  },
  {
   "cell_type": "markdown",
   "id": "f1ddbf3d",
   "metadata": {},
   "source": [
    "### 图片和标签合并成一个dataset\n",
    "- tf.data.Dataset.zip((image_dataset,label_dataset))"
   ]
  },
  {
   "cell_type": "code",
   "execution_count": 208,
   "id": "50d9671e",
   "metadata": {},
   "outputs": [
    {
     "data": {
      "text/plain": [
       "<ZipDataset shapes: ((256, 256, 3), ()), types: (tf.float32, tf.int32)>"
      ]
     },
     "execution_count": 208,
     "metadata": {},
     "output_type": "execute_result"
    }
   ],
   "source": [
    "dataset=tf.data.Dataset.zip((image_dataset,label_dataset))\n",
    "dataset"
   ]
  },
  {
   "cell_type": "markdown",
   "id": "c447f287",
   "metadata": {},
   "source": [
    "### 划分训练数据和测试数据\n",
    "- test_dataset=dataset.take(test_count)\n",
    "\n",
    "- train_dataset=dataset.skip(test_count)"
   ]
  },
  {
   "cell_type": "code",
   "execution_count": 209,
   "id": "d83e2864",
   "metadata": {},
   "outputs": [],
   "source": [
    "test_count=int(image_count*0.2)\n",
    "trian_count=image_count-test_count"
   ]
  },
  {
   "cell_type": "code",
   "execution_count": 210,
   "id": "12ad6728",
   "metadata": {},
   "outputs": [
    {
     "data": {
      "text/plain": [
       "(280, 1120)"
      ]
     },
     "execution_count": 210,
     "metadata": {},
     "output_type": "execute_result"
    }
   ],
   "source": [
    "test_count,trian_count"
   ]
  },
  {
   "cell_type": "code",
   "execution_count": 211,
   "id": "4d90e6b0",
   "metadata": {},
   "outputs": [
    {
     "data": {
      "text/plain": [
       "<SkipDataset shapes: ((256, 256, 3), ()), types: (tf.float32, tf.int32)>"
      ]
     },
     "execution_count": 211,
     "metadata": {},
     "output_type": "execute_result"
    }
   ],
   "source": [
    "train_dataset=dataset.skip(test_count)\n",
    "train_dataset"
   ]
  },
  {
   "cell_type": "code",
   "execution_count": 212,
   "id": "6882b43e",
   "metadata": {},
   "outputs": [],
   "source": [
    "test_dataset=dataset.take(test_count)"
   ]
  },
  {
   "cell_type": "code",
   "execution_count": 213,
   "id": "11bbf26d",
   "metadata": {},
   "outputs": [],
   "source": [
    "batch_size=32"
   ]
  },
  {
   "cell_type": "code",
   "execution_count": 214,
   "id": "6e746272",
   "metadata": {},
   "outputs": [
    {
     "data": {
      "text/plain": [
       "<BatchDataset shapes: ((None, 256, 256, 3), (None,)), types: (tf.float32, tf.int32)>"
      ]
     },
     "execution_count": 214,
     "metadata": {},
     "output_type": "execute_result"
    }
   ],
   "source": [
    "train_dataset=train_dataset.repeat().shuffle(buffer_size=trian_count).batch(batch_size)\n",
    "train_dataset"
   ]
  },
  {
   "cell_type": "code",
   "execution_count": 215,
   "id": "3818a383",
   "metadata": {},
   "outputs": [],
   "source": [
    "test_dataset=test_dataset.repeat().batch(batch_size)"
   ]
  },
  {
   "cell_type": "markdown",
   "id": "93be3078",
   "metadata": {},
   "source": [
    "### 建立模型\n",
    "<code>\n",
    "model.add(tf.keras.layers.Dense(512))\n",
    "model.add(tf.keras.layers.BathNormalization())\n",
    "model.add(tf.keras.layers.Activation='relu')\n",
    "\n",
    "在层训练，添加批标准化"
   ]
  },
  {
   "cell_type": "code",
   "execution_count": 216,
   "id": "ed7fe963",
   "metadata": {},
   "outputs": [],
   "source": [
    "model=tf.keras.Sequential()\n",
    "#卷积层\n",
    "model.add(tf.keras.layers.Conv2D(64,(3,3),input_shape=(256,256,3),activation='relu'))\n",
    "model.add(tf.keras.layers.Conv2D(64,(3,3),activation='relu'))\n",
    "\n",
    "#池化层\n",
    "model.add(tf.keras.layers.MaxPooling2D())\n",
    "\n",
    "#卷积层\n",
    "model.add(tf.keras.layers.Conv2D(128,(3,3),activation='relu'))\n",
    "model.add(tf.keras.layers.Conv2D(128,(3,3),activation='relu'))\n",
    "\n",
    "model.add(tf.keras.layers.MaxPooling2D())\n",
    "\n",
    "model.add(tf.keras.layers.Conv2D(512,(3,3),activation='relu'))\n",
    "model.add(tf.keras.layers.Conv2D(512,(3,3),activation='relu'))\n",
    "\n",
    "model.add(tf.keras.layers.GlobalAveragePooling2D())\n",
    "\n",
    "model.add(tf.keras.layers.Dense(512))\n",
    "model.add(tf.keras.layers.BathNormalization())\n",
    "model.add(tf.keras.layers.Activation='relu')\n",
    "\n",
    "\n",
    "model.add(tf.keras.layers.Dense(256,activation='relu'))\n",
    "model.add(tf.keras.layers.Dense(1,activation='sigmoid'))\n",
    "                                 "
   ]
  },
  {
   "cell_type": "code",
   "execution_count": 217,
   "id": "fa4e7f36",
   "metadata": {},
   "outputs": [
    {
     "name": "stdout",
     "output_type": "stream",
     "text": [
      "Model: \"sequential_3\"\n",
      "_________________________________________________________________\n",
      "Layer (type)                 Output Shape              Param #   \n",
      "=================================================================\n",
      "conv2d_18 (Conv2D)           (None, 254, 254, 64)      1792      \n",
      "_________________________________________________________________\n",
      "conv2d_19 (Conv2D)           (None, 252, 252, 64)      36928     \n",
      "_________________________________________________________________\n",
      "max_pooling2d_6 (MaxPooling2 (None, 126, 126, 64)      0         \n",
      "_________________________________________________________________\n",
      "conv2d_20 (Conv2D)           (None, 124, 124, 128)     73856     \n",
      "_________________________________________________________________\n",
      "conv2d_21 (Conv2D)           (None, 122, 122, 128)     147584    \n",
      "_________________________________________________________________\n",
      "max_pooling2d_7 (MaxPooling2 (None, 61, 61, 128)       0         \n",
      "_________________________________________________________________\n",
      "conv2d_22 (Conv2D)           (None, 59, 59, 512)       590336    \n",
      "_________________________________________________________________\n",
      "conv2d_23 (Conv2D)           (None, 57, 57, 512)       2359808   \n",
      "_________________________________________________________________\n",
      "global_average_pooling2d_3 ( (None, 512)               0         \n",
      "_________________________________________________________________\n",
      "dense_9 (Dense)              (None, 512)               262656    \n",
      "_________________________________________________________________\n",
      "dense_10 (Dense)             (None, 256)               131328    \n",
      "_________________________________________________________________\n",
      "dense_11 (Dense)             (None, 1)                 257       \n",
      "=================================================================\n",
      "Total params: 3,604,545\n",
      "Trainable params: 3,604,545\n",
      "Non-trainable params: 0\n",
      "_________________________________________________________________\n"
     ]
    }
   ],
   "source": [
    "model.summary()"
   ]
  },
  {
   "cell_type": "code",
   "execution_count": 218,
   "id": "5f0a1823",
   "metadata": {},
   "outputs": [
    {
     "data": {
      "text/plain": [
       "(None, 1)"
      ]
     },
     "execution_count": 218,
     "metadata": {},
     "output_type": "execute_result"
    }
   ],
   "source": [
    "model.output_shape"
   ]
  },
  {
   "cell_type": "markdown",
   "id": "92944768",
   "metadata": {},
   "source": [
    "### 训练数据"
   ]
  },
  {
   "cell_type": "code",
   "execution_count": 219,
   "id": "efa2c676",
   "metadata": {},
   "outputs": [],
   "source": [
    "model.compile(optimizer='adam',loss='binary_crossentropy',metrics=['acc'])"
   ]
  },
  {
   "cell_type": "code",
   "execution_count": 220,
   "id": "b14cd5d4",
   "metadata": {},
   "outputs": [],
   "source": [
    "# 告诉一个batch需要训练多少次\n",
    "steps_per_epoch=trian_count// batch_size\n",
    "validation_steps=test_count// batch_size"
   ]
  },
  {
   "cell_type": "code",
   "execution_count": null,
   "id": "d28ba5b8",
   "metadata": {},
   "outputs": [
    {
     "name": "stdout",
     "output_type": "stream",
     "text": [
      "Epoch 1/30\n",
      "16/35 [============>.................] - ETA: 5:18 - loss: 0.6914 - acc: 0.5449"
     ]
    }
   ],
   "source": [
    "hist=model.fit(train_dataset,epochs=30,steps_per_epoch=steps_per_epoch,validation_data=test_dataset,validation_steps=validation_steps)"
   ]
  },
  {
   "cell_type": "code",
   "execution_count": null,
   "id": "ae8a04ff",
   "metadata": {},
   "outputs": [],
   "source": []
  }
 ],
 "metadata": {
  "kernelspec": {
   "display_name": "Python 3",
   "language": "python",
   "name": "python3"
  },
  "language_info": {
   "codemirror_mode": {
    "name": "ipython",
    "version": 3
   },
   "file_extension": ".py",
   "mimetype": "text/x-python",
   "name": "python",
   "nbconvert_exporter": "python",
   "pygments_lexer": "ipython3",
   "version": "3.6.13"
  },
  "toc": {
   "base_numbering": 1,
   "nav_menu": {},
   "number_sections": true,
   "sideBar": true,
   "skip_h1_title": false,
   "title_cell": "Table of Contents",
   "title_sidebar": "Contents",
   "toc_cell": false,
   "toc_position": {},
   "toc_section_display": true,
   "toc_window_display": false
  }
 },
 "nbformat": 4,
 "nbformat_minor": 5
}
