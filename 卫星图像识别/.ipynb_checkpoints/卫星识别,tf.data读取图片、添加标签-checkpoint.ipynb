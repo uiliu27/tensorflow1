{
 "cells": [
  {
   "cell_type": "code",
   "execution_count": 1,
   "id": "07af659e",
   "metadata": {},
   "outputs": [],
   "source": [
    "import tensorflow as tf"
   ]
  },
  {
   "cell_type": "code",
   "execution_count": 2,
   "id": "e3964088",
   "metadata": {},
   "outputs": [
    {
     "data": {
      "text/plain": [
       "'2.6.0'"
      ]
     },
     "execution_count": 2,
     "metadata": {},
     "output_type": "execute_result"
    }
   ],
   "source": [
    "tf.__version__"
   ]
  },
  {
   "cell_type": "code",
   "execution_count": 3,
   "id": "3e34c684",
   "metadata": {},
   "outputs": [],
   "source": [
    "import matplotlib.pyplot as plt\n",
    "%matplotlib inline \n",
    "import numpy as np\n",
    "import pathlib"
   ]
  },
  {
   "cell_type": "markdown",
   "id": "3f61667a",
   "metadata": {},
   "source": [
    "pathlib 文件目录\n",
    "- pathlib.Path(data_dir)\n",
    "- .glob(*/)"
   ]
  },
  {
   "cell_type": "code",
   "execution_count": 4,
   "id": "0a5fe368",
   "metadata": {},
   "outputs": [],
   "source": [
    "data_dir='./2_class'"
   ]
  },
  {
   "cell_type": "code",
   "execution_count": 5,
   "id": "f572f971",
   "metadata": {},
   "outputs": [],
   "source": [
    "data_root= pathlib.Path(data_dir)"
   ]
  },
  {
   "cell_type": "code",
   "execution_count": 6,
   "id": "39eaefa1",
   "metadata": {},
   "outputs": [
    {
     "data": {
      "text/plain": [
       "WindowsPath('2_class')"
      ]
     },
     "execution_count": 6,
     "metadata": {},
     "output_type": "execute_result"
    }
   ],
   "source": [
    "data_root"
   ]
  },
  {
   "cell_type": "code",
   "execution_count": 7,
   "id": "ca315ff3",
   "metadata": {},
   "outputs": [
    {
     "name": "stdout",
     "output_type": "stream",
     "text": [
      "2_class\\airplane\n",
      "2_class\\lake\n"
     ]
    }
   ],
   "source": [
    "for item in data_root.iterdir():\n",
    "    print(item)"
   ]
  },
  {
   "cell_type": "markdown",
   "id": "cdc15205",
   "metadata": {},
   "source": [
    "### 提取所有路径"
   ]
  },
  {
   "cell_type": "code",
   "execution_count": 8,
   "id": "3a685abd",
   "metadata": {},
   "outputs": [],
   "source": [
    "all_image_path=list(data_root.glob('*/*') )  #所有目录的文件"
   ]
  },
  {
   "cell_type": "code",
   "execution_count": 9,
   "id": "a584544e",
   "metadata": {},
   "outputs": [
    {
     "data": {
      "text/plain": [
       "1400"
      ]
     },
     "execution_count": 9,
     "metadata": {},
     "output_type": "execute_result"
    }
   ],
   "source": [
    "len(all_image_path)"
   ]
  },
  {
   "cell_type": "code",
   "execution_count": 10,
   "id": "10624384",
   "metadata": {},
   "outputs": [
    {
     "data": {
      "text/plain": [
       "[WindowsPath('2_class/airplane/airplane_001.jpg'),\n",
       " WindowsPath('2_class/airplane/airplane_002.jpg'),\n",
       " WindowsPath('2_class/airplane/airplane_003.jpg')]"
      ]
     },
     "execution_count": 10,
     "metadata": {},
     "output_type": "execute_result"
    }
   ],
   "source": [
    "all_image_path[:3]"
   ]
  },
  {
   "cell_type": "code",
   "execution_count": 11,
   "id": "c142358f",
   "metadata": {},
   "outputs": [
    {
     "data": {
      "text/plain": [
       "[WindowsPath('2_class/lake/lake_698.jpg'),\n",
       " WindowsPath('2_class/lake/lake_699.jpg'),\n",
       " WindowsPath('2_class/lake/lake_700.jpg')]"
      ]
     },
     "execution_count": 11,
     "metadata": {},
     "output_type": "execute_result"
    }
   ],
   "source": [
    "all_image_path[-3:]"
   ]
  },
  {
   "cell_type": "code",
   "execution_count": 12,
   "id": "e8cba732",
   "metadata": {},
   "outputs": [],
   "source": [
    "all_image_path=[str(path ) for path in all_image_path]"
   ]
  },
  {
   "cell_type": "code",
   "execution_count": 13,
   "id": "a633c561",
   "metadata": {},
   "outputs": [
    {
     "data": {
      "text/plain": [
       "['2_class\\\\airplane\\\\airplane_001.jpg',\n",
       " '2_class\\\\airplane\\\\airplane_002.jpg',\n",
       " '2_class\\\\airplane\\\\airplane_003.jpg']"
      ]
     },
     "execution_count": 13,
     "metadata": {},
     "output_type": "execute_result"
    }
   ],
   "source": [
    "all_image_path[:3]"
   ]
  },
  {
   "cell_type": "markdown",
   "id": "d51cc74a",
   "metadata": {},
   "source": [
    "### 乱序"
   ]
  },
  {
   "cell_type": "code",
   "execution_count": 14,
   "id": "beb3d5e6",
   "metadata": {},
   "outputs": [],
   "source": [
    "import random "
   ]
  },
  {
   "cell_type": "code",
   "execution_count": 15,
   "id": "7e3da3ac",
   "metadata": {},
   "outputs": [],
   "source": [
    "random.shuffle(all_image_path)"
   ]
  },
  {
   "cell_type": "code",
   "execution_count": 16,
   "id": "2bc31179",
   "metadata": {},
   "outputs": [
    {
     "data": {
      "text/plain": [
       "['2_class\\\\lake\\\\lake_612.jpg',\n",
       " '2_class\\\\airplane\\\\airplane_468.jpg',\n",
       " '2_class\\\\lake\\\\lake_315.jpg']"
      ]
     },
     "execution_count": 16,
     "metadata": {},
     "output_type": "execute_result"
    }
   ],
   "source": [
    "all_image_path[-3:]"
   ]
  },
  {
   "cell_type": "code",
   "execution_count": 17,
   "id": "70844f1e",
   "metadata": {},
   "outputs": [
    {
     "data": {
      "text/plain": [
       "1400"
      ]
     },
     "execution_count": 17,
     "metadata": {},
     "output_type": "execute_result"
    }
   ],
   "source": [
    "image_count=len(all_image_path)\n",
    "image_count"
   ]
  },
  {
   "cell_type": "markdown",
   "id": "bb46540f",
   "metadata": {},
   "source": [
    "### 添加所有图片的label"
   ]
  },
  {
   "cell_type": "code",
   "execution_count": 18,
   "id": "c23e99b5",
   "metadata": {},
   "outputs": [
    {
     "data": {
      "text/plain": [
       "['airplane', 'lake']"
      ]
     },
     "execution_count": 18,
     "metadata": {},
     "output_type": "execute_result"
    }
   ],
   "source": [
    "label_name=sorted(item.name for item in data_root.glob('*/'))\n",
    "label_name"
   ]
  },
  {
   "cell_type": "code",
   "execution_count": 19,
   "id": "d2e4c0c0",
   "metadata": {},
   "outputs": [],
   "source": [
    "#编码\n",
    "label_to_index=dict((name,index) for index,name in enumerate(label_name))"
   ]
  },
  {
   "cell_type": "code",
   "execution_count": 20,
   "id": "0669f69d",
   "metadata": {},
   "outputs": [
    {
     "data": {
      "text/plain": [
       "{'airplane': 0, 'lake': 1}"
      ]
     },
     "execution_count": 20,
     "metadata": {},
     "output_type": "execute_result"
    }
   ],
   "source": [
    "label_to_index"
   ]
  },
  {
   "cell_type": "code",
   "execution_count": 21,
   "id": "6e00a225",
   "metadata": {},
   "outputs": [
    {
     "data": {
      "text/plain": [
       "'airplane'"
      ]
     },
     "execution_count": 21,
     "metadata": {},
     "output_type": "execute_result"
    }
   ],
   "source": [
    "pathlib.Path( '2_class\\\\airplane\\\\airplane_213.jpg').parent.name"
   ]
  },
  {
   "cell_type": "markdown",
   "id": "c735f250",
   "metadata": {},
   "source": [
    "所有的label"
   ]
  },
  {
   "cell_type": "code",
   "execution_count": 22,
   "id": "626aeaea",
   "metadata": {},
   "outputs": [
    {
     "data": {
      "text/plain": [
       "[1, 1, 1, 0, 1]"
      ]
     },
     "execution_count": 22,
     "metadata": {},
     "output_type": "execute_result"
    }
   ],
   "source": [
    "all_image_label=[label_to_index [pathlib.Path(p).parent.name] for p in all_image_path]\n",
    "all_image_label[:5]"
   ]
  },
  {
   "cell_type": "code",
   "execution_count": 23,
   "id": "8d2315d0",
   "metadata": {},
   "outputs": [],
   "source": [
    "import IPython.display as display"
   ]
  },
  {
   "cell_type": "markdown",
   "id": "acbdcc10",
   "metadata": {},
   "source": [
    "index_to_label 标签，看转换成文字方便检查"
   ]
  },
  {
   "cell_type": "code",
   "execution_count": 24,
   "id": "f6bd19a0",
   "metadata": {},
   "outputs": [],
   "source": [
    "index_to_label=dict((v,k) for  k,v in label_to_index.items())"
   ]
  },
  {
   "cell_type": "code",
   "execution_count": 25,
   "id": "5e7e46c1",
   "metadata": {},
   "outputs": [
    {
     "data": {
      "text/plain": [
       "{0: 'airplane', 1: 'lake'}"
      ]
     },
     "execution_count": 25,
     "metadata": {},
     "output_type": "execute_result"
    }
   ],
   "source": [
    "index_to_label"
   ]
  },
  {
   "cell_type": "markdown",
   "id": "a88ecdd1",
   "metadata": {},
   "source": [
    "随机打印3张图片"
   ]
  },
  {
   "cell_type": "code",
   "execution_count": 26,
   "id": "07f077f9",
   "metadata": {},
   "outputs": [
    {
     "data": {
      "image/jpeg": "[encoded data removed]",
      "text/plain": [
       "<IPython.core.display.Image object>"
      ]
     },
     "metadata": {},
     "output_type": "display_data"
    },
    {
     "name": "stdout",
     "output_type": "stream",
     "text": [
      "lake\n"
     ]
    },
    {
     "data": {
      "image/jpeg": "[encoded data removed]",
      "text/plain": [
       "<IPython.core.display.Image object>"
      ]
     },
     "metadata": {},
     "output_type": "display_data"
    },
    {
     "name": "stdout",
     "output_type": "stream",
     "text": [
      "lake\n"
     ]
    },
    {
     "data": {
      "image/jpeg": "[encoded data removed]",
      "text/plain": [
       "<IPython.core.display.Image object>"
      ]
     },
     "metadata": {},
     "output_type": "display_data"
    },
    {
     "name": "stdout",
     "output_type": "stream",
     "text": [
      "airplane\n"
     ]
    }
   ],
   "source": [
    "for item in range(3):\n",
    "    image_index=random.choice(range(len(all_image_path)))\n",
    "    display.display(display.Image(all_image_path[image_index]))\n",
    "    print(index_to_label[all_image_label[image_index]])\n",
    "    "
   ]
  },
  {
   "cell_type": "markdown",
   "id": "16add883",
   "metadata": {},
   "source": [
    "### 图片加载\n",
    "使用tensorflow的方法提取图片\n",
    "- tf.io.read_file(image_path)\n",
    "- 解码 tf.image.decode_image(img_raw)\n",
    "\n",
    "可以写成一个函数实现"
   ]
  },
  {
   "cell_type": "code",
   "execution_count": 27,
   "id": "5ac28e51",
   "metadata": {},
   "outputs": [
    {
     "data": {
      "text/plain": [
       "'2_class\\\\lake\\\\lake_303.jpg'"
      ]
     },
     "execution_count": 27,
     "metadata": {},
     "output_type": "execute_result"
    }
   ],
   "source": [
    "image_path0=all_image_path[0]\n",
    "image_path0"
   ]
  },
  {
   "cell_type": "code",
   "execution_count": 28,
   "id": "4e1ccabd",
   "metadata": {},
   "outputs": [
    {
     "data": {
      "text/plain": [
       "<tf.Tensor: shape=(), dtype=string, numpy=b'\\xff\\xd8\\xff\\xe0\\x00\\x10JFIF\\x00\\x01\\x01\\x00\\x00\\x01\\x00\\x01\\x00\\x00\\xff\\xdb\\x00C\\x00\\x08\\x06\\x06\\x07\\x06\\x05\\x08\\x07\\x07\\x07\\t\\t\\x08\\n\\x0c\\x14\\r\\x0c\\x0b\\x0b\\x0c\\x19\\x12\\x13\\x0f\\x14\\x1d\\x1a\\x1f\\x1e\\x1d\\x1a\\x1c\\x1c $.\\' \",#\\x1c\\x1c(7),01444\\x1f\\'9=82<.342\\xff\\xdb\\x00C\\x01\\t\\t\\t\\x0c\\x0b\\x0c\\x18\\r\\r\\x182!\\x1c!22222222222222222222222222222222222222222222222222\\xff\\xc0\\x00\\x11\\x08\\x01\\x00\\x01\\x00\\x03\\x01\"\\x00\\x02\\x11\\x01\\x03\\x11\\x01\\xff\\xc4\\x00\\x1f\\x00\\x00\\x01\\x05\\x01\\x01\\x01\\x01\\x01\\x01\\x00\\x00\\x00\\x00\\x00\\x00\\x00\\x00\\x01\\x02\\x03\\x04\\x05\\x06\\x07\\x08\\t\\n\\x0b\\xff\\xc4\\x00\\xb5\\x10\\x00\\x02\\x01\\x03\\x03\\x02\\x04\\x03\\x05\\x05\\x04\\x04\\x00\\x00\\x01}\\x01\\x02\\x03\\x00\\x04\\x11\\x05\\x12!1A\\x06\\x13Qa\\x07\"q\\x142\\x81\\x91\\xa1\\x08#B\\xb1\\xc1\\x15R\\xd1\\xf0$3br\\x82\\t\\n\\x16\\x17\\x18\\x19\\x1a%&\\'()*456789:CDEFGHIJSTUVWXYZcdefghijstuvwxyz\\x83\\x84\\x85\\x86\\x87\\x88\\x89\\x8a\\x92\\x93\\x94\\x95\\x96\\x97\\x98\\x99\\x9a\\xa2\\xa3\\xa4\\xa5\\xa6\\xa7\\xa8\\xa9\\xaa\\xb2\\xb3\\xb4\\xb5\\xb6\\xb7\\xb8\\xb9\\xba\\xc2\\xc3\\xc4\\xc5\\xc6\\xc7\\xc8\\xc9\\xca\\xd2\\xd3\\xd4\\xd5\\xd6\\xd7\\xd8\\xd9\\xda\\xe1\\xe2\\xe3\\xe4\\xe5\\xe6\\xe7\\xe8\\xe9\\xea\\xf1\\xf2\\xf3\\xf4\\xf5\\xf6\\xf7\\xf8\\xf9\\xfa\\xff\\xc4\\x00\\x1f\\x01\\x00\\x03\\x01\\x01\\x01\\x01\\x01\\x01\\x01\\x01\\x01\\x00\\x00\\x00\\x00\\x00\\x00\\x01\\x02\\x03\\x04\\x05\\x06\\x07\\x08\\t\\n\\x0b\\xff\\xc4\\x00\\xb5\\x11\\x00\\x02\\x01\\x02\\x04\\x04\\x03\\x04\\x07\\x05\\x04\\x04\\x00\\x01\\x02w\\x00\\x01\\x02\\x03\\x11\\x04\\x05!1\\x06\\x12AQ\\x07aq\\x13\"2\\x81\\x08\\x14B\\x91\\xa1\\xb1\\xc1\\t#3R\\xf0\\x15br\\xd1\\n\\x16$4\\xe1%\\xf1\\x17\\x18\\x19\\x1a&\\'()*56789:CDEFGHIJSTUVWXYZcdefghijstuvwxyz\\x82\\x83\\x84\\x85\\x86\\x87\\x88\\x89\\x8a\\x92\\x93\\x94\\x95\\x96\\x97\\x98\\x99\\x9a\\xa2\\xa3\\xa4\\xa5\\xa6\\xa7\\xa8\\xa9\\xaa\\xb2\\xb3\\xb4\\xb5\\xb6\\xb7\\xb8\\xb9\\xba\\xc2\\xc3\\xc4\\xc5\\xc6\\xc7\\xc8\\xc9\\xca\\xd2\\xd3\\xd4\\xd5\\xd6\\xd7\\xd8\\xd9\\xda\\xe2\\xe3\\xe4\\xe5\\xe6\\xe7\\xe8\\xe9\\xea\\xf2\\xf3\\xf4\\xf5\\xf6\\xf7\\xf8\\xf9\\xfa\\xff\\xda\\x00\\x0c\\x03\\x01\\x00\\x02\\x11\\x03\\x11\\x00?\\x00\\xf2\\xf3\\xd7\\x8e\\x95,<\\x13\\x9e)\\xab\\xb4\\x8c\\x11\\x8ez\\xd5\\xbbk@\\xcd\\xb9\\xb3\\x81\\xd2\\xb20*\\x92c\\x942\\x9c0<U\\xc0\\xfb\\xa2w\\x9f\\xe6c\\x8c{U9U\\xb7\\x15ny\\xfc\\xabF\\xde/6\\xdc68\\x1c0\\xa4\\xc6\\x86H\\xadi\\x0e@\\x0c\\xb2.C\\x1e\\xd5V\\xdc\\x83\\x19f\\xe7\\x9c\\x0c\\xd4\\xd72\\xb4\\xca\\xb1(\\xc2\\xaf\\xdd\\x14\\xb1\\xdb\\xf9\\x80G\\x1ag8\\'\\x1d\\xa8\\xe8\\x16\\x19\"l\\x1d3\\xea=)>E\\xda\\xe4\\x82\\x8d\\xefS\\xb00I\\xfb\\xd4;W\\x8a\\xabp\\x11g\\x12\"\\xe26\\xe7\\x02\\x90X\\xbd\\x1b\\xc4\\xea\\x826\\xc6\\xce\\x08\\xcdhEjeM\\xc8rGQ\\xea+>\\xd4[H\\xbd?y\\xe9\\xe9[\\x96\\x12D\\x8aT\\x0f\\x9b\\x1d\\t\\xa4\\xf4.%\\x7f>8\\x90\\xa7\\x96|\\xc1\\xfc5\\x9f:37\\x9f,a\\x81\\xe0\\x0fZ\\xbb$-\\n\\xb4\\xb1\\xb9b\\x8eIRz\\x03QH\\xcb\\x7f/\\x95\\x14\\x83\\xeb\\x8cb\\xa8m\\x14m\\xed\\x14\\xdc)U9c\\xc8\\xf4\\xab\\xf7\\x17cN\\x18\\x8e\\x1c\\xa7\\xf1\\x1fZ\\xb2\\x86\\xd6\\xd65X\\xc1g\\x1d_\\xb15SS\\xdf%\\x81\\x91\\xba\\x13\\xc6\\xd1I\\xee+Y\\x15\\x9f[b\\xa3\\xc8\\xcf\\'\\x95oJ\\xd2\\xb3\\xbak\\x98\\x19\\xde2\\xb8\\xe3\\x07\\xbdr\\x88\\x0e\\xef\\x94f\\xb4\\x05\\xfc\\xc9\\x00\\x85\\xc1 {\\xf5\\xa1\\xc4\\x14\\x8b\\xd7\\x96\\x08IhXo\\xee\\xb9\\xaa[\\xbc\\xd5\\x10LpG@zU\\xc8\\xef\\xa2\\x9ah\\xe3\\x8e#\\xb8s\\x93\\xc1\\xcd,\\xd6-v\\xce\\xd8 \\xfbS\\xd8=\\n\\x9fe\\x9a\\x00Z\\x1d\\xa7w8\\x07\\xf4\\xa5\\x13\\xdcL\\xc9\\x10B\\x18\\x8e\\xfd\\xa9\\xb76\\x17V\\xca\\xa7\\xccb\\xa0\\xf6=*\\xdc2,V\\xb2\\\\Hv\\xc9\\xd3>\\xf8\\xaa\\xba\\x05.\\xe3\\x05\\xbe\\xa9\\x95,\\x06\\x08\\xc63\\xc56M:s/\\x9a\\xf2\\x14=\\xc7cW\\xe1\\xd4`\\x8e\\xc9g.6\\xb2\\xe7\\x19\\xe4\\x1fJ\\xa4\\xda\\xf1\\x96o\\x9e5X\\xbad\\xfaT]\\x95tZ[9\\xae\\x11bY\\x10\\x0e\\xc3\\x15\\x1bhr)\\xe8w\\xfbt\\xaa\\xc9p\\x96\\xd7\\n\\xf1\\\\\\t!\\'\\xe6By\\x1fJ\\xd6mr\\xda$\\xde\\xd2>\\x01\\xf9q\\xde\\x93\\xbfBtb%\\xa4\\xb0D\\x0e\\xc21\\xda\\x99=\\xc0\\xb6O2U\\xcaz\\x1ejh\\xb5\\x98n\\x03yR\\x82s\\x8c9\\xc1\\xfdj\\xc4ao\\x14\\xc5$@\\xe7\\xd2\\xa6\\xfd\\xcb\\xb5\\xd6\\x87?u\\x1d\\xa5\\xf4fkp\\x11\\xff\\x00\\xbb\\xebY0\\xccm.w\\x11\\x90:\\x8fZ\\xedc\\xd1\\xad\\x89dT+\\x9f\\xc0\\xd6F\\xb1\\xa2$*$\\x8dx\\xe8x\\xad!5\\xb3\\rHe\\xb7[\\xc8D\\xb06s\\xf9\\xfd\\rT\\x89g\\xb5\\x9bs\\xa7^\\xbe\\x86\\xa8\\x89\\xae-_\\xe4r\\xbc\\xf6\\xad+]aeP\\x97*?\\xde\\xa6\\xe2K\\x85\\xc2\\xea\\xfb\\xce\\xe9\\x10\\x03\\x1c\\xe6\\xab,\\x8e\\x87(\\xd8\\xfaV\\x84\\x9az\\xc8\\xa2HYJ\\xf5\\xe2\\xa263(\\xce3\\xf4\\xa8\\xd0\\xcd\\xa6R\\xea@\\xe3>\\xb5:N\\xc8|\\xc48c\\xc1\\x18\\xa88\\xc9\\x1d\\xeaH\\xed\\xe4\\x91\\xc0A\\x82x\\x198\\xcdQ(L\\x16\\xcb`\\x9fz\\x96\\xdeI#bS\\xb0\\xe9OH\\xd8$\\x918\\xdb 85()o\\x1e\\xe2\\t$u\\xc7Zc\\xb1\\x19\\x92\\x19\\xa3;\\x97k{S\\xa0Y\\xa3>l\\'\\x8e\\xf8\\xaa\\xd8%\\xb7\\x03\\xc1\\xa9\\r\\xe7\\xd8\\xa0\\x0c\\x14\\xb1$\\x8c/\\xf5\\xa2\\xd7)j\\x13\\xc9$\\xce|\\xc7\\xe4\\x1eT\\xd3e+\"\\x04\\xc7\\x1e\\xb5\\t\\xb9\\x9a\\xe6\\xe4\\xbc\\xd1\\xa2\\xa1\\x1c(\\x1f\\xd6\\xa4U\\x8c(l\\xb8\\x04\\xe3\\x1dh\\xb5\\x81\\x91\\xf92\\xc6C)\\xe9\\xd0\\xd6\\x85\\xae\\xa0\\x8c\\x85\\x1c\\xed\\x7f_z\\xaed\\xb7\\x8dF\\xe6g\\xc7\\x1bi\\xb9Y@\\xdc\\x80\\x03\\xd0\\xad!\\'b\\xc6\\xa73\\x89a\\xf2\\xa7\\xdad\\xe1\\xb3\\xd2\\xb1\\xc4\\xf2\\xab;\\t\\x18H\\x8d\\xf3\\x0fZ\\xd0\\x91@\\x83d\\xc0K\\x0ex#\\xaa\\x9acY\\xc4d\\x8cE\\xb8\\xab\\x8e\\xe6\\xa9lj\\x9d\\xcd\\xa7\\xb8\\x06\\xdd&T\\xca\\xed\\x1cU\\t.\\xa4t\\xda\\xdc\\xc5\\xd8RB\\x97\\x9a|g*\\xd2\\xc0\\xdc\\x15\\xee>\\x95i\\x16\\xde\\xe1\\x8e\\xd3\\x828#\\x18?\\x95 h\\xa16-\\xd1dD\\xc1<\\x8fCE\\xb6\\xa3o.\\x12\\xe6-\\xa5\\x8e\\x0b\\xafo\\xc2\\xb4\\xeflQ\\xa0\\x8ds\\x9cV\\x1d\\xdd\\xb8\\xb7\\x7f\\x90dzR3z\\x1b\\x03Gd\\x9frN\\xa4\\x0eF\\x0f8\\xf5\\xabw72YF\\x19\\x13p \\x13\\x9e\\xb5\\xcd\\xd9]\\xbd\\xb5\\xda\\xceY\\xb08#=\\xbd+x\\xdcE4%\\xd2@\\xc0\\xf0>\\xbe\\x95-jTl\\xc7\\xac\\xebx\"\\xdd\\x95f\\xfb\\xc0\\xf3Q\\xeaV\\xea-%\\n\\xbf.95\\xa3ag\\x1c\\x10\\x19dd%FNx\\x15ZMB\\xca\\xe0\\xcb\\x1c%\\xf2\\xaaH\\xca\\x9c7\\xd2\\x95\\xf5\\xd0\\xa7\\xb6\\xa7$\\x85\\t\\n\\xdf)\\x04\\x90*]\\xbb\\xb9\\xe3\\xf0\\xabPY\\xbd\\xc4m!M\\xb9n\\t\\xa2M2\\xe24\\xc9\\x8c\\x94<\\x86Z\\xd6\\xf71\\xd4\\xaa\\xaa\\x0bc\\xe5\\x1e\\x9cu\\xa9\\x16\\xd9\\x80\\xde\\xc4g\\xb0\\xa6\\x15`\\xc4\\xe6\\xa4Y\\xa4U\\xda[ \\x8eOz@\\x99\\x0c\\xb1\\x97PJ\\x11\\x8fz\\xb1e\\xaa]Y\\xb2\\xc6\\xaf\\xb9O\\x18o\\xf1\\xa6\\x16\\xcf\\x05\\x89\\x02\\xad\\xda\\xdb\\xdb\\xceLo\\xc37F\\xf7\\xa9cW\\xb9\\xd2\\xad\\xe3yH\\xf8a!\\x03\\x83Ow{\\x88\\x0ep@\\x1d\\rd\\xd8\\x9b\\xa8\\x19`\\xbbB\\xd1\\x03\\xf2\\xc8\\x0fj\\xd7\\x0b\\xc0\\\\\\xa9\\x04\\xf0\\xdd\\x8dd\\xf47\\x8b\\xba\\xd4\\xe2\\xf5e\\x11\\xdd\\xb2c\\x18&\\xa9\\xaa\\xab(=\\xab\\xaa\\xd6\\xb4]\\xf2G&U[\\x04\\x11\\x9e\\xa6\\xa8\\x9d\\x1e+XU\\x9c4\\xa7=\\x05o\\x1a\\x8a\\xc0f\\xdbK,Rf9\\x08Q\\xda\\xaf\\xc9\\xafGn\\xc9\\x1c\\xe8\\xc5\\x9f\\x00\\x15\\xe9ZV\\x9a=\\xb4\\xb8}\\x9bwr\\x06j\\xf5\\xee\\x8da-\\xb8\\x89\\xe0VP2\\x0fu>\\xc6\\xa7\\x9a7\\xd4-s\\t\\xf7,\\x8e\\xb2\\xa2c?)\\xdb\\xdb\\xd4T\\xa6\\xd1f\\x84\\xb9\\x7f\\x9ct5\\x04\\x0e\\xd2\\xa3BNp\\xbb\\x90\\x9ey\\x1d\\xbf\\x1ao\\xdbd\\x11\\xedN\\x84s\\x9af\\n\\xc4\\x7fh\\x9d7+\\x00\\xd9\\xe3wZ\\x96\\xdc\\x99\\xa3\\xd9/ \\x1e*\\x01$\\x91\\xa7\\x00r{\\x8a|n\\xf3?\\x00\\x00;\\n`\\x89n!X\\x80\\xfe\\xe9\\xe9N\\xb1\\xb7k\\xa9\\xbc\\x92@\\xdf\\xd34E\\x1f\\x99>$\\xc9\\xe3\\x8c\\x9e+F\\x15\\xf2FT\\xe0v\\xf6\\xa9l\\xb2\\x95\\xc5\\x84\\xd0;\\x05\\x08Pv\\xefQ[]$!\\xd2x\\xc1^\\xa3\\x8e\\xf5\\xab5\\xbb]\\xa9\\x1b\\x981\\x19\\x04\\x1e\\xf5\\x8b,\\x13DJ\\xb0\\xef\\xe9\\xd6\\x84\\xef\\xb8\\xa6\\xacB\\xdbdv!p\\t\\xe34\\x85J\\x9e)\\xe1\\x94g+\\x83\\xd3\\x9aa\\xc2\\xe4\\xabdg\\x91L\\xcd\\x12\"\\x19N\\x17\\xa7R\\riZ\\xc5o\\x0b&\\xe6^\\x0f\\x03\\xd2\\xaa@\\x168\\xe4\\x90\\xf2v\\xf1T\\xd4\\x12r\\t\\xc9\\xeb\\xcd\\x05\\xa7mN\\xcc\\x05\\x9b\\x03nG\\xb5cj\\xf6\\x826Y\\xe2m\\xb2\\x03\\x81\\xda\\xa0\\xb0\\xd4\\x9e\\xdd\\x84n\\xdc\\x1e\\x99\\xa95\\xfb\\xe8\\x8e\\x99<\\xa4\\x82\\xcf\\x84Lz\\xd1\\x1b\\xdc\\xd54\\xd6\\x86l\\x1a\\xb0\\x0e!\\x9d\\xb6\\x168\\x0e}jG\\xba\\x8a]\\xeb\\xb0\\x97^\\xb9\\xaeA\\x8b9\\xf9\\x98\\x9f\\xadmh\\xf7 \\x86I~\\xf2c\\r\\xed\\xe8kYCK\\x8aF\\x94vQ\\xbag\\x05Kt4\\xc6\\x81\\xecN\\xf4|\\x1c\\xf0=MZ2F\\xac0\\xa5\\xb0r\\x07`j\\xcd\\x9b\\xc5,\\x9b\\xa6M\\xd9\\xe9\\xe8+2,S\\x96\\xf2\\xee\\xea\\x11\\x0c\\x84\\xa2\\x1e\\xd8\\xe0\\xd6\\xbd\\xb5\\xacQZ\\xc7\\xff\\x00-\\x19z\\xe7\\xb8\\xf6\\xa8\\xae\\xae\\xed\\x16\\x07\\x8c.S\\xd7\\xbej\\xa6\\x9f\\xa8\\xb8d\\x81\\xc6\\xf5=\\x1a\\xa1\\xa65\\xe6M\\xaaG\\xba\\xc1\\n\\x02\\xa3w\\xa6+*+\\xcb\\x88Sb\\\\\\x10\\x07f\\xe4~\\xb5\\xb7{\"\\x1bf\\x11\\xee}\\xbf\\xc3X\\xa25\\x95\\x0b-8\\x93-\\x0b\\xf1\\xc7\\x06\\xa8\\x87n\\x12p9\\\\\\xf5\\xf7\\x15\\x9d5\\xbb\\xc2\\xcc\\x8c\\x0eT\\xf5\\xa6|\\xe9\\xdb\\x04t#\\xa8\\xad\\x9b;\\xa8\\xaf\\xa3\\xf2\\xae\\x07\\xef\\xf1\\x81\\'\\xaf\\xff\\x00^\\x87\\xa0\\x95\\xa4c\\xc4\\x81\\x9c\\xe4}\\xda\\xb1\\x19\\x8d$F\\x8f#\\x06\\xadIm\\xe4^\\x05)\\xbdJ\\xe7+\\xd6\\xab<\\x90\\xf9\\xe0e\\x90z0\\xe6\\x8b\\xdc6:X1$C$\\x15\\xc75\\x1cA\\xa0\\xb8h\\xf3\\xba6\\xe8\\x0f\\xe9Y\\xd6\\xd7\\xa60\\x19F\\xe8\\xf3\\x8e;\\xd6\\xb2b\\xe5\"\\x94)S\\xbb\\x15\\x9bF\\xcbQ\\x9a\\xaa\\x9b\\x9buS\\x95t\\xe3\\'\\xb8\\xac\\xdb{\\x89l\\xca\\xac\\xe0<d\\xf5\\xad\\xfb\\xb8\\x9d\\x88W^*\\x93i\\xe2g&U\\xda\\x80p\\x0fz\\x13\\x1bD\\xe8\\xcb2)\\x87\\x1eX\\xea\\x17\\xadKq\\x96S\\x8e\\x01\\xe0\\n\\xa5-\\xdd\\xb5\\x90\\xf2\\x92TLv\\xf7\\xaa\\xb0\\xea\\xea\\xec\\xea[p\\xea\\x0eiX\\x13H\\xc7\\xb2\\x1f\\xe9\\xb1z\\x96\\xa9 \\x84>\\xe3\\x81\\xb74Y`\\xbbK\\x8c\\x88\\x86\\xee\\x7fJ\\x9e\\xcb\\x13\\x06\\x01\\x88;\\xb3\\x8a\\xd5\\x98\\xc5jG{\\x08\\x8e8\\xb1\\xf7j\\x90,\\x0e@+Zw\\x13A\\x0c\\x8d\\x0b\\x86lu\\xc7Ji\\x8e\\xdakfx\\xf7\\x06A\\x93\\x9a\\x13\\t-t2\\xf3\"\\x9c\\xee \\x8e\\xf5\\xa3\\x1d\\xdc\\x86\\xdc\\x92\\xa3\\x8e\\xadQ\\x18VF\\xdc\\x18\\x05a\\xebV\\xe0\\x89%\\xb5\\x92\\x15`\\xc3\\xa8\\xdb@\\xa3{\\x91\\xc3\\xa9\\x84\\x986\\xee:\\x15<U\\xa7\\xd4\\xad\\'B\\xb3\\xc3\"6>\\xf0\\xe4\\x1a\\xc2h\\xf0z\\x13\\x8e\\xa2\\xa6\\x82Eo\\x92L\\x81\\xd9\\xbd(\\xd0j}\\x19nk\\x10\\xc8\\xb2\\xc2\\xe2H\\x8f\\xf1\\x0f\\xebU\\xda\\xdc\\x06\\x08\\xc7\\x04\\xf4\\xc5_\\xb6\\x86HO\\xc8\\xc4+\\x0e@\\xe8k=\\xef\\xda=@Y\\xdd\\xc4\\xa1\\x8f(\\xc9\\xe9\\xda\\x9a\\xd7a\\xa8u,\\x1d\\xb6\\xf0\\xc8\\x8d\\xc8E\\xcb{\\n\\xa4T\\xc7&OQO\\x92\\xe1\\xa3\\xbc\\xdeT\\xec<0#\\x82*\\xe2\\x9bY\\x80\\x87\\xccR\\xc3\\x85>\\xd4\\xc1\\xab\\xa2\\x9eb\\x98\\x0c\\x90\\xad\\xd3\\x9e\\x94\\x9bVT{i\\xfeh\\x9f\\x8f\\xa7\\xb8\\xa2kvF#\\x1c\\x0e\\xf4\\xc1(\\x81\\x0c\\x84d/4\\x89M\\xdc\\xe7n-\\xde\\xd6\\xe6H_\\xef!\\xc6}i\\x91L\\xf6\\xf2\\x07S\\xcf\\xf3\\xa9on\\x9a\\xee\\xf1\\xe7n7t\\x1e\\x82\\x8bh\\x84\\xacw\\x0c\\x81]7\\xd3S[\\xd9\\x1a\\xff\\x00;\\xdb\\xc7q\\x92\\xa5\\xbf\\x84\\x1e\\x86\\xb4-n\\x16H\\xf6H6\\xb9\\xe9Y\\x88\\x8d&6\\x9e+N\\xde-\\xd1(`:\\xf3\\x8e\\xb5\\xcef\\xb7%\\xb7\\x16\\xb2\\xcc\\xd1\\xdcLS<t\\xc8\\xad\\x01emf\\x03F\\xdej\\x9ca\\x85c\\xcf\\xb3z\\xc2\\x89\\x8fs\\xd6\\xa4\\x12\\xb2I\\xb5\\x1f\\xe5\\x07\\x1bM&\\x82\\xfa\\x9a\\x8fj<\\xe96\\xb1\\xcfR*\\x8d\\xcd\\xb6\\xdc\\xb2\\x12\\x8d\\xed\\xde\\xa7\\x96\\xe0Z\\xde\\xefs\\x90\\xea8\\xf4\\xa1\\xe7I\\x89\\xd8A\\x07\\xbdIZ3)c\\x7f\\x9f<\\xf3\\xcd7c#\\x86RA\\x07\\xb5mEj\\x8eI\\xc0\\x00\\x8cSWN\\xc4\\x80\\x0c\\x10y\\xcd;\\xa6\\'\\x06\\xb5E8\\'\\x90\\x8d\\xcc\\xc7wj\\x1e\\xcd\\xe4\\xdd$\\xa4\\x96\\' \\x81V\\xael\\x84L2\\xa47\\xa0\\xa5Ct\\x15\\x00\\x00\\x90y\\x07\\xbd+\\xd8iw$\\xb0\\xb5\\xf2\\xe3\\xd8\\t%\\x88\\xea+j\\x0bv\\x0c9\\xf9\\x10f\\xa1\\x89^EF\\xdb\\xe5\\xb9\\xea\\x0fj\\xbc\\xf2\\x00\\xa2\\x0c\\xed\\xcfSY\\xb6h\\x90\\xcf9\\xa4,\\xec@A\\xebTu+\\xe8\\x8a\\x00\\xa7\\x9e\\x80\\xd5]vwKm\\x90d0\\xf4\\xaej\\x0b\\xb9C\\x08\\xe6r\\xd1\\x93\\xc8=j\\xd4I\\x94\\xed\\xa1jXKI\\xfb\\xc7\\x19\\xcf\\x7fJb\\x05\\x8c\\xf0C\\x02{T\\xac6\\xae\\xd5\\xc4\\xa0q\\x9fJD\\x05\\x18\\x92;qTb[x\\x1e\\x0bq\\x18\\x1c\\xcb\\xf3;\\x0fOJ\\x8fO\\x81\\xa4\\xb8#?tsPC5\\xc4?*\\xb6T\\xf6nA\\xab\\x9a|\\x90-\\xde\\xe9\\xa3\\xf2\\xdc\\x0c\\x82\\xa4\\xe0\\x9f\\xa52\\x90\\x97v2I;2e\\x9b\\x00\\xe0\\xf7\\xaaq\\xc8b$\\x1c\\x80x5\\xb8\\xb72=\\xdcf%\\x06&\\'\\xe6\\x03\\x91\\xf5\\xf4\\xa8\\xef\\xf4\\xef\\xb4n\\x96$!\\xf9$vjH\\x1a\\xea\\x8c\\xa8\\x99\\x08d`\\x00nA=\\x8d*I\\xf6;\\x80\\xc1\\xb2G]\\xbd\\xea\\x00\\n1^F85\"\\xa1\\x90c\\x1c\\x8a\\t\\xb9<\\x91\\xc5r\\xfb\\xed\\xdf\\xe6o\\xbc\\x8d\\xc6*\\xa3\\xc6\\xc8\\xc7r\\x91\\x8a\\xba\\x90(_\\x91\\xbelt5\">\\xd1\\xb2\\xf12\\xa3\\xa3\\x11@\\xf9[\\x1b\\xa7\\xdd\\xaa\\xa8G##\\xa6\\x7f\\x95Iqc\\x15\\xec\\xa6\\xe62\\x8d<C\\x81\\xebT\\xeeM\\xbc\\x8eD \\x81K\\x16\\xf0\\x98W\\xf2\\xc9=h\\xeaTe\\xd1\\x90j\\xda\\x90\\x82\\xd3h\\x80,\\xaf\\xd3<\\xe2\\xb0\\xc6\\xa7&\\x144i\\x91\\xdcqM\\xd4\\xa3\\xba\\x8e\\xed\\x96\\xec7\\x9ay\\xe7\\xb8\\xf5\\xaau\\xd0\\xa2\\xacZF\\xcc\\xda\\xccsi\\xf2\\xc2\\xca\\xdekp\\xa7\\xd0\\xe6\\xb2\\x8c\\x92\\x95\\xc1\\x91\\xb6\\xf7\\x04\\xf5\\xa6g\\xbd\\x04\\xe7\\xa8\\xa1E!\\xd8J\\xd0\\xd3\\x94\\x14b0Nq\\xcdP8<\\n\\xd6\\xd3m\\xca\\x05.2\\x19\\x85)\\xbd\\t\\x93\\xd0\\xbd,\\x8bk\\xba\\x11\\x124\\xdd\\xd8\\x9e\\x17\\xf0\\xaa\\xc6\\xf6\\xe9z\\x15\\xc7\\xfb\\xa2\\xa5\\xb9e\\xf3\\xe4c\\xceI\\xfc*\\x04;X\\x11\\xca\\xfa\\x1a\\xc8\\xca\\xe3\\xd6\\xfeU\\x1c\\x84\\'9\\xe5EX\\xdc.\\xa32\\xa0\\t*\\xff\\x00\\xacQ\\xdc\\x7fxU9\\x97\\x90\\xca\\xb8\\x06\\x88&x\\xe4\\x0e\\x87\\x04\\x1a`kL\\x9ek\\xc1\\xcf\\xcc\\xc9\\x8e{\\x9a\\xb1\\x15\\xab\\xc4\\x03a\\xb0\\xa3\\r\\xdc}j\\x19\\xc1{hgD\\xf9W\\xa8\\x1f\\xc3Z\\x11\\xdd(\\xb6\\x05\\x18e\\xfbT\\xb2\\xa2\\x8b\\xd1\\xc6\\xa9\\x16YN\\x0e9\\x15(P\\x1c\\x9cs\\xd4\\n\\xce\\xdb\\'\\x92z\\xec\\xf4\\x1c\\x0f\\xca\\xac\\xdb\\x19\\x1a\\x13 9q\\x80\\x14\\x9e1\\xfd+;\\x1a\\xa7\\xd0O*k\\x9b\\x86m\\xdf\\xbbS\\x8c\\xe3\\xad^\\xb6\\x81\\x14\\x10\\x06}\\t\\xa9,\\xd0Ml\\x8c\\x01\\x01IG\\x1d\\xd4\\xfa\\x1a|\\xe8\\xd1!\\x03\\x02\\x94\\x86\\x89\\xe3\\x866P\\t\\x02N\\xc6\\xa9]2!eo\\xbe:\\xfb\\xd4K<\\x8c\\xdb\\x14\\xe3\\xdf\\xd2\\xa8^\\xc8\\xccJ\\xa1foZ\\x12\\x1bv\\t\\x8e\\xe8\\x1a@{t5\\x8d5\\x82:\\xeeV\\x1b\\xb3\\xc7\\x15n)&\\x02H\\xe6\\xe4v=\\xeax\"\\x1b\\x01u\\xc2\\x9eqW\\xb1\\x8c\\x95\\xcc\\x98<\\xd8\\x8f\\x96I\\x0c:\\x8a\\xb0\\xe9\\xb8dt\\xf6\\xabr\\xd9\\xef/ #\\x9eT\\xd4\\x01$\\xfe!\\xc9\\xfc\\x8d1Z\\xc3<\\xf4}\\xd9\\x8fi\\xecEE\\x1c\\xa5r\\xcer;\\nO,\\x822\\xd5\\x1b\\x82\\x18\\x12\\x0e1\\xd2\\x98\\xaehGu5\\xac\\x8a\\x15A\\'\\x97\\x18\\xe9\\xc7J\\xd1mL\\x98A)\\xdb\\x9e\\xd5@H$c\"\\x14\\x0c\\xc0\\x02\\xaf\\xf4\\xedP\\xb9\\x9aM\\xf17\\xc8\\xe0\\xfd\\xd3\\xdc{R\\x1aey\\x18\\xdc\\\\3\\xf6bN)\\xd1\\xb9\\x86@\\xc3\\xf1\\xa9`\\xb1\\x90\\xb0l\\x8e*\\x19\\x01\\xf3\\x08\\xc61C\\x13]K\\xb3^[I\\x03\\x02\\xa7{\\x0c\\x06^\\x084\\xb6w(\\xb6\\xdff\\x9aC \\x00\\x8d\\xce\\x05RP\\x11\\xb0\\xc3\\x8cu\\xf4\\xa4\\x96\\x17NI\\xe0\\xf7\\xa2\\xe1\\xce\\xfa\\x8ex\\x19\\x8b\\x15+\\x81\\xdc\\x1a\\x97\\xcb\"5feT\\xef\\x93T\\xdbq\\xb5\\x92 \\xcc\\x19\\x868\\xac\\xf8\\xb4\\xa97\\xe6i\\x19\\xa3^v\\xe7<\\xd3C\\x8d\\xb75\\xb5-2\\xd7Q\\x8cOo1\\xf3\\xe3R\\x18\\x93\\x90@\\xaeH\\xf0k\\xa5l\\x94\\x91\\x03lV\\x04\\x1cp+\\x9aq\\xb5\\x88\\xce@<V\\xd4\\xde\\x96-J\\xe2g\\x9a\\t4\\x94g\\x8cU\\x94Z\\xb2M\\xd23\\x10\\x0e\\xd1ZQJ\\xd18|d/85\\x9bg0\\x86l9\\xc20\\xc1>\\x95\\xb0\\x91\\xa1\\x00\\x8ex\\xceGz\\xc6w\\xb9\\x94\\xb7!$H\\xcc\\xfe\\xa7<P\\x17\\x07\\xfaS\\xc8X\\xe4\\xc8RW=*\\xe5\\xb5\\x9b^\\xce|\\x9d\\xaa\\xb8\\xc9\\xcfj\\x82J`\\x8ca\\x87^*\\x19\\x13a\\xc8\\xe8+F\\xe7N\\xb8\\xb7=7\\'f\\x02\\xaaH\\x8d\\xb0\\x1cv\\xa6\\x86\\x91n)\\x9dl#eb\\x08n\\xa2\\xa4\\x8e\\xe1\\x18\\x87\\xcf\\x97\\'\\xb0\\xca\\x9f\\xc3\\xb1\\xa8,\\x9bu\\x8c\\xb1\\x93\\x8c\\x1c\\xe6\\x9ac\\xd9\\xc7\\xe3C\\x07\\xa1\\xbb\\x05\\xeb\\x80\\x91\\xb6\\xc6W\\x1c\\x15\\xfa\\xd5\\xe8\\x99cr\\xad\\xc6G\\x02\\xb0,\\xe5\\xd8\\xe1d`\\x019\\x04\\xf6?\\xfd\\x7f\\xf0\\xad@\\xcd<n\\x01\\xdb*\\x1eA\\xa8h\\xd22\\xba+jz\\xa4\\xdaN\\xa5\\r\\xc4\\'\\x0b0\\t\"\\xe7\\x86\\x00\\xf5\\xfa\\x8a\\xdd\\x96\\xf1ea\\xb4\\xf0@$\\xfa\\xd7;\\xad[\\xad\\xfe\\x94\\xcf\\xe5\\xfe\\xfa\\x1f\\x98\\x01\\xe9\\xd0\\xff\\x00J4\\x8b\\xb5\\x96\\xce5g\\xdc\\xea1\\xcfZ\\xab^7\\x1d\\xf47%\\x99b\\xb7%q\\xbd\\xab\\x1bR{\\x88\\x1d^\\x12T\\x0fJ\\xb0\\t\\x92\\xe0g8\\x06\\xa4\\x9c\\x89\\x1c\\xab\\x1f\\x97\\xde\\xa0\\x1b\\xb8Ay\\x05\\xfcJ\\\\(\\x97\\xa3\\x81V<\\x94\\xf2\\xc9\\'\\x81XsY\\xc6\\x1ftRm\\x7fL\\xd4\\x90_\\xcd\\x02\\x18e\\x05\\x94\\xf7\\xa7\\xca$\\xfb\\x9a/88\\x04`\\x0fJ\\x82_\\x99\\xc1NG_\\xc6\\xa2G\\xde7\\x16\\xf9H\\xe0\\x1a\\xb5\\x1d\\xb99\\xdap\\xa4g\\x9e\\xd5j:\\x0f\\xa1\\x05\\xd4\\x1b\\xa2.\\x8a8\\xe2\\xb2\\xe5\\xc8`\\x0bs\\x9e*U\\xf1\\x0e\\x9f,!Y$\\x8c\\xf7\\xee3Q\\x8b\\xcd0\\xe5\\x8d\\xc1\\xcf\\xa6\\xd3O\\x95\\x93(\\xdc\\xbe\\x90\\xa9Nr3\\xce}\\xa9\\xad\\x1ePG#`\\xff\\x00\\xcb\\'>\\xbe\\x9fJ\\x86\\x1f\\x11\\xdaI*@\\xd1m\\x1fu_\\xb5Y\\xbci\\x1a\\xdc\\xf9X`\\x99 \\x11\\xc8\\xa4\\xd0\\xf9t\\x1a\\'\\xbb\\xb6M\\xcd\\x1e\\x14q\\x92:\\xd5m\\xf8;\\x8f\\'\\xbdP\\xb4\\xd4\\'\\x94\\x18\\xeeU\\x99s\\xc1\\xe8k@@\\xbe^\\xe1:\\x15\\x1dIn\\x9fZ\\x1cHi\\x8fK\\x90\\xc9\\xb5\\x901\\xe9R-\\xab]F\\x021\\xc0\\xe8=*\\x81\\x96\\x18\\xdf\\xfdj\\x8c\\x1c\\x1ej\\xcd\\xa5\\xf7\\x96\\xfb\\xa1uq\\xd7\\x8aV\\x12}\\xc6\\xcdm$;\\xb7\\x83O\\xb7\\x87\\xed\\x05\\x87B\\x07\\\\S\\xae\\xae\\xa4\\xb9}\\xc3\\x00\\x1e\\xa2\\xb4t{@\\xaae\\xde\\x1b=V\\x93\\x1ca\\xad\\x8esTF\\xb7\\x82T\\xdc\\x18\\x81\\x8c\\x8a\\xe7\\xe3C$\\x820F[\\x81\\x9a\\xeb\\xf5\\xfbh\\xa2\\xb6\\xb8\\x9e7\\xf9[\\x80\\x08\\xef\\xe9\\\\\\x84\\\\N\\x84\\x9e\\x03\\x02MmOb\\xd4lN\\x96\\x12\\xb1 \\xe0b\\x92k)!M\\xf9\\x05{\\xe3\\xb5l\\x0e\\x0f4\\xd9>e(W;\\xb84\\xb9\\xdd\\xc8\\xe6w1m\\xed\\xe4\\xb9}\\x8a\\xa4\\x81\\xc9#\\xb0\\xae\\x82\\xda\"\\xb0\\xede (\\xc0>\\xb4\\xdd(\\x0b+\\xbc/\\xdd\\x93\\xe5`jX\\xafek\\xeb\\xad>hB2n`H\\xe7\\xa7JM\\xdcoR\\t\\t\\xc9\\x1bI\\xa9l\\xae\\xa5\\xb4\\x9d]O\\x03\\xa8\\xf5\\x15\\x1eX\\x9d\\xa0g\\x9as\\x01\\x1bc\\x83\\xfc\\xea\\x08:\\xb8n#\\x9e\\x15\\x91\\x06bn\\xbcU\\x1b\\x8d\\x18K6c`\\xb17\\'=\\xa9\\xba-\\xe4-n\\xd03\\x84\\x90\\x1c\\xae\\xe3\\x8c\\xd5\\xeb\\xd9\\x9e8\\xc9Q\\x93\\xd8PV\\xe5\\x0b\\x9d\"=<n\\x89\\xf7+\\x8c\\x10}k\\x18\\x10\\xcf\\x86o\\xfe\\xb5t\\x02g\\x9a\\xc8\\x89\\x07 \\xd6\\x04\\x88VY\\x01\\xe0f\\x82d<0\\x00\\xa9 \\xfa\\x1a\\xb7m#\\xba\\x04\\xdc\\x04\\x8b\\xf7I\\xfe!\\xfd\\xdf\\xf0\\xac\\xd1\\xd7\\x8a\\xb0\\x8c\\x0cl\\x0es\\xdb\\x14\\t;\\x17\\xd2\\xef+2\\xa0\\xcb2\\x10\\x14\\x8e\\xad\\xe9\\\\\\x92]\\xdcA&U\\x8a\\x90O\\x1e\\x95\\xd2I\\x1c\\xd3\\x8f6&>zr\\xe0\\x7f\\x10\\xfe\\xf0\\xf7\\xf5\\xac\\xfb\\xcd!\\xae\"7V\\xb8o\\x97t\\x91\\x93\\xf3)\\xef\\x8fj\\xb85\\xb35\\x8b\\xe8lh\\xda\\x9c\\x17\\x90\\x00\\xf2*\\xdd\\x0e6\\x13\\x8d\\xfe\\xe2\\x9fs+\\xa1e`A=\\x8dq\\x07\\x82\\x08$\\x11\\xd0\\xd6\\xa5\\xa6\\xbb$q\\x08\\xee\\xc1\\x99GF\\'\\xe6\\x14\\xe5O\\xaa*\\xc6\\xfa\\x08f\\n\\x9c\\xee\\x1dM6HD\\x93\\x08\\xe3<\\x1c\\x0e}j\\x8c\\x1a\\xcd\\x82\\x91 \\r\\xbb\\xfb\\xa6\\xafE\\xaa\\xe9\\xc2U\\x91\\x99\\x95\\x89\\x1f)\\xe6\\xa2\\xcd\\n\\xcc\\xb5kg\\xb7z\\xbbt\\xe0\\xa9\\xedVY&\\x10\\xf0A\\n:z\\x8a~\\xd1$^tl\\x18?\\xf1T\\x10\\xbb\\x95d\\xe7\\x00\\xfet\\xaeRW2\\xa4\\xd3-\\xa1\\'u\\xaec~\\xa4\\x1eET\\x8bA\\xb7\\xb8v\\n\\xee\\x80\\xf4&\\xb7\\xae\\x9c\\xa0\\x08\\x0f\\xca\\xdc\\x9c\\xf6\\xa9#\\x8a8\\xca2\\x9c\\xa1\\xc7\"\\xab\\x99\\x92\\xf72\\x0e\\x83ij\\x06\\xf3\\xbeU<\\xe6\\xb5\\x10\\x08\\xd8(\\x01\\x95\\x85g\\xdf<\\xadr\\xec\\xa4\\x15\\xdd\\xd2\\xaf\\xd9\\xc5\\xbd\\x06\\xeex\\xeb\\xe9R\\xdd\\xf7\\x08\\xbdH\\xb5;k\\x1bkv\\xb8\\xd9\\xb7\\x18\\'i\\xae.\\xe2\\xe3}\\xc4\\x8f\\x16Q_\\xa8\\x06\\xba\\x9f\\x10\\xb2\\xc9\\xa5<p\\x8c\\x85p\\\\\\xe7\\'\\x15\\xc7}z\\xd6\\xb4\\xd5\\xd1vC\\xf9\"\\x95\\x1d\\xe3p\\xc8\\xc5H\\xee\\r4\\x1e(\\xebZY\\x13b\\xe2jw(pX0\\xf4#\\xa5jY\\xeb\\xaa\\x80F\\xd9\\x89\\x89\\xfb\\xc3\\x91\\\\\\xfd\\'ZN\\t\\x8d$\\x8d}j\\xfe\\xe3\\xedS\\xda\\xefV\\x81\\xb0W\\x1d:u\\x15\\x8d\\xd6\\xa6\\xf3\\x98\\xa6\\xd6\\xc3\\xafl\\xf6\\xa4\\x8d\"\\x93\\xe5w\\xd8\\xc7\\xa3u\\x14\\xd2\\xb2\\xb0\\xcb\\x967D\\x8f\"N\\xa0|\\xa7\\xfaV\\x82\\xb6\\xe2\\n\\xe2\\xb2`\\xb5t\\xbeT\\xc8m\\xa7;\\x87B+~\\xce\\xd0\\xca\\x18(9\\xea8\\xebXMjc%vF\\x8a\\x02\\xb4\\x84\\x9d\\xcbR\\xdb[G<\\xc2\\xeb?\\xbc\\x08P\\xa9\\xef\\xe8\\x7f*\\xb8lso\"(\\xcb\\x1a\\xcd\\x9e\\xe4i\\xb2[[\\x90C\\xe7.\\xde\\xa0\\xf1\\x8aJ\\xecq\\x8b&\\xbd\\x81`u\\xd8\\xc4\\xab\\xa8`q\\xfaUX\\xd4\\x07\\x0c\\xc4\\xed\\xefZ\\x06t\\n\\xb1\\xdc\\xc6^5\\'\\x0c8 TR=\\xa88\\x8e)[\\xe5\\xcf\\xcc\\xc3\\x8aD=\\xca\\xe6&\\x95\\xb3\\x12;\\x0c\\xfc\\xbcV\\xfe\\x97\\xe7Khc\\x95I\\x08p\\xa4\\xfaV(\\xbb\\x95\\x89Ep\\x8b\\xd8/\\x15b\\xce\\xe6\\xe2\\tS\\xe6,\\x84\\xfc\\xc2\\x80F\\xac\\xc1\\xe3s\\xb4\\r\\xb8\\xc1\\xacK\\xc2\\xfey\\xcfL\\xf0km\\xa5%\\x99[\\x03\\x91\\x8f\\x7f\\xa5f\\xce\\x01b\\x08\\xcf\\xd6\\x81\\xb3<\\x8c\\x1ar\\xb1\\x07\\x1d\\x8d9\\xe3\\xdar:TM\\x91\\xf4\\xa4At3\\xab+#\\x01\\x8er;S\\x8c\\xcd\\x1b\\xc7{\\x12\\xe0\\x93\\xb5\\xc0\\xe9\\xbb\\xff\\x00\\xafU#b\\x01\\xe7\\xa5L\\xcf\\x8b\\'o\\xf6\\xd7\\x8f^\\xb4\"\\x91]t\\x1b[\\xd9\\x9aA{\\x1d\\xb8w\\'c\\x0f\\xbb\\xedU\\xe6\\xf0\\xad\\xea1\\x10\\xcb\\x04\\xc0\\x7fq\\xe9Y\\xcc\\xac\\x0b(\\x02\\xa5\\x8a\\xe2XNT\\x92\\xa6\\xaf\\x99\\xa2\\xd4\\xecs\\xf7V\\xd3Z\\xcec\\x9a3\\x1c\\x83\\xb1\\xa8\\x83\\x10s\\x93\\x91\\xfaWYq,Z\\xacb\\x0b\\x88\\xc1`>I\\x07\\x0c\\xa6\\xb9\\xeb\\xbd*\\xe6\\xd032\\x16O\\xef\\n\\xd23L\\xd22L\\xd9\\xd3\\xb5K\\xa7\\xb7C\\x19\\xca\\xc7\\x80\\xf1\\xfa{\\xd6\\xe5\\x8c\\xf1^\\xe4\\xa9;\\x87U\\xf4\\xae\\x1e\\xc2\\xf6k\\x1b\\x814\\r\\x86\\xe8A\\xe8G\\xa1\\x15\\xd7\\xd9Om87VaVg_\\xdeC\\xd3i\\xf6\\xf6\\xac\\xe7\\x1e\\xc2~\\xeb\\xb9\\x1d\\xccw\\x04\\x06v\\xfaS\\xedf\\x9d_\\xcb\\xc1\\xc1\\x199\\xe9Vg\\xf9\\xcf\\x96\\xe0\\xe0z\\x0e*7W\\x8dQS\\xf35(\\xcd\\x16\\x95\\x11\\xe1S\\xb3/\\x9cf\\xa2\\xbc\\x92\\x15\\x80\\xc6\\x93\\x15\\x93\\xd4S\\xec\\xe7\\x03\\xf7ny\\xea\\xbcw\\xaa\\xf7\\x9az\\xbc\\xcc\\xd1\\x9f\\x94\\x9c\\x80\\x7f\\x95\\r\\xea[zhP3\\x05!\\x1c\\x0ez\\xfb\\xd5\\x0b\\xcd\\x11w\\xa9\\xb5\\x93\\xe5nHo\\xe1\\xad9\\xa0\\x01\\x87\\x98\\x98\\x1e\\xb4\\xa7\\xaf^1U\\x16\\xd6\\xc2\\x8bg>\\xda=\\xe2#\\x10\\xa1\\x82\\xf3\\xf2\\x9ej\\x96\\x08\\xae\\xd2\\xde2\\xcf\\x91\\xce\\xe3\\x8c\\xd5-CE\\x86\\xe1\\xd9\\xa1>\\\\\\xa3\\xaez\\x1a\\xd1T\\xeeU\\xcec4T\\xb2Z\\xcd\\x13\\x95e\\xce\\x0fQ\\xd0\\xd6\\x87\\xf6j\\x08\\x14\\xe3s\\x11\\xcf5nI\\x03\\x922MOih\\xf7\\x93yi\\xe9\\x9a\\xb8\\xba|{\\xb0Cb\\xad\\xdb[$<\\xa6P\\x9e\\xf5\\x0ehND\\x10@\\xd6\\xab\"\\xdc\\xc9\\xb5\\x07\\xdd\\xc8\\xad{\\rF\\x18\\xc4q\\xac\\xca\\xfc}\\xde\\x86\\xab\\\\ \\xb8\\x88\\x86m\\xc7\\xb85D\\xe9l@kB\\xdebr\\x15\\xba\\x9a\\x8b\\xa7\\xb9)\\xdd\\x9d\\x14\\x1a\\xd5\\x91\\x9eD\\xdcca\\x9f\\xbe1\\x9a\\xe6u\\xdb\\xb8\\xef5\\x1f2&,\\x00\\xc6i\\x9a\\x84&T\\xf3\\x82\\x14u\\xf9eLt>\\xb5\\x9d\\x80:UF+s[\\x9dn\\x994Wz*\\xa9d\\xf3\\xa1%v\\xf7\\xc7cP\\xad\\xbb\\xb2\\x83\\x9a\\xc4\\xd3\\'0^\\xa9\\x07\\xaf\\x18\\xf5\\xae\\xb1$I-\\xd6L\\x00\\x7f\\x88TMY\\x99\\xc9\\x19\\xa6\\xdc\\x999\\xe1}\\xaa\\xcc\\x7f\"\\x1e\\xb9\\xedR\\x95P\\x0b\\x1c\\xed\\xec*\\xa3\\\\\\xe3p\\x03#\\xb5A\\x99\\xa7l\\x12{}\\xb2a\\x9a>\\xd9\\xfe\\x1e\\xdf\\x91\\xaa\\xf7H\\xc9&\\x07N\\x95\\r\\x9f\\xcb\"\\xc8X\\xedn\\x18\\x0fJ\\xb0\\xeaT\\x11\\x90v\\x1eO\\xa8\\xa0{\\x95@!\\x07z\\x82T*r\\x06EN\\xed\\x86#?-4\\xb8E\\xdc{w\\xa2\\xc2el\\x9cg8\\xa9\\xa0\\x90Om$\\x11\\xf3 !\\xf1\\xfd\\xe1\\xdf\\x1e\\xf5^g\\x12q\\x1fq\\xd6\\xab\\xa6\\xf8\\xddYX\\xab/ \\x83\\xde\\x98\"\\xc1\\x8c\\x8fzM\\xa4.\\x1b\\xa7j\\xbd*y\\xa2\\x1b\\x9d\\xf1\\x8f92\\xcb\\xe8{\\xd4\\r\\xe5`\\xa9,\\xc7\\xd8u\\xa0,V\\xcf\\xcd\\x80N}EY\\x8a\\xf1\\x82\\x84\\x95\\xb7\\xa0\\xf5\\xa6\\x89\\x04@\\x03\\n\\xe0\\xf3\\xf3\\n@\\xd1N[1\\xec>\\xaa3\\xfaP\\t\\xd8\\xaf-\\xa5\\xac\\xd1\\x92\\x13\\xca\\x94\\xf2\\x19~\\xe9\\xf6#\\xb5Y\\xd24]@\\xe6x\\x99\\x14\\x0f\\xe2-\\xda\\x9cm\\x1e\\x14G#tn>V\\xc7\\x06\\xb5t\\xf5\\x0bj\\xbc\\x81\\xebO\\x9d\\xa4\\\\[\\xd9\\x8cfp\\xa3\\xe6\\xcd*\\x17b\\x17w\\'\\xb1\\xe8iIR0Xg\\xb1\\xa1\\xd0\\x8208\\xf5\\xa9\\x11,\\xa8\\xb6\\xc8\\x97\\x04\\x0cHJ\\xb2\\x0e\\xaa}G\\xb5>\\x19\\xc4\\xc5F\\xee3\\xf9\\xd5iK6\\xd8\\xb1\\x95a\\xf9S\\x90\\x08\\xa3\\x01M\\x03C\\xaf\\xa1\\x0e\\xcb\\x8f\\x94u\\xaaK\\x0f\\x96O\\x99 \\xe4\\xe4\\x1a\\xb7<\\xc4\\xa1\\xe7\\x90+-#\\x92\\xe2m\\xac\\xdc\\xb1\\xc0\\xcdP\\xdb\\xb1s\\xed\\xa9\\x1a\\x84\\x8b\\x929/\\xda\\xa3\\xcc\\xac\\x0b3\\x93\\xbf\\x9aIa\\x92\\x02w\\x0e?\\x9dI\\x0eL\\\\\\x8c\\x8c\\xd2l\\x86\\xdb#K4\\xce\\\\\\x96\\xcfCC\\xdb\\xf9r\\x0f\\x98\\x94==\\xaa\\xcal\\x0ew\\nI\\xad\\x9a\\xe0\\x0f\\x98\\x85\\x079\\x14&\\x16%[xe\\x88\\x16\\xc0\"\\xa0k#\\x10}\\xa4\\xed\\xf4\\xf6\\xa1m\\x9d\\x13jM\\xb8\\x1e\\xa0\\x8a\\x9c\\xb3\\x05P\\x1b\\x94\\xf5\\xf4\\xa4V\\x85\\x13\\tU\\x0e\\t8=)\\xf0\\x9d\\x92\\x02H\\xe7\\x9a\\xbd+\\xc7q\\x16v\\x05 b\\xb3\\xa4]\\x8d\\x82x\\xa6\\x89j\\xc3/\\xa3\\t\\'\\x9e\\x92oV_\\xde!\\xe7\\x8fZ\\xc4\\xd4,\\xc5\\xb1WS\\x94~\\x985\\xbd\\x02\\xf4b\\xbc\\x83\\x9a\\x88\\xe96\\x97\\x93G\\x87d\\x19\\xf9\\x94\\x9e*\\xa3+\\x16\\xa5s\\x98\\x04\\xab\\x02\\xa7\\x04V\\xbc\\x1a\\xc0\\\\\\t\\x10\\xe4\\x8c1S\\xc7\\xd6\\xa0\\xd4\\xb4\\xc9,\\xa5;Ax\\xfd@\\xce+>\\xb6iI\\x15k\\x9d\\x02\\xea\\x91\\xdc6\\xc5;H\\xe8\\x0fzM\\xe4?O\\x975\\x83\\xd3\\x04~u\\xa3o\\xa8o!\\'<\\xe3\\x01\\xff\\x00\\xc6\\xb3\\x94-\\xb1\\x12\\x89\\xb1\\x1b\\xff\\x00\\xb2\\x15{V\\x85\\xb7\\xfaDd\\x17\\n\\xc1ps\\xdcVdN\\x8c\\x83\\x04\\x1e;T\\xd11\\\\\\x1c\\xf45\\x91\\x0bA\\x1e%R\\xca\\xb2\\x02\\xd9\\xc7<\\n\\xabq\\x1c\\xe0\\x0f1H\\x1d\\xc8\\x1cU\\xbb\\xb8\\xd9n\\x08\\xe8\\x08\\xc8\\xfcj8\\xa4x\\xbe\\xeb\\x1f\\xa1\\xe9L\\n\\x11\\x95\\xcb{R\\x92\\xad\\x82j\\xeb\\xad\\xac\\xa0\\x891\\x0c\\xc7\\xa1\\x1d\\x1b\\xf0\\xedLH#\\x8d<\\xc5V\\x94\\x8f\\xc0S\\xba\\x0b\\x16\\x96\\xdeg\\xf2\\x82&\\xf4\\xf2\\xc6\\x08\\xa9_L\\x96(\\xf7\\xc9\\x85^\\xa4zU\\xbd6\\xe1\\xde%\\x0f\\x8c\\xa9\\xdb\\xc0\\xc5;Y\\x96Cj\\xa8\\x99#\\xf8\\xbd\\xa9u*\\xda\\x187\\x92\\xb4\\xef\\xc9\\x00/\\x00\\x01U\\xd1\\xca08\\'\\x1d\\xc5L\\x9c\\x9c0\\xc1\\xa9c\\x8d\\x04\\x98\\xecER$j\\xcb\\xbd>G;T\\xe7nzU\\xbbk\\x93\\x00\\n\\xc3(O\\xa7J\\xa3$~D\\xd9N\\x87\\xa8\\xa9q\\xb8\\x03\\x93\\xeb\\xcdKAsCj\\x82\\t5)\\xc1^\\x08\\xc5PK\\x82\\xdf#\\xf3\\xd8\\x1a\\xb1\\x9e\\xfc\\xd04\\xc9\\x1c\\xf2\\x08\\xed\\xd0\\x9apul\\x03\\xdb\\x92*\\x1d\\xcc{\\x12OqH\\xc5cM\\xd2>\\x0f\\xf7{\\xd0\\x86\\x9d\\x89eH\\xdb!\\x0eOqQ\\xecLma\\xd3\\x04\\x1a\\x82\\x1b\\x93\\xe6|\\xc3\\xe7\\x07\\x8fz\\xb3+\\x89\\x00\\x91@\\x078\"\\xa8\\xad\\xcb\\xd6\\xc6;\\xa8\\xbc\\x99~f\\xc7_\\xebQ\\xdc[\\x9bu)\\x8e=\\xaa\\x0bK\\x95\\xb7w2.8\\xe2\\xae\\xdb\\\\\\x1b\\x87\\x91e \\xe7\\x90*Z\\x15\\x8a\\x1b>e\\xdcNjB\\xc5[\\x038\\xf4\\xab\\xf3Y\\x95\\xf9\\xc0\\xc8\\xcf\\xe5P\\x8bVe\\x0e\\x17*N:\\xf4\\xa9[\\x88\\x84\"\\xe0qQH\\xbc\\xd5\\x97GA\\xf3F\\xd8\\xecqQHwt\\xfci\\xec\\x05f\\xdaN\\xcc\\xe1\\x8f?Z\\x85\\xd3$t9\\xa9\\xca\\xa9|\\xb7N\\xb9\\x15^[\\xc5IB\\x18\\xcf<P\\x82\\xc2N\\xce\\xb8P9\\xab\\x11\\xa7\\xee\\xbe`7g\\x83Q\\xca\\xc2@\\xa79\\n8\\xa7\\xa8<g\\xd2\\x9b\\x10\\x9b\\nFpNs\\xde\\xb1\\xb5]-\\xdas-\\xacD\\xa9\\x19u\\x1d\\x8dn\\xac\\xd9/\\x1b\\x059\\x04\\x1c\\x8e\\x9e\\xff\\x00\\xca\\xa4\\xb6\\r\\xbd%\\\\\\x17\\x1d}\\xc58\\xc9\\xad\\x8b\\x8b\\xe8qf\\xd2\\xe5\\x13sB\\xe1G|qQq]\\x8f\\x88\\xcbAf\\xe5\\x07\\xc8\\xf8\\x07\\xdb5\\xc6s[E\\xdd\\x14\\xcb\\x16\\xd342\\xae\\x1b\\t\\xdf\\xe9Z\\xf0N\\x8eJ,\\xc0\\x93\\xd0V\\t\\xa9\\xad6\\xfd\\xa17\\xb60z\\xd2\\x94nL\\x95\\xce\\x9eG\\xdd\\x0cl\\xc7\\xee\\xfc\\xa4\\xd53q\\x82x\\x18\\xcdOm\\x99\\x92x\\x1b;\\xb6\\xee\\x00\\xd4p\\xda\\x99\\xf2\\x18\\xe0\\n\\xc8\\x81m,\\xfe\\xddq\\xf3J\\x15A\\xe4\\x1e\\t\\x15\\xb76\\x99\\x1c\\x16\\xdb\\xed\\xe4c\\xb7\\x9c\\x1f\\xe2\\xac9\\xad\\xdd\\x18,g\\xb63\\x9cV\\xed\\x81\\x93\\xec\\x88\\xb2\\x1eW\\x8aM\\r\"\\xa6\\x99+*;\\x11\\xb3/\\xd0\\xfd*\\xec\\xf7\\xf1F\\x87y\\x0c\\x18c\\x00\\xf2j\\xae\\xaf\\x0b5\\xba\\xcb\\x1a\\x9f\\x94\\xf3\\x8a\\xc3\\x0cO\\xde\\xeb\\xebBW\\x1d\\xec:Y\\x0f\\x98J\\x0e)\\xd1\\xb9b\\x0f\\x7fZX\\x91\\xa4`\\x02\\xe4\\xd6\\x8d\\xb6\\x9a\\x18\\x13!\\xeb\\xd3\\xda\\x9d\\xd2%\\xeaSv\\x0f\\xd7\\x1cTM\\x90q\\x9a}\\xd5\\xbbA1\\\\\\xe4u\\x07\\xd6\\x98z{\\xd5!\\x16\\xe7\\xb5\\x92\\xdaL:\\x90\\x0fC\\xda\\x85\\x95\\x8eGp:\\xd6\\xe4D_Z\\x04\\x97\\x0e\\xc0\\xe0\\xd6m\\xc6\\x9f,\\x04\\x98\\xb2c#\\x04zVi\\x94\\xe3mQ_\\xede`d\\x18\\xf3\\x18p\\xde\\x95P\\x82\\x0e\\xf69=\\xfd\\xc5K\\xd0\\x9c\\x8f\\xfe\\xb57\\x8e\\xa4\\xe4zU\\x13r \\xcc\\x8c\\x0f\\x1f\\x85X\\x86R\\xcc\\xc1\\x8f8\\xfc\\xea\\x06\\xceN\\x07\\x06\\x98$1\\xb2\\xb1\\\\\\x9fAL\\x13\\xb1m\\x9b|\\x85\\x00\\xc9^\\x84\\xf7\\xa5\\x8a\\xf8\\xdb\\\\\\t\\x0cd\\x901M\\xb6\\x17\\x0ew\\x8c\\x05\\x1e\\xb59\\x05\\xd6A\\x18\\x0c\\xc3\\x83\\x91\\xd2\\x91e\\x86\\xd6\\xee^Ex\\xa3\\xda\\xbcn\\x07\\xbd6\\xe7PrN\\xd8\\xf6\\x13\\xc8\\xefQ\\xdb\\xab\\xacm\\xe6\\xa8\\x04w\\x15a!\\x12\\'\\xcb\\xc8=\\xba\\xd2{\\x88K9\\'fg\\xf3wc\\xb8\\xe9Vn\\x15e]\\xf1\\x00\\xae>\\xfa\\x7fQY\\xf7\\x10=\\x8c\\xab\\xe5\\xc8\\x14\\x9ep\\rM\\x14\\xfedA\\xc1\\x1b\\xc1\\xea(`1\\x8eG=i\\xbeO\\x9a\\x9bH\\xc1\\xec}*\\xcec\\xb8\\x85\\xe4\\xe1eF\\x1c\\x0e\\x8d\\x9f\\xe5U\\xf72\\xb9\\x1f\\xd6\\x85\\xa0l@\\xa4+<d\\x02\\xeb\\xd7\\x03\\xef{\\xd5\\x85$FW\\x1f1\\xf5\\xa8f\\x8c\\x92%\\x88\\x95\\x96\\x98\\xd3<\\xc9\\x85]\\xac\\x08\\x04{\\xd0\\x03\\xdf1\\x8f4m\\'\\xa1\\x07\\xf9S\\xa4\\x8a_\\xb3\\xbb\\xdb\\xc9\\xb5\\xe1;\\xe3>\\xa3\\xae\\x0f\\xe1L[b\\xa72\\x10}\\xb3S$\\x8b\\xe6:\\x8f\\x95Xc\\x9e\\xd4\\xf6\\x08\\xeeGs{\\x16\\xb3\\xa5\\xbcp\\xe7{.H\\xf4#\\xb5q\\xe4\\x10pF\\x08\\xae\\x8bB\\xb5\\x92\\x16\\xbaR>ep\\xad\\xcf\\xd7\\x9a\\xc6\\xbf\\xb7\\x92\\xda\\xf2H\\xe5\\x079\\xc8>\\xa2\\xb5\\x86\\x9a\\x1a\\xb2\\xa9\\xe2\\x93=\\xe9\\xc4qK\\x1cFiV03\\x93\\x8cU7a\\x1b\\x9a<\\xf28\\x8c\\xb0\\xce\\x0e3\\x9e\\xa2\\xb6\\n\\xaad\\x05\\xefL\\x82\\xca\\xda\\xd6\\x05\\x08\\xed\\xf2\\xf5\\x07\\xa8\\xa6\\\\1\\x92Em\\xd8\\x8c\\xf1\\xc5s\\xb7vJ\\xb2\\x14,\\x8f( \\x85#\\xd4f\\xb5\\x96\"\\xf8\\xc1\\x00\\x903\\x8fZ\\xcb\\x826\\x8ee\\xe4\\x10\\xdf\\xce\\xaf\\x8b\\x9f\\x98\\xc4\\xa7\\x92:\\xe3\\x8a.\"\\xe2D\\xfb\\xc8;Y\\x08\\xc3dW9{``\\xbce\\x07\\xf7G\\x95>\\xa2\\xae\\x19.\\xd1\\xd9w\\xb1\\xf7\\xcfZT}\\xf1\\x9d\\xeb\\x95\\xcf \\xf5\\x07\\xd4T\\xdcOQ\\x96\\xaa\"_\\xbb\\x82O9\\xab^`$\\x82z\\xd5v\\x85\\x98\\x87\\x89\\xb7/\\xb7QA\\x0c\\x87=;R\\x12\\xd0/-\\xdau\\x05p\\n\\xf5\\xac\\xc9#h\\x81\\xdc\\x0ez\\x8a\\xd9V\\xf2\\xd3s\\xb0\\x03\\xebY\\xf7Y\\xb8`\\xd9\\xc0\\x1d\\x05j\\xb6%\\x96\\xac\\xe5h#\\x05:\\xf7\\x06\\xb5\\x17P\\x82XXM\\xfb\\xb7\\x1ds\\xde\\xb9\\xe8.J}\\xeeE$\\x8a\\x97.\\xacr\\x0e1\\x81P\\xd1jD\\xb7\\x8f\\x1b\\xddb0>a\\xdb\\xbd@\\xaa\\x03\\x82\\xcav\\xe7\\x91S\\xdaZ\\xa8\\xbaB[\\n?\\xbdW\\x1e\\x04\\x93*\\xc3<\\xf5\\x14\\xeeH\\xc1a\\x04\\xb919u#\\x83\\xe9Q\\xae\\x98\\xbb\\xc2\\xbc\\x81K\\x9c\\x0c\\xd4\\xc9\\x1b\\xda\\xdb\\xbc\\xb18\\xcau\\xc9\\xea+>\\xea\\xeevb7\\x86Bs\\x8e\\xf4!\\xe8_\\x92\\xd6\\x18\\x13\\xc8\\xb9f8\\xe5v\\xf7\\x14\\xd8\\xa6\\x8c\\x96T\\xfb\\xe0c\\xde\\x9a_\\xed\\x0e\\xacs\\x92\\x00\\xe7\\xa8\\xa8\\xeemM\\x9d\\xfa>\\xe2#nCv\\xf7\\x06\\x81\\xdc\\xb5\\x024\\xb3e\\xb9U\\x19a\\xeb\\x9a\\xb9$\\x08\\x1b|G\\x00\\x7f\\rW\\xb1H\\xf7\\xb4\\x8e\\xe7s\\x0c\\x00\\x0fAVJ\\x101\\xce;Rc\\xb9\\x85\\xa9\\xc3:N\\x1d\\x95\\xb6\\xb7!\\x89\\xcd2\\xd2w\\x81\\xb8\\x01\\x90\\xf0A\\xedW\\xb5[\\x86\\x11\\x08FNO>\\xd5\\x15\\xa4Q\\xcbjzn\\x1dGzhD\\xbeqY\\x0e\\x00 \\x9eF:\\xd4\\xc4\\xa4\\xe0\\xb2\\xae[\\x1c\\x8e\\xe3\\xfcj+ke\\x85v\\x162g\\'>\\x94\\x866\\x85\\xf2\\x99\\xc6r\\x08\\xed@\\x00\\xc6\\xc0\\xc7\\x1b\\x89\\xc0\\xa8\\x99?\\xd2U\\xc6\\x01\\xc8\\x1fZ\\xb3\\xe6#\\x020\\x16C\\xdf\\xb1\\xff\\x00\\n\\x8ed\\xf2X\\x17\\x1by\\xcd\\x08DA\\xf3\\x9c0\\xde\\xa4\\xf1\\x8aG\\xe4d\\xf0\\xc4R\\xce\\xa1em\\x9c\\xe4\\xe7>\\xc6\\x98\\xb1o\\xfb\\xccwP\\xd0\"kILLH\\x1f9\\xe1\\x89\\xefF\\xb5\\xa7\\x8dF\\xc7\\xedH1<#$\\x7fy{\\xd4\\xd0\\xdb\\xb0\\\\\\xed \\x0fZ\\x9d\\xe4\\x16\\xf1\\x93\\xdc\\x8e\\x94)Y\\x9b\\xad\\xb58@9\\xab\\xd6P\\x1d\\x86U\\x1c\\xee\\xe0\\xe3\\xa56[F7\\r\\xe5\\xfd\\xc2r=\\xabb\\xce\\xd1E\\x99\\x8c\\xe0\\x95\\xf9\\xb7\\xa7o\\xa8\\xad%-\\x0c\\xde\\xbb\\x11\\xa4\\xed\\xb3\\x0c\\x0fLf\\xac@\\r\\xc5\\xb3\\xc6\\xab\\xca\\x9e\\xbe\\xd5\\x04\\xa8\\xd0\\x91\\xb8d\\x1e\\x8c\\xbd\\xeakF\\xdb\\x94\\x19\\x1b\\xc6+2\\x16\\xf6c\\x81\\x11\\x00\\x01$)\\xe4\\xd3&\\xb8\\xdd(\\nJ\\'z\\x9d\\xed\\xd8\\x0e\\x00<Tom\\x84.\\xc7n={\\xd0U\\x87\\xc2\\xf89\\x0es\\xeejB\\xf2\\xb4x\\x84ol\\xf3\\x9e\\x95\\x9b\\xe5\\xc8\\'P3\\xb4\\xf2\\x0f\\xb5[\\xb9\\x89\\xed\\xe1W\\x8ac\\xb8\\xf5\\x19\\xebE\\x84=\\'6\\xf2~\\xfb\\x82;\\xa9\\xa5\\x96\\xf9.m]\\xe3\\x1f\\xbd\\x8c\\x8e\\x83\\xef\\x0f_\\xadTX|\\xb6\\x12\\xdc\\xb6\\x0bu\\x18\\xc94\\xf6\\x8b{m\\x85\\xbc\\xa5n\\t\\xee~\\xa6\\x9d\\x84\\x88v\\\\\\xbeZM\\xc0\\x1fZ\\x9e\\x18d\\xc9\\x05\\x94\\x1e\\x9c\\x9a\\xaby\\x1bA(\\x1b\\x89\\xe3#5\\x1ce\\xd5\\xc3\\x9ah\\x96N\\x17\\x0b\\xd7\\x8e\\x950\\x1b\\xb0\\x0f\\x04\\n\\x821\\x93\\x83\\xc8\\xab$\\x02Nr\\x07c\\xe9Hdw\\x04\\xa1\\x039\\x19\\x15\\xad\\t\\x89\\xc0\\xcc\\x98\\'\\xf9\\xd6\\x0b\\x12\\xe4\\xe0\\xee\\x0b\\xd0P\\xf3\\xbb2\\xf4\\x189\\xe2\\x95\\xae\\x06\\xe6\\xa7\\x1c\\x90\\xd9\\x93\\x90\\xa4\\x9e\\x0f\\xadcZ\\xc6e\\x94\\x17<\\x01\\x93\\xc5Z\\xbd\\xfbP\\x82?:M\\xd1\\xff\\x00\\x08=h\\xb6\\x8f\\xcb\\x8c69=hH\\x19\\xa1\\xa7[\\x89nA=\\x05l\\xb5\\xbcSE\\xe5\\xc8\\xa1\\xe2=sX\\xb67\\xd0\\xa4\\x9eN\\xd3\\xc9\\xc6\\xfc\\xf45\\xab#L\\xb1\\xabF\\xa1\\xdf=3\\x8c\\x8a\\x11H\\xe7\\x8e\\xfbI\\xa5\\xb7<\\xed~>\\x95\\xa3-\\xf7\\xd9\\xac\\xb2\\xc49#\\x03>\\xb5\\x9f}#I\\xaa\\x17u(O\\x04\\x1ak\\xc4g\\xc33\\x10\\x10\\xed\\x18\\xa4\\xc1\\x10\\x19$\\x9d\\x8b\\x11SX\\xa3\\xc7q\\xb8\\xa9\\xd8\\xc3\\x06\\xa6\\x85\\x94&\\xc7\\x18a\\xc6j\\\\\\x80\\xd8#\\x1d\\xc1\\xech\\xb8\\xd1\\r\\xc5\\xc4\\x96/\\x98\\xd42\\x13\\xdf\\xb5=n\\xbc\\xc8\\xbc\\xc1\\xce\\xee\\xc7\\xb5-\\xe4\\x06eV\\r\\x90;U]\\xa4\\x00\\x14\\x1cS\\xbe\\x81+\\xa6L\\xdc|\\xeb\\xc5\\r#\\x05Q\\x91\\x821\\x8a\\x8d[ \\xe4\\xe6\\x89r\\xe9\\x80~\\xe9\\xcd\\x08\\x92\\xc3G\\x1c\\xb1\\x08\\xa4\\x03#!dN\\x08\\xf6>\\xd9\\xaa\\xb1\\x97\\x85\\x81,Yzry\\xa7\\xdaHX\\xc8d\\xc8e\\x19\\xa6\\xb1\\xd8@#\\xf2\\xa6\\x0c\\x99\\xaf\\x98d\\x058\\xc7\\x06\\xa0[\\xc3$\\x9bd\\x8f\\x83\\xebMr3\\x803\\x8a|04\\xaf\\x9d\\xb8\\xf7\\xa45&f\\x85\\x98\\xea\\x0c\\x9d l\\xed\\xcf_j\\xdd\\x8a8\\xec\\xd67\\x07-\\x9ey\\xedTf\\x8b\\xca\\xb9\\x07v@\\xe4\\x91Z\\ro\\x14\\x91\\x86\\xdeX\\x91\\xdf\\xa6)\\xbdF\\x99\\x1d\\xdd\\x9bM\\xba\\xe6\\xceT\\xda\\x06\\xe6\\x8d\\x87\\x07\\xfc+-$iQ.\\xd4`\\x16\\xc1_LU\\x98\\xfc\\xcb\\x19>\\xf6 n\\x079\\xc5\\x1903\\x80\\xa1\\xe2\\x95\\xb7\\x1d\\xa3\\x95>\\xd4.\\xc54\\x99vF_\\xb3o-\\x8d\\xbc\\xfdj\\x00\\xe2uF`B\\xfaQ\\x13\\xc7?\\xc8\\xc5\\x94\\x83\\x82\\x08\\xc1\\x15n;`\\xae9$\\x0e*l\"\\xb6\\xd5\\x92T\\\\\\xedB0\\x16\\xab\\xdd2\\xd9\\xcc\\x16\\x18\\xc9\\x93\\xaeI\\xce\\xdc\\xd4\\xb7e!\\x9c\\xa2\\x80\\xd2\\x9c\\xf4\\x19\\xda\\x0f\\xf5\\xac\\xf9$\\x9c\\x16\\x88\\x9e\\x87\\xe5\\xcfj\\xa2Y/\\xd9]\\x9f\\xed\\x13\\x13\\xf3s\\xcfj\\xbb\\x18\\x87\\xcb\\xeb\\x93\\x81\\xd2\\xb3\\xa3\\x92\\xe1\\xd9q+d\\xf0y\\xedZo\\x18U\\xdf\\xb4\\x11\\xc6\\xe1\\x8f\\xd6\\x93\\x1acd\\xb7\\x8d\\xf1\\x9f\\x99\\x8f\\xad5\\xa2O,\\xa6\\x02\\x9e*\\xc0\\xb6FUev\\x00\\x8e\\x99\\xa8d\\xc4s\\x88\\xd8\\x93\\xc7\\\\P\\x98\\xdaL\\x86+1$m,S(\\x0b\\xd5\\x18\\xf3QLvE\\xcbu\\xa5\\x8e\\x06K\\x87\\x8c\\x9c\\xed\\xefPN\\x1eI\\xfc\\xa5\\x1f7Jfv\\x12\\x18\\xcb\\'\\x07\\xbf\\x14\\xbeXI\\xd1\\x9c\\x1e\\x0eH\\xad\\x03\\xa7\\xbcv\\xe8\\x00\\xcb\\x0f\\xbc}*,\\x03\\x85\\x93\\x07\\x1d(\\xb8\\x17g\\xb5\\xfb_\\x92\\xc8x\\xdb\\x9d\\xb5R\\xe3|9$}\\xda\\xbb\\x0e\\xa5\\x1d\\xbcO\\x95\\xc9Q\\x95\\x06\\xa7\\xf3\\xe2\\xbf\\x84\\xc9\\xe5\\xe0\\xf49\\x15#\\xb5\\xcc\\x18\\x033\\xf2\\xb8\\x07\\x92MuP\\xdeY\\xecEI\\xd3!q\\x82j\\x82[\\xc2#h\\xb06\\xb2\\x9c\\x1a\\xc6\\x08\\n\\x91\\x8f\\x98u\\xa6\\x83cG]\\xb8\\xb6\\x9b\\xcb0\\xb0g\\xeb\\xb8U\\x0b[\\xccFc~[\\xb1=\\xea\\xb9\\x8f\\x9c\\x81\\xde\\x99\\xb4y\\xe0\\x9e9\\xefLW6bT\\x9a\\x10A\\n\\xc7\\xd6\\x9d\"\\xb1\\xb7}\\xab\\x82\\x83<\\x9e*\\x1bt\\xda\\xca\\x14d\\x8e\\xb85u\\xe5\\x8dah\\xe6\\xfb\\x8c0jJ*\\xe9\\x96S_0\\x7f4\\x05\\xcfN\\xbd*k\\x9b\\x19\\xad\\xd9\\xdd\\x8f\\xc8FG\\xb1\\xa3K\\x94[\\xdb\\xa1\\x80\\x1eX\\x869\\xfdkNlO\\x012\\xc8\\x02\\x9e\\x0eh\\xb8\\xd2\\xba9\\xc1,m\\x86\\x07\\x1c\\xe3\\xf1\\xa9\\x10\\xaf \\x9e\\xa2\\xa6\\xbd\\xd3Z<\\x0bl2\\x9e\\xc3\\xb51t\\xeb\\x84P_\\x19\\xc7Jb\\xb0\\xc7M\\xd0;\\'V f\\xa39?{\\n=\\xaay#d\\x8f\\x07\\x8f\\x98g\\xf2\\xa8\\xa3M\\xf2/\\x98\\xc7h<S\\xb8\\x8c}B\\xfaX$\\x11B@\\x1ds\\x8ek[F\\x92\\xf6(K\\xdc\\xc7\\x98\\xba\\x83\\xde\\xa7\\x93M\\xb4\\xbb\\x99\\x1aU\\xc3!\\xe0\\x81\\xf7\\x87\\xbd]9\\x11\\x18\\x91\\x80\\x07\\x80H\\xa6\\xe4\\xadcKhT\\xb8\\x99\\x1e\\x16x\\xa3*\\xcc~l\\x8e1O\\xb2\\xb9B\\xab\\x1b/\\xce8\\x15\\x14\\xe0\\xda\\xee\\x8f\\x93\\x91\\xc9#\\x8a\\xa6\\x91\\xbb\\x93\\xb3\\x86\\xf5\\xa93\\xb9\\xaemb\\xcb\\xac\\xa4\\x1d\\xe3\\xa5U6j\\xa4\\xc7\\x1b\\x9e9 \\xd2\\xa9\\x94\\x06\\xb6\\x99\\xfeu\\xc1\\x04w\\xa9\\xecc\\xdaX;\\x10\\xccr\\x01\\xefAE\\x1f-\\xb7\\xb28\\xf9\\xd3\\xe6F\\x15z;\\xa6\\x8bOi\\xa4B&o\\x960OS\\xeb\\xf8T\\x93E\\x0cS\\xa4\\xd2\\xb1\\x07\\xa6\\xd1\\xfc_\\xfdj\\xa18{\\xa9\\xa6$\\x80\\xf1\\xfc\\xca=\\xbd)\\x81MdP\\x1d\\xdd\\xc8\\x91\\xces\\xe8j7g\\x92}\\xecrGS\\xebH\\xff\\x008$c\\x8e\\xa2\\xa6\\x8bli\\xb1\\xf3\\xb5\\xf9\\'\\x1d($\\xb5k\\xe4\\x95\\x1bH.j\\xebF^\\x12\\x17p \\xe7\"\\xa9Gn\\xb1\\xa1\\x9e/\\x99\\xd4gi\\xab\\xd0]\\x17BB\\x8c\\xe3\\xa5&4D\\xef\\xe5F\\x08\\x04\\x8ep\\x05VME\\x04L\\xb3\\xc5\\x92\\x0e\\x06;\\xd5\\xb6\\x01\\xa3<\\x1c\\x11\\xd2\\xaa6\\x9c%\\x04d\\xa6\\x07\\x07\\xb1\\xa4\\x86\\xca\\xaf8\\x9c\\xb3\\x1f\\x95\\x89\\xea)\\xf0\\xa3$\\xab1]\\xdbNMW\\xdb\\xb5\\x8e0}jD\\xb9t\\x0526\\xfb\\x8a\\xa1\\x1a2\\xea\\x8a\\xcb\\x88\\xc1\\xe4u=\\xab,\\x87\\x92P\\x079\\xe3\\x1e\\xe6\\x9cq&6\\x8c\\x1fCW\\xf4\\x9bp\\xd7^c\\x8f\\x92?\\x98\\xfdh$\\xbc<4Bo{\\x9c+.W>\\xbe\\xf5\\x02\\xd8\\x15M\\xab)\\xcez\\xa9\\xe2\\xb5e\\xba\\r\\x14\\x8e\\xed\\xc1<\\x0fJ\\xcd\\xe1Yp\\xdf{\\xaejnQ\\x1d\\xbd\\x9c\\xd1\\tO\\x9aX\\x80N;\\x8a\\xa7\\xb8\\x92\\xe51\\xc9\\xcfJ}\\xf4\\xe22\\xca\\x87\\x0cz\\x9a\\xa3\\xf6\\xbb\\x8d\\xc7\\xe7\\xe3\\xd7\\x15V\\xea&]H\\x93\\xfd|\\xa4\\xa3t\\xdb\\xeb\\xf8RM=\\xb4\\x84\\xec\\x88\\x16=\\xda\\xb3\\x1agy\\xceI\\'=MZ(0\\n\\xd0\\xc4H\\x97\\x8d\\x0c\\x9b\\x8a)\\x07\\xa8\\x1cb\\xa6\\x9au\\xba\\x8d\\x16\\'\\x1b\\xc1\\xe5OSU1\\x91\\xcfJX\\x10G29\\\\\\x90O\\x1f\\xca\\x90!`,\\xb2\\xe0\\x9eG=zU\\xc7f\\xb9\\xb7\\xf2\\xe4\\x95\\x87?.*\\xd2Y\\xc7z\\xae\\xea\\xa1d\\xdb\\x9d\\xdf\\xe7\\xebP\\xb248O,\\xe5z\\xe2\\x82\\xd3-\\xda\\xca\\x06\\xd5\\xcf\\xcc\\x80\\x02\\x0f\\xf3\\xab\\x1fi_\\xbaS\\xbfZ\\xa3\\xa7Dn.\\xdd\\xb0p\\xa3\\x00U\\xdf \\x97 \\x8cc\\xf5\\xa4\\x05;\\xcbq\\xe5\\xbc\\x91\\x96\\x19`X~\\x9f\\xd6\\x83\\x12\\xfd\\x8e5U\\xc9$sE\\xdd\\xd3[\\x90J\\x96R@\\xc5M\\r\\xc3\\x14\\x06\\xe4$\\x7f6\\x14\\x0e)\\x88\\x95\\x11N\\x06FE>H\\x11\\xd7\\xa75\\x0c\\xb2\\x10\\xfbQ~r\\xa4\\xaeOS\\xe9R\\xc78t\\x1b\\x8e\\xd7\\xe8T\\xf5\\xa0d3\\xbaF68\\xdeq\\xd3\\x1d*\\x82\\xab\\xc10\\x91\\x00\\x01\\x8f+\\xea+By-\\x96P%|I\\x8c\\x15\\xed\\x8a\\xafws\\x0cM\\xfb\\xa8\\xc6x\\xc3\\x1e\\xa3\\xfc(\\x13C\\xa3\\xb0\\x9aY|\\xe5\\x95\\x00c\\xd5\\xb8\\xe2\\xa4\\xbdH\\xad`\\x12\\'\\xcf*\\x9e3\\xd2\\xb3\\x85\\xd3\\x93\\x92\\xdc\\xe7\\xad$\\xf2M\\xf2\\xfc\\xc2A\\xe8h\\x04\\xc1\\xe5{\\xa2$a\\x92\\xbe\\x9d\\x85:h\\x99\\xce\\xf1\\xd8~5\\x12\\xbbB\\xa0\\xafL\\xf3VZL\\x896g;r\\x7f\\xc6\\x98\\xd1\\x9a\\xf1)l\\x83\\x83O\\xd8\\xcf\\x07\\xcc\\xc0z\\x1aLq\\xcf$\\xd2\\xb8\\x08\\x80\\x10Y\\xb1\\xd2\\x81\"\\xc4\\n\\xe6/\\x94\\x9e\\x07\\x06\\xae\\xc4\\xc8b\\x0c\\x17k\\x11\\xc8\\xf45\\x9f\\x15\\xc7\\x96\\x9f61\\x8e1Va~A\\xfe\\x179\\x1fZ\\x18\\xed\\xa1iO\\x18\\xc5)\\xc6~_\\xad5\\xc8 \\xa8\\xec*\\x0bY\\xcc\\xc0\\x86\\x18`z\\xd2\\x11\\xff\\xd9'>"
      ]
     },
     "execution_count": 28,
     "metadata": {},
     "output_type": "execute_result"
    }
   ],
   "source": [
    "img_raw=tf.io.read_file(image_path0)\n",
    "img_raw"
   ]
  },
  {
   "cell_type": "code",
   "execution_count": 29,
   "id": "08df659d",
   "metadata": {},
   "outputs": [
    {
     "data": {
      "text/plain": [
       "TensorShape([256, 256, 3])"
      ]
     },
     "execution_count": 29,
     "metadata": {},
     "output_type": "execute_result"
    }
   ],
   "source": [
    "img_tensor=tf.image.decode_image(img_raw)\n",
    "img_tensor.shape"
   ]
  },
  {
   "cell_type": "code",
   "execution_count": 30,
   "id": "045dc386",
   "metadata": {},
   "outputs": [
    {
     "data": {
      "text/plain": [
       "tf.uint8"
      ]
     },
     "execution_count": 30,
     "metadata": {},
     "output_type": "execute_result"
    }
   ],
   "source": [
    "img_tensor.dtype"
   ]
  },
  {
   "cell_type": "markdown",
   "id": "f20cf9af",
   "metadata": {},
   "source": [
    "标准化\n",
    "\n",
    "imag_tensor  tensor数据类型"
   ]
  },
  {
   "cell_type": "code",
   "execution_count": 31,
   "id": "5476d079",
   "metadata": {},
   "outputs": [],
   "source": [
    "imag_tensor=tf.cast(img_tensor,tf.float32)"
   ]
  },
  {
   "cell_type": "code",
   "execution_count": 32,
   "id": "fd7e5060",
   "metadata": {},
   "outputs": [
    {
     "data": {
      "text/plain": [
       "<tf.Tensor: shape=(256, 256, 3), dtype=float32, numpy=\n",
       "array([[[0.13725491, 0.21176471, 0.13725491],\n",
       "        [0.14117648, 0.21568628, 0.14117648],\n",
       "        [0.14509805, 0.21960784, 0.14509805],\n",
       "        ...,\n",
       "        [0.24313726, 0.32156864, 0.21176471],\n",
       "        [0.26666668, 0.34509805, 0.23529412],\n",
       "        [0.2784314 , 0.35686275, 0.24705882]],\n",
       "\n",
       "       [[0.14509805, 0.21960784, 0.14509805],\n",
       "        [0.14509805, 0.21960784, 0.14509805],\n",
       "        [0.14509805, 0.21960784, 0.14509805],\n",
       "        ...,\n",
       "        [0.2       , 0.2784314 , 0.16862746],\n",
       "        [0.21176471, 0.2901961 , 0.18039216],\n",
       "        [0.21960784, 0.29803923, 0.1882353 ]],\n",
       "\n",
       "       [[0.15686275, 0.23137255, 0.15686275],\n",
       "        [0.15294118, 0.22745098, 0.15294118],\n",
       "        [0.14509805, 0.21960784, 0.14509805],\n",
       "        ...,\n",
       "        [0.15294118, 0.24313726, 0.13333334],\n",
       "        [0.15686275, 0.24705882, 0.13725491],\n",
       "        [0.16078432, 0.2509804 , 0.14117648]],\n",
       "\n",
       "       ...,\n",
       "\n",
       "       [[0.19607843, 0.2509804 , 0.18431373],\n",
       "        [0.1882353 , 0.24313726, 0.1764706 ],\n",
       "        [0.1764706 , 0.23137255, 0.16470589],\n",
       "        ...,\n",
       "        [0.27058825, 0.32941177, 0.25490198],\n",
       "        [0.28627452, 0.34509805, 0.27058825],\n",
       "        [0.3019608 , 0.36078432, 0.28627452]],\n",
       "\n",
       "       [[0.19607843, 0.2509804 , 0.18431373],\n",
       "        [0.18039216, 0.23529412, 0.16862746],\n",
       "        [0.16470589, 0.21960784, 0.15294118],\n",
       "        ...,\n",
       "        [0.26666668, 0.3254902 , 0.2509804 ],\n",
       "        [0.28235295, 0.34117648, 0.26666668],\n",
       "        [0.29411766, 0.3529412 , 0.2784314 ]],\n",
       "\n",
       "       [[0.18431373, 0.23921569, 0.17254902],\n",
       "        [0.16470589, 0.21960784, 0.15294118],\n",
       "        [0.14509805, 0.2       , 0.13333334],\n",
       "        ...,\n",
       "        [0.26666668, 0.3254902 , 0.2509804 ],\n",
       "        [0.27450982, 0.33333334, 0.25882354],\n",
       "        [0.28627452, 0.34509805, 0.27058825]]], dtype=float32)>"
      ]
     },
     "execution_count": 32,
     "metadata": {},
     "output_type": "execute_result"
    }
   ],
   "source": [
    "img_tensor=img_tensor/255\n",
    "img_tensor"
   ]
  },
  {
   "cell_type": "code",
   "execution_count": 33,
   "id": "83c5648d",
   "metadata": {},
   "outputs": [
    {
     "data": {
      "text/plain": [
       "array([[[0.13725491, 0.21176471, 0.13725491],\n",
       "        [0.14117648, 0.21568628, 0.14117648],\n",
       "        [0.14509805, 0.21960784, 0.14509805],\n",
       "        ...,\n",
       "        [0.24313726, 0.32156864, 0.21176471],\n",
       "        [0.26666668, 0.34509805, 0.23529412],\n",
       "        [0.2784314 , 0.35686275, 0.24705882]],\n",
       "\n",
       "       [[0.14509805, 0.21960784, 0.14509805],\n",
       "        [0.14509805, 0.21960784, 0.14509805],\n",
       "        [0.14509805, 0.21960784, 0.14509805],\n",
       "        ...,\n",
       "        [0.2       , 0.2784314 , 0.16862746],\n",
       "        [0.21176471, 0.2901961 , 0.18039216],\n",
       "        [0.21960784, 0.29803923, 0.1882353 ]],\n",
       "\n",
       "       [[0.15686275, 0.23137255, 0.15686275],\n",
       "        [0.15294118, 0.22745098, 0.15294118],\n",
       "        [0.14509805, 0.21960784, 0.14509805],\n",
       "        ...,\n",
       "        [0.15294118, 0.24313726, 0.13333334],\n",
       "        [0.15686275, 0.24705882, 0.13725491],\n",
       "        [0.16078432, 0.2509804 , 0.14117648]],\n",
       "\n",
       "       ...,\n",
       "\n",
       "       [[0.19607843, 0.2509804 , 0.18431373],\n",
       "        [0.1882353 , 0.24313726, 0.1764706 ],\n",
       "        [0.1764706 , 0.23137255, 0.16470589],\n",
       "        ...,\n",
       "        [0.27058825, 0.32941177, 0.25490198],\n",
       "        [0.28627452, 0.34509805, 0.27058825],\n",
       "        [0.3019608 , 0.36078432, 0.28627452]],\n",
       "\n",
       "       [[0.19607843, 0.2509804 , 0.18431373],\n",
       "        [0.18039216, 0.23529412, 0.16862746],\n",
       "        [0.16470589, 0.21960784, 0.15294118],\n",
       "        ...,\n",
       "        [0.26666668, 0.3254902 , 0.2509804 ],\n",
       "        [0.28235295, 0.34117648, 0.26666668],\n",
       "        [0.29411766, 0.3529412 , 0.2784314 ]],\n",
       "\n",
       "       [[0.18431373, 0.23921569, 0.17254902],\n",
       "        [0.16470589, 0.21960784, 0.15294118],\n",
       "        [0.14509805, 0.2       , 0.13333334],\n",
       "        ...,\n",
       "        [0.26666668, 0.3254902 , 0.2509804 ],\n",
       "        [0.27450982, 0.33333334, 0.25882354],\n",
       "        [0.28627452, 0.34509805, 0.27058825]]], dtype=float32)"
      ]
     },
     "execution_count": 33,
     "metadata": {},
     "output_type": "execute_result"
    }
   ],
   "source": [
    "img_tensor.numpy()"
   ]
  },
  {
   "cell_type": "markdown",
   "id": "2c757a57",
   "metadata": {},
   "source": [
    "可以，加载，预处理图片的函数"
   ]
  },
  {
   "cell_type": "code",
   "execution_count": 34,
   "id": "9dd347f7",
   "metadata": {},
   "outputs": [],
   "source": [
    "def load_preprocess_image(img_path):\n",
    "    img_raw=tf.io.read_file(img_path)\n",
    "    img_tensor=tf.image.decode_jpeg(img_raw,channels=3)  # 3彩色图片\n",
    "    img_tensor=tf.image.resize(img_tensor,[256,256])  # 改变图像大小的方法，  通知时图片\n",
    "    imag_tensor=tf.cast(img_tensor,tf.float32)\n",
    "    img=img_tensor/255\n",
    "    return img"
   ]
  },
  {
   "cell_type": "code",
   "execution_count": 35,
   "id": "8628bfe4",
   "metadata": {},
   "outputs": [],
   "source": [
    "# plt.imshow(load_preprocess_image(all_image_path[10]))"
   ]
  },
  {
   "cell_type": "code",
   "execution_count": 36,
   "id": "40b9b1de",
   "metadata": {},
   "outputs": [
    {
     "data": {
      "text/plain": [
       "<TensorSliceDataset shapes: (), types: tf.string>"
      ]
     },
     "execution_count": 36,
     "metadata": {},
     "output_type": "execute_result"
    }
   ],
   "source": [
    "path_ds=tf.data.Dataset.from_tensor_slices(all_image_path)\n",
    "path_ds   #tf.string>"
   ]
  },
  {
   "cell_type": "code",
   "execution_count": 37,
   "id": "67202f46",
   "metadata": {},
   "outputs": [
    {
     "data": {
      "text/plain": [
       "<MapDataset shapes: (256, 256, 3), types: tf.float32>"
      ]
     },
     "execution_count": 37,
     "metadata": {},
     "output_type": "execute_result"
    }
   ],
   "source": [
    "image_dataset=path_ds.map(load_preprocess_image)\n",
    "image_dataset"
   ]
  },
  {
   "cell_type": "code",
   "execution_count": 38,
   "id": "ec6c0362",
   "metadata": {},
   "outputs": [
    {
     "data": {
      "text/plain": [
       "<TensorSliceDataset shapes: (), types: tf.int32>"
      ]
     },
     "execution_count": 38,
     "metadata": {},
     "output_type": "execute_result"
    }
   ],
   "source": [
    "label_dataset=tf.data.Dataset.from_tensor_slices(all_image_label)\n",
    "label_dataset"
   ]
  },
  {
   "cell_type": "code",
   "execution_count": 39,
   "id": "37692fe2",
   "metadata": {},
   "outputs": [
    {
     "name": "stdout",
     "output_type": "stream",
     "text": [
      "1\n",
      "1\n",
      "1\n",
      "0\n",
      "1\n",
      "1\n",
      "0\n",
      "1\n",
      "0\n",
      "0\n"
     ]
    }
   ],
   "source": [
    "for label in label_dataset.take(10):\n",
    "    print(label.numpy())"
   ]
  },
  {
   "cell_type": "markdown",
   "id": "f1ddbf3d",
   "metadata": {},
   "source": [
    "### 图片和标签合并成一个dataset\n",
    "- tf.data.Dataset.zip((image_dataset,label_dataset))"
   ]
  },
  {
   "cell_type": "code",
   "execution_count": 41,
   "id": "50d9671e",
   "metadata": {},
   "outputs": [
    {
     "data": {
      "text/plain": [
       "<ZipDataset shapes: ((256, 256, 3), ()), types: (tf.float32, tf.int32)>"
      ]
     },
     "execution_count": 41,
     "metadata": {},
     "output_type": "execute_result"
    }
   ],
   "source": [
    "dataset=tf.data.Dataset.zip((image_dataset,label_dataset))\n",
    "dataset"
   ]
  },
  {
   "cell_type": "markdown",
   "id": "c447f287",
   "metadata": {},
   "source": [
    "### 划分训练数据和测试数据\n",
    "- test_dataset=dataset.take(test_count)\n",
    "\n",
    "- train_dataset=dataset.skip(test_count)"
   ]
  },
  {
   "cell_type": "code",
   "execution_count": 42,
   "id": "d83e2864",
   "metadata": {},
   "outputs": [],
   "source": [
    "test_count=int(image_count*0.2)\n",
    "trian_count=image_count-test_count"
   ]
  },
  {
   "cell_type": "code",
   "execution_count": 43,
   "id": "12ad6728",
   "metadata": {},
   "outputs": [
    {
     "data": {
      "text/plain": [
       "(280, 1120)"
      ]
     },
     "execution_count": 43,
     "metadata": {},
     "output_type": "execute_result"
    }
   ],
   "source": [
    "test_count,trian_count"
   ]
  },
  {
   "cell_type": "code",
   "execution_count": 44,
   "id": "4d90e6b0",
   "metadata": {},
   "outputs": [],
   "source": [
    "train_dataset=dataset.skip(test_count)"
   ]
  },
  {
   "cell_type": "code",
   "execution_count": 45,
   "id": "6882b43e",
   "metadata": {},
   "outputs": [],
   "source": [
    "test_dataset=dataset.take(test_count)"
   ]
  },
  {
   "cell_type": "code",
   "execution_count": 46,
   "id": "11bbf26d",
   "metadata": {},
   "outputs": [],
   "source": [
    "batch_size=32"
   ]
  },
  {
   "cell_type": "code",
   "execution_count": 47,
   "id": "6e746272",
   "metadata": {},
   "outputs": [],
   "source": [
    "train_dataset=train_dataset.repeat().shuffle(buffer_size=trian_count).batch(batch_size)"
   ]
  },
  {
   "cell_type": "code",
   "execution_count": 55,
   "id": "3818a383",
   "metadata": {},
   "outputs": [],
   "source": [
    "test_dataset=test_dataset.repeat().batch(batch_size)"
   ]
  },
  {
   "cell_type": "markdown",
   "id": "93be3078",
   "metadata": {},
   "source": [
    "### 建立模型"
   ]
  },
  {
   "cell_type": "code",
   "execution_count": 56,
   "id": "ed7fe963",
   "metadata": {},
   "outputs": [],
   "source": [
    "model=tf.keras.Sequential()\n",
    "#卷积层\n",
    "model.add(tf.keras.layers.Conv2D(64,(3,3),input_shape=(256,256,3),activation='relu'))\n",
    "model.add(tf.keras.layers.Conv2D(64,(3,3),activation='relu'))\n",
    "\n",
    "#池化层\n",
    "model.add(tf.keras.layers.MaxPooling2D())\n",
    "\n",
    "#卷积层\n",
    "model.add(tf.keras.layers.Conv2D(128,(3,3),activation='relu'))\n",
    "model.add(tf.keras.layers.Conv2D(128,(3,3),activation='relu'))\n",
    "\n",
    "model.add(tf.keras.layers.MaxPooling2D())\n",
    "\n",
    "model.add(tf.keras.layers.Conv2D(512,(3,3),activation='relu'))\n",
    "model.add(tf.keras.layers.Conv2D(512,(3,3),activation='relu'))\n",
    "\n",
    "model.add(tf.keras.layers.GlobalAveragePooling2D())\n",
    "\n",
    "model.add(tf.keras.layers.Dense(512,activation='relu'))\n",
    "model.add(tf.keras.layers.Dense(256,activation='relu'))\n",
    "model.add(tf.keras.layers.Dense(1,activation='sigmoid'))\n",
    "                                 "
   ]
  },
  {
   "cell_type": "code",
   "execution_count": 57,
   "id": "fa4e7f36",
   "metadata": {},
   "outputs": [
    {
     "name": "stdout",
     "output_type": "stream",
     "text": [
      "Model: \"sequential_2\"\n",
      "_________________________________________________________________\n",
      "Layer (type)                 Output Shape              Param #   \n",
      "=================================================================\n",
      "conv2d_12 (Conv2D)           (None, 254, 254, 64)      1792      \n",
      "_________________________________________________________________\n",
      "conv2d_13 (Conv2D)           (None, 252, 252, 64)      36928     \n",
      "_________________________________________________________________\n",
      "max_pooling2d_4 (MaxPooling2 (None, 126, 126, 64)      0         \n",
      "_________________________________________________________________\n",
      "conv2d_14 (Conv2D)           (None, 124, 124, 128)     73856     \n",
      "_________________________________________________________________\n",
      "conv2d_15 (Conv2D)           (None, 122, 122, 128)     147584    \n",
      "_________________________________________________________________\n",
      "max_pooling2d_5 (MaxPooling2 (None, 61, 61, 128)       0         \n",
      "_________________________________________________________________\n",
      "conv2d_16 (Conv2D)           (None, 59, 59, 512)       590336    \n",
      "_________________________________________________________________\n",
      "conv2d_17 (Conv2D)           (None, 57, 57, 512)       2359808   \n",
      "_________________________________________________________________\n",
      "global_average_pooling2d_2 ( (None, 512)               0         \n",
      "_________________________________________________________________\n",
      "dense_6 (Dense)              (None, 512)               262656    \n",
      "_________________________________________________________________\n",
      "dense_7 (Dense)              (None, 256)               131328    \n",
      "_________________________________________________________________\n",
      "dense_8 (Dense)              (None, 1)                 257       \n",
      "=================================================================\n",
      "Total params: 3,604,545\n",
      "Trainable params: 3,604,545\n",
      "Non-trainable params: 0\n",
      "_________________________________________________________________\n"
     ]
    }
   ],
   "source": [
    "model.summary()"
   ]
  },
  {
   "cell_type": "code",
   "execution_count": 61,
   "id": "5f0a1823",
   "metadata": {},
   "outputs": [
    {
     "data": {
      "text/plain": [
       "(None, 1)"
      ]
     },
     "execution_count": 61,
     "metadata": {},
     "output_type": "execute_result"
    }
   ],
   "source": [
    "model.output_shape"
   ]
  },
  {
   "cell_type": "markdown",
   "id": "92944768",
   "metadata": {},
   "source": [
    "### 训练数据"
   ]
  },
  {
   "cell_type": "code",
   "execution_count": 58,
   "id": "efa2c676",
   "metadata": {},
   "outputs": [],
   "source": [
    "model.compile(optimizer='adam',loss='sparse_categorical_crossentropy',metrics=['acc'])"
   ]
  },
  {
   "cell_type": "code",
   "execution_count": 59,
   "id": "b14cd5d4",
   "metadata": {},
   "outputs": [],
   "source": [
    "# 告诉一个batch需要训练多少次\n",
    "steps_per_epoch=trian_count// batch_size\n",
    "validation_steps=test_count// batch_size"
   ]
  },
  {
   "cell_type": "code",
   "execution_count": 60,
   "id": "d28ba5b8",
   "metadata": {},
   "outputs": [
    {
     "name": "stdout",
     "output_type": "stream",
     "text": [
      "Epoch 1/30\n",
      "WARNING:tensorflow:Model was constructed with shape (None, 256, 256, 3) for input KerasTensor(type_spec=TensorSpec(shape=(None, 256, 256, 3), dtype=tf.float32, name='conv2d_12_input'), name='conv2d_12_input', description=\"created by layer 'conv2d_12_input'\"), but it was called on an input with incompatible shape (None, None, 256, 256, 3).\n"
     ]
    },
    {
     "ename": "ValueError",
     "evalue": "in user code:\n\n    e:\\anaconda\\envs\\tensor_flow\\lib\\site-packages\\keras\\engine\\training.py:853 train_function  *\n        return step_function(self, iterator)\n    e:\\anaconda\\envs\\tensor_flow\\lib\\site-packages\\keras\\engine\\training.py:842 step_function  **\n        outputs = model.distribute_strategy.run(run_step, args=(data,))\n    e:\\anaconda\\envs\\tensor_flow\\lib\\site-packages\\tensorflow\\python\\distribute\\distribute_lib.py:1286 run\n        return self._extended.call_for_each_replica(fn, args=args, kwargs=kwargs)\n    e:\\anaconda\\envs\\tensor_flow\\lib\\site-packages\\tensorflow\\python\\distribute\\distribute_lib.py:2849 call_for_each_replica\n        return self._call_for_each_replica(fn, args, kwargs)\n    e:\\anaconda\\envs\\tensor_flow\\lib\\site-packages\\tensorflow\\python\\distribute\\distribute_lib.py:3632 _call_for_each_replica\n        return fn(*args, **kwargs)\n    e:\\anaconda\\envs\\tensor_flow\\lib\\site-packages\\keras\\engine\\training.py:835 run_step  **\n        outputs = model.train_step(data)\n    e:\\anaconda\\envs\\tensor_flow\\lib\\site-packages\\keras\\engine\\training.py:787 train_step\n        y_pred = self(x, training=True)\n    e:\\anaconda\\envs\\tensor_flow\\lib\\site-packages\\keras\\engine\\base_layer.py:1037 __call__\n        outputs = call_fn(inputs, *args, **kwargs)\n    e:\\anaconda\\envs\\tensor_flow\\lib\\site-packages\\keras\\engine\\sequential.py:369 call\n        return super(Sequential, self).call(inputs, training=training, mask=mask)\n    e:\\anaconda\\envs\\tensor_flow\\lib\\site-packages\\keras\\engine\\functional.py:415 call\n        inputs, training=training, mask=mask)\n    e:\\anaconda\\envs\\tensor_flow\\lib\\site-packages\\keras\\engine\\functional.py:550 _run_internal_graph\n        outputs = node.layer(*args, **kwargs)\n    e:\\anaconda\\envs\\tensor_flow\\lib\\site-packages\\keras\\engine\\base_layer.py:1020 __call__\n        input_spec.assert_input_compatibility(self.input_spec, inputs, self.name)\n    e:\\anaconda\\envs\\tensor_flow\\lib\\site-packages\\keras\\engine\\input_spec.py:218 assert_input_compatibility\n        str(tuple(shape)))\n\n    ValueError: Input 0 of layer max_pooling2d_4 is incompatible with the layer: expected ndim=4, found ndim=5. Full shape received: (None, None, 252, 252, 64)\n",
     "output_type": "error",
     "traceback": [
      "\u001b[1;31m---------------------------------------------------------------------------\u001b[0m",
      "\u001b[1;31mValueError\u001b[0m                                Traceback (most recent call last)",
      "\u001b[1;32m<ipython-input-60-895eb9541d28>\u001b[0m in \u001b[0;36m<module>\u001b[1;34m\u001b[0m\n\u001b[1;32m----> 1\u001b[1;33m \u001b[0mhist\u001b[0m\u001b[1;33m=\u001b[0m\u001b[0mmodel\u001b[0m\u001b[1;33m.\u001b[0m\u001b[0mfit\u001b[0m\u001b[1;33m(\u001b[0m\u001b[0mtrain_dataset\u001b[0m\u001b[1;33m,\u001b[0m\u001b[0mepochs\u001b[0m\u001b[1;33m=\u001b[0m\u001b[1;36m30\u001b[0m\u001b[1;33m,\u001b[0m\u001b[0msteps_per_epoch\u001b[0m\u001b[1;33m=\u001b[0m\u001b[0msteps_per_epoch\u001b[0m\u001b[1;33m,\u001b[0m\u001b[0mvalidation_data\u001b[0m\u001b[1;33m=\u001b[0m\u001b[0mtest_dataset\u001b[0m\u001b[1;33m,\u001b[0m\u001b[0mvalidation_steps\u001b[0m\u001b[1;33m=\u001b[0m\u001b[0mvalidation_steps\u001b[0m\u001b[1;33m)\u001b[0m\u001b[1;33m\u001b[0m\u001b[1;33m\u001b[0m\u001b[0m\n\u001b[0m",
      "\u001b[1;32me:\\anaconda\\envs\\tensor_flow\\lib\\site-packages\\keras\\engine\\training.py\u001b[0m in \u001b[0;36mfit\u001b[1;34m(self, x, y, batch_size, epochs, verbose, callbacks, validation_split, validation_data, shuffle, class_weight, sample_weight, initial_epoch, steps_per_epoch, validation_steps, validation_batch_size, validation_freq, max_queue_size, workers, use_multiprocessing)\u001b[0m\n\u001b[0;32m   1182\u001b[0m                 _r=1):\n\u001b[0;32m   1183\u001b[0m               \u001b[0mcallbacks\u001b[0m\u001b[1;33m.\u001b[0m\u001b[0mon_train_batch_begin\u001b[0m\u001b[1;33m(\u001b[0m\u001b[0mstep\u001b[0m\u001b[1;33m)\u001b[0m\u001b[1;33m\u001b[0m\u001b[1;33m\u001b[0m\u001b[0m\n\u001b[1;32m-> 1184\u001b[1;33m               \u001b[0mtmp_logs\u001b[0m \u001b[1;33m=\u001b[0m \u001b[0mself\u001b[0m\u001b[1;33m.\u001b[0m\u001b[0mtrain_function\u001b[0m\u001b[1;33m(\u001b[0m\u001b[0miterator\u001b[0m\u001b[1;33m)\u001b[0m\u001b[1;33m\u001b[0m\u001b[1;33m\u001b[0m\u001b[0m\n\u001b[0m\u001b[0;32m   1185\u001b[0m               \u001b[1;32mif\u001b[0m \u001b[0mdata_handler\u001b[0m\u001b[1;33m.\u001b[0m\u001b[0mshould_sync\u001b[0m\u001b[1;33m:\u001b[0m\u001b[1;33m\u001b[0m\u001b[1;33m\u001b[0m\u001b[0m\n\u001b[0;32m   1186\u001b[0m                 \u001b[0mcontext\u001b[0m\u001b[1;33m.\u001b[0m\u001b[0masync_wait\u001b[0m\u001b[1;33m(\u001b[0m\u001b[1;33m)\u001b[0m\u001b[1;33m\u001b[0m\u001b[1;33m\u001b[0m\u001b[0m\n",
      "\u001b[1;32me:\\anaconda\\envs\\tensor_flow\\lib\\site-packages\\tensorflow\\python\\eager\\def_function.py\u001b[0m in \u001b[0;36m__call__\u001b[1;34m(self, *args, **kwds)\u001b[0m\n\u001b[0;32m    883\u001b[0m \u001b[1;33m\u001b[0m\u001b[0m\n\u001b[0;32m    884\u001b[0m       \u001b[1;32mwith\u001b[0m \u001b[0mOptionalXlaContext\u001b[0m\u001b[1;33m(\u001b[0m\u001b[0mself\u001b[0m\u001b[1;33m.\u001b[0m\u001b[0m_jit_compile\u001b[0m\u001b[1;33m)\u001b[0m\u001b[1;33m:\u001b[0m\u001b[1;33m\u001b[0m\u001b[1;33m\u001b[0m\u001b[0m\n\u001b[1;32m--> 885\u001b[1;33m         \u001b[0mresult\u001b[0m \u001b[1;33m=\u001b[0m \u001b[0mself\u001b[0m\u001b[1;33m.\u001b[0m\u001b[0m_call\u001b[0m\u001b[1;33m(\u001b[0m\u001b[1;33m*\u001b[0m\u001b[0margs\u001b[0m\u001b[1;33m,\u001b[0m \u001b[1;33m**\u001b[0m\u001b[0mkwds\u001b[0m\u001b[1;33m)\u001b[0m\u001b[1;33m\u001b[0m\u001b[1;33m\u001b[0m\u001b[0m\n\u001b[0m\u001b[0;32m    886\u001b[0m \u001b[1;33m\u001b[0m\u001b[0m\n\u001b[0;32m    887\u001b[0m       \u001b[0mnew_tracing_count\u001b[0m \u001b[1;33m=\u001b[0m \u001b[0mself\u001b[0m\u001b[1;33m.\u001b[0m\u001b[0mexperimental_get_tracing_count\u001b[0m\u001b[1;33m(\u001b[0m\u001b[1;33m)\u001b[0m\u001b[1;33m\u001b[0m\u001b[1;33m\u001b[0m\u001b[0m\n",
      "\u001b[1;32me:\\anaconda\\envs\\tensor_flow\\lib\\site-packages\\tensorflow\\python\\eager\\def_function.py\u001b[0m in \u001b[0;36m_call\u001b[1;34m(self, *args, **kwds)\u001b[0m\n\u001b[0;32m    931\u001b[0m       \u001b[1;31m# This is the first call of __call__, so we have to initialize.\u001b[0m\u001b[1;33m\u001b[0m\u001b[1;33m\u001b[0m\u001b[1;33m\u001b[0m\u001b[0m\n\u001b[0;32m    932\u001b[0m       \u001b[0minitializers\u001b[0m \u001b[1;33m=\u001b[0m \u001b[1;33m[\u001b[0m\u001b[1;33m]\u001b[0m\u001b[1;33m\u001b[0m\u001b[1;33m\u001b[0m\u001b[0m\n\u001b[1;32m--> 933\u001b[1;33m       \u001b[0mself\u001b[0m\u001b[1;33m.\u001b[0m\u001b[0m_initialize\u001b[0m\u001b[1;33m(\u001b[0m\u001b[0margs\u001b[0m\u001b[1;33m,\u001b[0m \u001b[0mkwds\u001b[0m\u001b[1;33m,\u001b[0m \u001b[0madd_initializers_to\u001b[0m\u001b[1;33m=\u001b[0m\u001b[0minitializers\u001b[0m\u001b[1;33m)\u001b[0m\u001b[1;33m\u001b[0m\u001b[1;33m\u001b[0m\u001b[0m\n\u001b[0m\u001b[0;32m    934\u001b[0m     \u001b[1;32mfinally\u001b[0m\u001b[1;33m:\u001b[0m\u001b[1;33m\u001b[0m\u001b[1;33m\u001b[0m\u001b[0m\n\u001b[0;32m    935\u001b[0m       \u001b[1;31m# At this point we know that the initialization is complete (or less\u001b[0m\u001b[1;33m\u001b[0m\u001b[1;33m\u001b[0m\u001b[1;33m\u001b[0m\u001b[0m\n",
      "\u001b[1;32me:\\anaconda\\envs\\tensor_flow\\lib\\site-packages\\tensorflow\\python\\eager\\def_function.py\u001b[0m in \u001b[0;36m_initialize\u001b[1;34m(self, args, kwds, add_initializers_to)\u001b[0m\n\u001b[0;32m    758\u001b[0m     self._concrete_stateful_fn = (\n\u001b[0;32m    759\u001b[0m         self._stateful_fn._get_concrete_function_internal_garbage_collected(  # pylint: disable=protected-access\n\u001b[1;32m--> 760\u001b[1;33m             *args, **kwds))\n\u001b[0m\u001b[0;32m    761\u001b[0m \u001b[1;33m\u001b[0m\u001b[0m\n\u001b[0;32m    762\u001b[0m     \u001b[1;32mdef\u001b[0m \u001b[0minvalid_creator_scope\u001b[0m\u001b[1;33m(\u001b[0m\u001b[1;33m*\u001b[0m\u001b[0munused_args\u001b[0m\u001b[1;33m,\u001b[0m \u001b[1;33m**\u001b[0m\u001b[0munused_kwds\u001b[0m\u001b[1;33m)\u001b[0m\u001b[1;33m:\u001b[0m\u001b[1;33m\u001b[0m\u001b[1;33m\u001b[0m\u001b[0m\n",
      "\u001b[1;32me:\\anaconda\\envs\\tensor_flow\\lib\\site-packages\\tensorflow\\python\\eager\\function.py\u001b[0m in \u001b[0;36m_get_concrete_function_internal_garbage_collected\u001b[1;34m(self, *args, **kwargs)\u001b[0m\n\u001b[0;32m   3064\u001b[0m       \u001b[0margs\u001b[0m\u001b[1;33m,\u001b[0m \u001b[0mkwargs\u001b[0m \u001b[1;33m=\u001b[0m \u001b[1;32mNone\u001b[0m\u001b[1;33m,\u001b[0m \u001b[1;32mNone\u001b[0m\u001b[1;33m\u001b[0m\u001b[1;33m\u001b[0m\u001b[0m\n\u001b[0;32m   3065\u001b[0m     \u001b[1;32mwith\u001b[0m \u001b[0mself\u001b[0m\u001b[1;33m.\u001b[0m\u001b[0m_lock\u001b[0m\u001b[1;33m:\u001b[0m\u001b[1;33m\u001b[0m\u001b[1;33m\u001b[0m\u001b[0m\n\u001b[1;32m-> 3066\u001b[1;33m       \u001b[0mgraph_function\u001b[0m\u001b[1;33m,\u001b[0m \u001b[0m_\u001b[0m \u001b[1;33m=\u001b[0m \u001b[0mself\u001b[0m\u001b[1;33m.\u001b[0m\u001b[0m_maybe_define_function\u001b[0m\u001b[1;33m(\u001b[0m\u001b[0margs\u001b[0m\u001b[1;33m,\u001b[0m \u001b[0mkwargs\u001b[0m\u001b[1;33m)\u001b[0m\u001b[1;33m\u001b[0m\u001b[1;33m\u001b[0m\u001b[0m\n\u001b[0m\u001b[0;32m   3067\u001b[0m     \u001b[1;32mreturn\u001b[0m \u001b[0mgraph_function\u001b[0m\u001b[1;33m\u001b[0m\u001b[1;33m\u001b[0m\u001b[0m\n\u001b[0;32m   3068\u001b[0m \u001b[1;33m\u001b[0m\u001b[0m\n",
      "\u001b[1;32me:\\anaconda\\envs\\tensor_flow\\lib\\site-packages\\tensorflow\\python\\eager\\function.py\u001b[0m in \u001b[0;36m_maybe_define_function\u001b[1;34m(self, args, kwargs)\u001b[0m\n\u001b[0;32m   3461\u001b[0m \u001b[1;33m\u001b[0m\u001b[0m\n\u001b[0;32m   3462\u001b[0m           \u001b[0mself\u001b[0m\u001b[1;33m.\u001b[0m\u001b[0m_function_cache\u001b[0m\u001b[1;33m.\u001b[0m\u001b[0mmissed\u001b[0m\u001b[1;33m.\u001b[0m\u001b[0madd\u001b[0m\u001b[1;33m(\u001b[0m\u001b[0mcall_context_key\u001b[0m\u001b[1;33m)\u001b[0m\u001b[1;33m\u001b[0m\u001b[1;33m\u001b[0m\u001b[0m\n\u001b[1;32m-> 3463\u001b[1;33m           \u001b[0mgraph_function\u001b[0m \u001b[1;33m=\u001b[0m \u001b[0mself\u001b[0m\u001b[1;33m.\u001b[0m\u001b[0m_create_graph_function\u001b[0m\u001b[1;33m(\u001b[0m\u001b[0margs\u001b[0m\u001b[1;33m,\u001b[0m \u001b[0mkwargs\u001b[0m\u001b[1;33m)\u001b[0m\u001b[1;33m\u001b[0m\u001b[1;33m\u001b[0m\u001b[0m\n\u001b[0m\u001b[0;32m   3464\u001b[0m           \u001b[0mself\u001b[0m\u001b[1;33m.\u001b[0m\u001b[0m_function_cache\u001b[0m\u001b[1;33m.\u001b[0m\u001b[0mprimary\u001b[0m\u001b[1;33m[\u001b[0m\u001b[0mcache_key\u001b[0m\u001b[1;33m]\u001b[0m \u001b[1;33m=\u001b[0m \u001b[0mgraph_function\u001b[0m\u001b[1;33m\u001b[0m\u001b[1;33m\u001b[0m\u001b[0m\n\u001b[0;32m   3465\u001b[0m \u001b[1;33m\u001b[0m\u001b[0m\n",
      "\u001b[1;32me:\\anaconda\\envs\\tensor_flow\\lib\\site-packages\\tensorflow\\python\\eager\\function.py\u001b[0m in \u001b[0;36m_create_graph_function\u001b[1;34m(self, args, kwargs, override_flat_arg_shapes)\u001b[0m\n\u001b[0;32m   3306\u001b[0m             \u001b[0marg_names\u001b[0m\u001b[1;33m=\u001b[0m\u001b[0marg_names\u001b[0m\u001b[1;33m,\u001b[0m\u001b[1;33m\u001b[0m\u001b[1;33m\u001b[0m\u001b[0m\n\u001b[0;32m   3307\u001b[0m             \u001b[0moverride_flat_arg_shapes\u001b[0m\u001b[1;33m=\u001b[0m\u001b[0moverride_flat_arg_shapes\u001b[0m\u001b[1;33m,\u001b[0m\u001b[1;33m\u001b[0m\u001b[1;33m\u001b[0m\u001b[0m\n\u001b[1;32m-> 3308\u001b[1;33m             capture_by_value=self._capture_by_value),\n\u001b[0m\u001b[0;32m   3309\u001b[0m         \u001b[0mself\u001b[0m\u001b[1;33m.\u001b[0m\u001b[0m_function_attributes\u001b[0m\u001b[1;33m,\u001b[0m\u001b[1;33m\u001b[0m\u001b[1;33m\u001b[0m\u001b[0m\n\u001b[0;32m   3310\u001b[0m         \u001b[0mfunction_spec\u001b[0m\u001b[1;33m=\u001b[0m\u001b[0mself\u001b[0m\u001b[1;33m.\u001b[0m\u001b[0mfunction_spec\u001b[0m\u001b[1;33m,\u001b[0m\u001b[1;33m\u001b[0m\u001b[1;33m\u001b[0m\u001b[0m\n",
      "\u001b[1;32me:\\anaconda\\envs\\tensor_flow\\lib\\site-packages\\tensorflow\\python\\framework\\func_graph.py\u001b[0m in \u001b[0;36mfunc_graph_from_py_func\u001b[1;34m(name, python_func, args, kwargs, signature, func_graph, autograph, autograph_options, add_control_dependencies, arg_names, op_return_value, collections, capture_by_value, override_flat_arg_shapes, acd_record_initial_resource_uses)\u001b[0m\n\u001b[0;32m   1005\u001b[0m         \u001b[0m_\u001b[0m\u001b[1;33m,\u001b[0m \u001b[0moriginal_func\u001b[0m \u001b[1;33m=\u001b[0m \u001b[0mtf_decorator\u001b[0m\u001b[1;33m.\u001b[0m\u001b[0munwrap\u001b[0m\u001b[1;33m(\u001b[0m\u001b[0mpython_func\u001b[0m\u001b[1;33m)\u001b[0m\u001b[1;33m\u001b[0m\u001b[1;33m\u001b[0m\u001b[0m\n\u001b[0;32m   1006\u001b[0m \u001b[1;33m\u001b[0m\u001b[0m\n\u001b[1;32m-> 1007\u001b[1;33m       \u001b[0mfunc_outputs\u001b[0m \u001b[1;33m=\u001b[0m \u001b[0mpython_func\u001b[0m\u001b[1;33m(\u001b[0m\u001b[1;33m*\u001b[0m\u001b[0mfunc_args\u001b[0m\u001b[1;33m,\u001b[0m \u001b[1;33m**\u001b[0m\u001b[0mfunc_kwargs\u001b[0m\u001b[1;33m)\u001b[0m\u001b[1;33m\u001b[0m\u001b[1;33m\u001b[0m\u001b[0m\n\u001b[0m\u001b[0;32m   1008\u001b[0m \u001b[1;33m\u001b[0m\u001b[0m\n\u001b[0;32m   1009\u001b[0m       \u001b[1;31m# invariant: `func_outputs` contains only Tensors, CompositeTensors,\u001b[0m\u001b[1;33m\u001b[0m\u001b[1;33m\u001b[0m\u001b[1;33m\u001b[0m\u001b[0m\n",
      "\u001b[1;32me:\\anaconda\\envs\\tensor_flow\\lib\\site-packages\\tensorflow\\python\\eager\\def_function.py\u001b[0m in \u001b[0;36mwrapped_fn\u001b[1;34m(*args, **kwds)\u001b[0m\n\u001b[0;32m    666\u001b[0m         \u001b[1;31m# the function a weak reference to itself to avoid a reference cycle.\u001b[0m\u001b[1;33m\u001b[0m\u001b[1;33m\u001b[0m\u001b[1;33m\u001b[0m\u001b[0m\n\u001b[0;32m    667\u001b[0m         \u001b[1;32mwith\u001b[0m \u001b[0mOptionalXlaContext\u001b[0m\u001b[1;33m(\u001b[0m\u001b[0mcompile_with_xla\u001b[0m\u001b[1;33m)\u001b[0m\u001b[1;33m:\u001b[0m\u001b[1;33m\u001b[0m\u001b[1;33m\u001b[0m\u001b[0m\n\u001b[1;32m--> 668\u001b[1;33m           \u001b[0mout\u001b[0m \u001b[1;33m=\u001b[0m \u001b[0mweak_wrapped_fn\u001b[0m\u001b[1;33m(\u001b[0m\u001b[1;33m)\u001b[0m\u001b[1;33m.\u001b[0m\u001b[0m__wrapped__\u001b[0m\u001b[1;33m(\u001b[0m\u001b[1;33m*\u001b[0m\u001b[0margs\u001b[0m\u001b[1;33m,\u001b[0m \u001b[1;33m**\u001b[0m\u001b[0mkwds\u001b[0m\u001b[1;33m)\u001b[0m\u001b[1;33m\u001b[0m\u001b[1;33m\u001b[0m\u001b[0m\n\u001b[0m\u001b[0;32m    669\u001b[0m         \u001b[1;32mreturn\u001b[0m \u001b[0mout\u001b[0m\u001b[1;33m\u001b[0m\u001b[1;33m\u001b[0m\u001b[0m\n\u001b[0;32m    670\u001b[0m \u001b[1;33m\u001b[0m\u001b[0m\n",
      "\u001b[1;32me:\\anaconda\\envs\\tensor_flow\\lib\\site-packages\\tensorflow\\python\\framework\\func_graph.py\u001b[0m in \u001b[0;36mwrapper\u001b[1;34m(*args, **kwargs)\u001b[0m\n\u001b[0;32m    992\u001b[0m           \u001b[1;32mexcept\u001b[0m \u001b[0mException\u001b[0m \u001b[1;32mas\u001b[0m \u001b[0me\u001b[0m\u001b[1;33m:\u001b[0m  \u001b[1;31m# pylint:disable=broad-except\u001b[0m\u001b[1;33m\u001b[0m\u001b[1;33m\u001b[0m\u001b[0m\n\u001b[0;32m    993\u001b[0m             \u001b[1;32mif\u001b[0m \u001b[0mhasattr\u001b[0m\u001b[1;33m(\u001b[0m\u001b[0me\u001b[0m\u001b[1;33m,\u001b[0m \u001b[1;34m\"ag_error_metadata\"\u001b[0m\u001b[1;33m)\u001b[0m\u001b[1;33m:\u001b[0m\u001b[1;33m\u001b[0m\u001b[1;33m\u001b[0m\u001b[0m\n\u001b[1;32m--> 994\u001b[1;33m               \u001b[1;32mraise\u001b[0m \u001b[0me\u001b[0m\u001b[1;33m.\u001b[0m\u001b[0mag_error_metadata\u001b[0m\u001b[1;33m.\u001b[0m\u001b[0mto_exception\u001b[0m\u001b[1;33m(\u001b[0m\u001b[0me\u001b[0m\u001b[1;33m)\u001b[0m\u001b[1;33m\u001b[0m\u001b[1;33m\u001b[0m\u001b[0m\n\u001b[0m\u001b[0;32m    995\u001b[0m             \u001b[1;32melse\u001b[0m\u001b[1;33m:\u001b[0m\u001b[1;33m\u001b[0m\u001b[1;33m\u001b[0m\u001b[0m\n\u001b[0;32m    996\u001b[0m               \u001b[1;32mraise\u001b[0m\u001b[1;33m\u001b[0m\u001b[1;33m\u001b[0m\u001b[0m\n",
      "\u001b[1;31mValueError\u001b[0m: in user code:\n\n    e:\\anaconda\\envs\\tensor_flow\\lib\\site-packages\\keras\\engine\\training.py:853 train_function  *\n        return step_function(self, iterator)\n    e:\\anaconda\\envs\\tensor_flow\\lib\\site-packages\\keras\\engine\\training.py:842 step_function  **\n        outputs = model.distribute_strategy.run(run_step, args=(data,))\n    e:\\anaconda\\envs\\tensor_flow\\lib\\site-packages\\tensorflow\\python\\distribute\\distribute_lib.py:1286 run\n        return self._extended.call_for_each_replica(fn, args=args, kwargs=kwargs)\n    e:\\anaconda\\envs\\tensor_flow\\lib\\site-packages\\tensorflow\\python\\distribute\\distribute_lib.py:2849 call_for_each_replica\n        return self._call_for_each_replica(fn, args, kwargs)\n    e:\\anaconda\\envs\\tensor_flow\\lib\\site-packages\\tensorflow\\python\\distribute\\distribute_lib.py:3632 _call_for_each_replica\n        return fn(*args, **kwargs)\n    e:\\anaconda\\envs\\tensor_flow\\lib\\site-packages\\keras\\engine\\training.py:835 run_step  **\n        outputs = model.train_step(data)\n    e:\\anaconda\\envs\\tensor_flow\\lib\\site-packages\\keras\\engine\\training.py:787 train_step\n        y_pred = self(x, training=True)\n    e:\\anaconda\\envs\\tensor_flow\\lib\\site-packages\\keras\\engine\\base_layer.py:1037 __call__\n        outputs = call_fn(inputs, *args, **kwargs)\n    e:\\anaconda\\envs\\tensor_flow\\lib\\site-packages\\keras\\engine\\sequential.py:369 call\n        return super(Sequential, self).call(inputs, training=training, mask=mask)\n    e:\\anaconda\\envs\\tensor_flow\\lib\\site-packages\\keras\\engine\\functional.py:415 call\n        inputs, training=training, mask=mask)\n    e:\\anaconda\\envs\\tensor_flow\\lib\\site-packages\\keras\\engine\\functional.py:550 _run_internal_graph\n        outputs = node.layer(*args, **kwargs)\n    e:\\anaconda\\envs\\tensor_flow\\lib\\site-packages\\keras\\engine\\base_layer.py:1020 __call__\n        input_spec.assert_input_compatibility(self.input_spec, inputs, self.name)\n    e:\\anaconda\\envs\\tensor_flow\\lib\\site-packages\\keras\\engine\\input_spec.py:218 assert_input_compatibility\n        str(tuple(shape)))\n\n    ValueError: Input 0 of layer max_pooling2d_4 is incompatible with the layer: expected ndim=4, found ndim=5. Full shape received: (None, None, 252, 252, 64)\n"
     ]
    }
   ],
   "source": [
    "hist=model.fit(train_dataset,epochs=30,steps_per_epoch=steps_per_epoch,validation_data=test_dataset,validation_steps=validation_steps)"
   ]
  },
  {
   "cell_type": "code",
   "execution_count": null,
   "id": "ae8a04ff",
   "metadata": {},
   "outputs": [],
   "source": []
  }
 ],
 "metadata": {
  "kernelspec": {
   "display_name": "Python 3",
   "language": "python",
   "name": "python3"
  },
  "language_info": {
   "codemirror_mode": {
    "name": "ipython",
    "version": 3
   },
   "file_extension": ".py",
   "mimetype": "text/x-python",
   "name": "python",
   "nbconvert_exporter": "python",
   "pygments_lexer": "ipython3",
   "version": "3.6.13"
  },
  "toc": {
   "base_numbering": 1,
   "nav_menu": {},
   "number_sections": true,
   "sideBar": true,
   "skip_h1_title": false,
   "title_cell": "Table of Contents",
   "title_sidebar": "Contents",
   "toc_cell": false,
   "toc_position": {},
   "toc_section_display": true,
   "toc_window_display": false
  }
 },
 "nbformat": 4,
 "nbformat_minor": 5
}
