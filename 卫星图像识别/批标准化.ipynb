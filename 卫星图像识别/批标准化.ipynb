{
 "cells": [
  {
   "cell_type": "markdown",
   "id": "cba10136",
   "metadata": {},
   "source": [
    "### 归一化\n",
    "将数据映射到同一范围"
   ]
  },
  {
   "cell_type": "markdown",
   "id": "c7c9c81a",
   "metadata": {},
   "source": [
    "### 标准化\n",
    "不同样本数据范围更加类似\n",
    "\n",
    "    将数据-均值使其中心为0，将数据/标准差使其标准差为1"
   ]
  },
  {
   "cell_type": "markdown",
   "id": "94128048",
   "metadata": {},
   "source": [
    "### batch normalization 批标准化\n",
    "<code> BatchNoramalization 层通常在卷积层或后使用\n",
    "    tf.keras.layers.Batchnormalization()\n",
    "    \n",
    "目的： 将分散的数据统一，优化神经网络\n",
    "\n",
    "不仅数据输入模型前，对其标准化，\n",
    "在网络的每一次变换之后，同样数据标准化\n",
    "\n",
    "梯度消失与梯度爆炸:    \n",
    "    sigmoid函数，使数据分布在0周围\n",
    "\n",
    "优点：\n",
    "- 加速收敛速度\n",
    "- 正则化\n",
    "- 提高模型泛化能力\n",
    "- 允许更高的学习速率从而加速收敛"
   ]
  },
  {
   "cell_type": "markdown",
   "id": "e73527c9",
   "metadata": {},
   "source": [
    "#### 训练模式和预测模式\n",
    "training=True, 使用当前批次的均值和方差对输入进行标准化  \n",
    "\n",
    "false训练集数据的均值与方差"
   ]
  },
  {
   "cell_type": "code",
   "execution_count": null,
   "id": "5a481eed",
   "metadata": {},
   "outputs": [],
   "source": []
  }
 ],
 "metadata": {
  "kernelspec": {
   "display_name": "Python 3",
   "language": "python",
   "name": "python3"
  },
  "language_info": {
   "codemirror_mode": {
    "name": "ipython",
    "version": 3
   },
   "file_extension": ".py",
   "mimetype": "text/x-python",
   "name": "python",
   "nbconvert_exporter": "python",
   "pygments_lexer": "ipython3",
   "version": "3.6.13"
  },
  "toc": {
   "base_numbering": 1,
   "nav_menu": {},
   "number_sections": true,
   "sideBar": true,
   "skip_h1_title": false,
   "title_cell": "Table of Contents",
   "title_sidebar": "Contents",
   "toc_cell": false,
   "toc_position": {},
   "toc_section_display": true,
   "toc_window_display": false
  }
 },
 "nbformat": 4,
 "nbformat_minor": 5
}
