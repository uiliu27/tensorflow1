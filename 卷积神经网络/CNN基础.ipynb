{
 "cells": [
  {
   "cell_type": "markdown",
   "id": "97d5919e",
   "metadata": {},
   "source": [
    "### CNN基础\n",
    "卷积神经网络，图像识别，描述图片（数字）\n",
    "\n",
    "- 特征\n",
    "\n",
    "寻找边缘，曲线 ，抽象，卷积层构建\n",
    "\n",
    "- 卷积层conv2d、\n",
    "- 非线性变换层relu/sigmoid/tanh\n",
    "- 池化poling2d、\n",
    "- 全连接层（dense）w*x+b、输出\n",
    "\n",
    "卷积： 通过卷积核  应用到图像中每一个像素，  特征提取或者说信息匹配，不同的卷积核会不同的特征\n",
    "初始化卷积核参数"
   ]
  },
  {
   "cell_type": "markdown",
   "id": "1b32fae6",
   "metadata": {},
   "source": [
    "#### 卷积层\n",
    "- ksize ： kernal size，卷积核大小\n",
    "- strides：       卷积核移动的跨度，生成图像像素减小\n",
    "- padding ：边缘填充 ，卷积核和原图像匹配，\n"
   ]
  },
  {
   "cell_type": "code",
   "execution_count": 1,
   "id": "9b3725d7",
   "metadata": {},
   "outputs": [],
   "source": [
    "import keras\n",
    "from keras import layers"
   ]
  },
  {
   "cell_type": "code",
   "execution_count": 2,
   "id": "d864fbc4",
   "metadata": {},
   "outputs": [
    {
     "data": {
      "text/plain": [
       "keras.layers.convolutional.Conv2D"
      ]
     },
     "execution_count": 2,
     "metadata": {},
     "output_type": "execute_result"
    }
   ],
   "source": [
    "layers.Conv2D"
   ]
  },
  {
   "cell_type": "markdown",
   "id": "d8497a24",
   "metadata": {},
   "source": [
    "#### 池化层\n",
    "最大池化 layers.MaxPooling2D\n",
    "继续减小图像\n"
   ]
  },
  {
   "cell_type": "code",
   "execution_count": 3,
   "id": "ffe38d9f",
   "metadata": {},
   "outputs": [
    {
     "data": {
      "text/plain": [
       "<keras.layers.pooling.MaxPooling2D at 0x1a2fb820f28>"
      ]
     },
     "execution_count": 3,
     "metadata": {},
     "output_type": "execute_result"
    }
   ],
   "source": [
    "layers.MaxPooling2D()"
   ]
  },
  {
   "cell_type": "markdown",
   "id": "63ee696c",
   "metadata": {},
   "source": [
    "### 整体结构\n",
    "- 选择多个卷积核，生成多张特征图，（变厚）\n",
    "- 池化，减小 （变小 减小维度）\n",
    "- 使用卷积核再次生成特征（变厚）\n",
    "- 池化，减小 （变小 减小维度）\n",
    "- 使用全连接\n",
    "\n",
    "![jupyter](./01.jpg)"
   ]
  },
  {
   "cell_type": "code",
   "execution_count": null,
   "id": "6dd9b1f6",
   "metadata": {},
   "outputs": [],
   "source": []
  }
 ],
 "metadata": {
  "kernelspec": {
   "display_name": "Python 3",
   "language": "python",
   "name": "python3"
  },
  "language_info": {
   "codemirror_mode": {
    "name": "ipython",
    "version": 3
   },
   "file_extension": ".py",
   "mimetype": "text/x-python",
   "name": "python",
   "nbconvert_exporter": "python",
   "pygments_lexer": "ipython3",
   "version": "3.6.13"
  },
  "toc": {
   "base_numbering": 1,
   "nav_menu": {},
   "number_sections": true,
   "sideBar": true,
   "skip_h1_title": false,
   "title_cell": "Table of Contents",
   "title_sidebar": "Contents",
   "toc_cell": false,
   "toc_position": {},
   "toc_section_display": true,
   "toc_window_display": false
  }
 },
 "nbformat": 4,
 "nbformat_minor": 5
}
