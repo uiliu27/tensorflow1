{
 "cells": [
  {
   "cell_type": "markdown",
   "id": "86df3cf2",
   "metadata": {},
   "source": [
    "### 网络层 网络结构及 激活函数"
   ]
  },
  {
   "cell_type": "markdown",
   "id": "8c2808f1",
   "metadata": {},
   "source": [
    "### （一）keras.layers.Dense方法\n",
    "Dense layer 就是常提到和用到的全连接层 。Dense 实现的操作为：output = activation(dot(input, kernel) + bias) 其中 activation 是按逐个元素计算的激活函数，kernel 是由网络层创建的权值矩阵，以及 bias 是其创建的偏置向量 (只在 use_bias=True 时才有用)。"
   ]
  },
  {
   "cell_type": "markdown",
   "id": "fb70c556",
   "metadata": {},
   "source": [
    "keras.layers.Dense(units, \n",
    "\t\t\t\t  activation=None, \n",
    "\t\t\t\t  use_bias=True, \n",
    "\t\t\t\t  kernel_initializer='glorot_uniform', \n",
    "\t\t\t\t  bias_initializer='zeros', \n",
    "\t\t\t\t  kernel_regularizer=None, \n",
    "\t\t\t\t  bias_regularizer=None, \n",
    "\t\t\t      activity_regularizer=None, \n",
    "\t\t\t\t  kernel_constraint=None, \n",
    "\t\t\t\t  bias_constraint=None)\n"
   ]
  },
  {
   "cell_type": "markdown",
   "id": "88387e8e",
   "metadata": {},
   "source": [
    "units: 正整数，输出空间维度。\n",
    "activation: 激活函数 (详见 activations)。 若不指定，则不使用激活函数 (即，「线性」激活: a(x) = x)。\n",
    "use_bias: 布尔值，该层是否使用偏置向量。\n",
    "kernel_initializer: kernel 权值矩阵的初始化器 (详见 initializers)。\n",
    "bias_initializer: 偏置向量的初始化器 (see initializers).\n",
    "kernel_regularizer: 运用到 kernel 权值矩阵的正则化函数 (详见 regularizer)。\n",
    "bias_regularizer: 运用到偏置向的的正则化函数 (详见 regularizer)。\n",
    "activity_regularizer: 运用到层的输出的正则化函数 (它的 \"activation\")。 (详见 regularizer)。\n",
    "kernel_constraint: 运用到 kernel 权值矩阵的约束函数 (详见 constraints)。\n",
    "bias_constraint: 运用到偏置向量的约束函数 (详见 constraints)。"
   ]
  },
  {
   "cell_type": "code",
   "execution_count": 2,
   "id": "8cf348a7",
   "metadata": {},
   "outputs": [],
   "source": [
    "import pandas as pd\n",
    "import tensorflow as tf\n",
    "import numpy as np\n",
    "import matplotlib.pyplot as plt"
   ]
  },
  {
   "cell_type": "code",
   "execution_count": 5,
   "id": "0a60cada",
   "metadata": {},
   "outputs": [],
   "source": [
    "model=tf.keras.Sequential()\n",
    "# 作为 Sequential 模型的第一层，需要指定输入维度。可以为 input_shape=(15,) 或者 input_dim=15，这两者是等价的。\n",
    "# 4 代表该层几个神经元\n",
    "model.add(tf.keras.layers.Dense(4,input_shape=(15,),activation='relu'))\n",
    "# 在第一层之后，就不再需要指定输入的尺寸了：\n",
    "model.add(tf.keras.layers.Dense(4,activation='relu'))"
   ]
  },
  {
   "cell_type": "code",
   "execution_count": null,
   "id": "7827d824",
   "metadata": {},
   "outputs": [],
   "source": []
  }
 ],
 "metadata": {
  "kernelspec": {
   "display_name": "Python 3",
   "language": "python",
   "name": "python3"
  },
  "language_info": {
   "codemirror_mode": {
    "name": "ipython",
    "version": 3
   },
   "file_extension": ".py",
   "mimetype": "text/x-python",
   "name": "python",
   "nbconvert_exporter": "python",
   "pygments_lexer": "ipython3",
   "version": "3.6.13"
  }
 },
 "nbformat": 4,
 "nbformat_minor": 5
}
