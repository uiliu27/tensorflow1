{
 "cells": [
  {
   "cell_type": "markdown",
   "id": "f6d0288d",
   "metadata": {},
   "source": [
    "### optimizer 的使用"
   ]
  },
  {
   "cell_type": "markdown",
   "id": "c2ed4479",
   "metadata": {},
   "source": [
    "- 在模型配置中，model.compile()\n",
    "优化器的选择\n",
    "\n",
    "可以实例化优化器对象，自定义优化函数\n",
    "\n",
    "---<code> sgd = tf.keras.optimizers.SGD(lr=0.01, decay=1e-6, momentum=0.9, nesterov=True)  \n",
    "model.compile(loss='mean_squared_error', **optimizer=sgd**) </code>\n",
    "- lr: float >= 0. 学习率。\n",
    "- momentum: float >= 0. 参数，用于加速 SGD 在相关方向上前进，并抑制震荡。\n",
    "- decay: float >= 0. 每次参数更新后学习率衰减值。\n",
    "- nesterov: boolean. 是否使用 Nesterov 动量。"
   ]
  },
  {
   "cell_type": "code",
   "execution_count": null,
   "id": "136bf00c",
   "metadata": {},
   "outputs": [],
   "source": []
  }
 ],
 "metadata": {
  "kernelspec": {
   "display_name": "Python 3",
   "language": "python",
   "name": "python3"
  },
  "language_info": {
   "codemirror_mode": {
    "name": "ipython",
    "version": 3
   },
   "file_extension": ".py",
   "mimetype": "text/x-python",
   "name": "python",
   "nbconvert_exporter": "python",
   "pygments_lexer": "ipython3",
   "version": "3.6.13"
  },
  "toc": {
   "base_numbering": 1,
   "nav_menu": {},
   "number_sections": true,
   "sideBar": true,
   "skip_h1_title": false,
   "title_cell": "Table of Contents",
   "title_sidebar": "Contents",
   "toc_cell": false,
   "toc_position": {},
   "toc_section_display": true,
   "toc_window_display": false
  }
 },
 "nbformat": 4,
 "nbformat_minor": 5
}
