{
 "cells": [
  {
   "cell_type": "markdown",
   "id": "fe416397",
   "metadata": {},
   "source": [
    "### model.fit 存储拟合结果\n",
    "model.fit 方法返回一个 History 回调，它具有包含连续误差的列表和其他度量的 history 属性,<br/>\n",
    "hist = model.fit(x, y, validation_split=0.2)<br/>\n",
    "print(hist.history)"
   ]
  },
  {
   "cell_type": "markdown",
   "id": "17b4c287",
   "metadata": {},
   "source": [
    "hist=model.fit(train_image,train_label_onehot,epochs=10,validation_data=(test_image,test_label_onehot))\n",
    "histor.history.keys()\n",
    "返回的是一个字典\n",
    "dict_keys(['loss', 'acc', 'val_loss', 'val_acc'])\n",
    "plt.plot(hist.epoch,histor.history.get('loss'),label='loss')\n",
    "plt.plot(hist.epoch,histor.history.get('val_loss'),label='val_loss')\n",
    "plt.legend(loc='best')"
   ]
  }
 ],
 "metadata": {
  "kernelspec": {
   "display_name": "Python 3",
   "language": "python",
   "name": "python3"
  },
  "language_info": {
   "codemirror_mode": {
    "name": "ipython",
    "version": 3
   },
   "file_extension": ".py",
   "mimetype": "text/x-python",
   "name": "python",
   "nbconvert_exporter": "python",
   "pygments_lexer": "ipython3",
   "version": "3.6.13"
  },
  "toc": {
   "base_numbering": 1,
   "nav_menu": {},
   "number_sections": true,
   "sideBar": true,
   "skip_h1_title": false,
   "title_cell": "Table of Contents",
   "title_sidebar": "Contents",
   "toc_cell": false,
   "toc_position": {},
   "toc_section_display": true,
   "toc_window_display": false
  }
 },
 "nbformat": 4,
 "nbformat_minor": 5
}
