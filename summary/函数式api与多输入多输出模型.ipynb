{
 "cells": [
  {
   "cell_type": "markdown",
   "id": "6ae294f0",
   "metadata": {},
   "source": [
    "### 函数式api\n",
    "Keras 函数式 API 是定义复杂模型（如多输出模型、有向无环图，或具有共享层的模型）的方法\n",
    "\n",
    "    利用函数式 API，可以轻易地重用训练好的模型: 可以将任何模型看作是一个层，然后通过传递一个张量来调用它 。注意，在调用模型时，您不仅重用模型的结构，还重用了它的权重\n",
    "\n",
    "多输入多输出模型"
   ]
  },
  {
   "cell_type": "code",
   "execution_count": 35,
   "id": "af19aad1",
   "metadata": {},
   "outputs": [],
   "source": [
    "from tensorflow import keras\n",
    "import matplotlib.pyplot as plt\n",
    "%matplotlib inline"
   ]
  },
  {
   "cell_type": "code",
   "execution_count": 36,
   "id": "4671ad99",
   "metadata": {},
   "outputs": [],
   "source": [
    "fashion_mnist=keras.datasets.fashion_mnist\n",
    "(train_image,train_label),(test_image,test_label)=keras.datasets.fashion_mnist.load_data()"
   ]
  },
  {
   "cell_type": "code",
   "execution_count": 37,
   "id": "03506dd8",
   "metadata": {},
   "outputs": [],
   "source": [
    "train_image=train_image/255\n",
    "test_image=test_image/255"
   ]
  },
  {
   "cell_type": "code",
   "execution_count": 38,
   "id": "2c3fbef1",
   "metadata": {},
   "outputs": [
    {
     "data": {
      "text/plain": [
       "(60000, 28, 28)"
      ]
     },
     "execution_count": 38,
     "metadata": {},
     "output_type": "execute_result"
    }
   ],
   "source": [
    "train_image.shape"
   ]
  },
  {
   "cell_type": "markdown",
   "id": "9a490a1a",
   "metadata": {},
   "source": [
    "**建立输入**"
   ]
  },
  {
   "cell_type": "code",
   "execution_count": 39,
   "id": "772af2a5",
   "metadata": {},
   "outputs": [],
   "source": [
    "input=keras.Input(shape=(28,28))"
   ]
  },
  {
   "cell_type": "markdown",
   "id": "b366032c",
   "metadata": {},
   "source": [
    "**调用层**"
   ]
  },
  {
   "cell_type": "code",
   "execution_count": 40,
   "id": "e121ab1a",
   "metadata": {},
   "outputs": [],
   "source": [
    "x=keras.layers.Flatten()(input)"
   ]
  },
  {
   "cell_type": "code",
   "execution_count": 41,
   "id": "8a799119",
   "metadata": {},
   "outputs": [],
   "source": [
    "x=keras.layers.Dense(32,activation='relu')(x)"
   ]
  },
  {
   "cell_type": "code",
   "execution_count": 42,
   "id": "db6d9007",
   "metadata": {},
   "outputs": [],
   "source": [
    "x=keras.layers.Dropout(0.5)(x)"
   ]
  },
  {
   "cell_type": "code",
   "execution_count": 43,
   "id": "01079773",
   "metadata": {},
   "outputs": [],
   "source": [
    "x=keras.layers.Dense(64,activation='relu')(x)"
   ]
  },
  {
   "cell_type": "code",
   "execution_count": 44,
   "id": "2cbdcca7",
   "metadata": {},
   "outputs": [],
   "source": [
    "output=keras.layers.Dense(10,activation='softmax')(x)"
   ]
  },
  {
   "cell_type": "markdown",
   "id": "91e3927a",
   "metadata": {},
   "source": [
    "**层建立完成，建立模型**\n",
    "\n",
    "\n",
    "keras.Model(inputs=[input1,input2],outputs=output)"
   ]
  },
  {
   "cell_type": "code",
   "execution_count": 45,
   "id": "b213fb45",
   "metadata": {},
   "outputs": [],
   "source": [
    "model=keras.Model(inputs=input,outputs=output)"
   ]
  },
  {
   "cell_type": "code",
   "execution_count": 46,
   "id": "f25a90f7",
   "metadata": {},
   "outputs": [
    {
     "name": "stdout",
     "output_type": "stream",
     "text": [
      "Model: \"model_1\"\n",
      "_________________________________________________________________\n",
      "Layer (type)                 Output Shape              Param #   \n",
      "=================================================================\n",
      "input_3 (InputLayer)         [(None, 28, 28)]          0         \n",
      "_________________________________________________________________\n",
      "flatten_3 (Flatten)          (None, 784)               0         \n",
      "_________________________________________________________________\n",
      "dense_5 (Dense)              (None, 32)                25120     \n",
      "_________________________________________________________________\n",
      "dropout_1 (Dropout)          (None, 32)                0         \n",
      "_________________________________________________________________\n",
      "dense_6 (Dense)              (None, 64)                2112      \n",
      "_________________________________________________________________\n",
      "dense_7 (Dense)              (None, 10)                650       \n",
      "=================================================================\n",
      "Total params: 27,882\n",
      "Trainable params: 27,882\n",
      "Non-trainable params: 0\n",
      "_________________________________________________________________\n"
     ]
    }
   ],
   "source": [
    "model.summary()"
   ]
  },
  {
   "cell_type": "code",
   "execution_count": 47,
   "id": "cb9ecdc9",
   "metadata": {},
   "outputs": [],
   "source": [
    "model.compile(optimizer='adam',loss='sparse_categorical_crossentropy',metrics=['acc']) "
   ]
  },
  {
   "cell_type": "code",
   "execution_count": 48,
   "id": "92b37638",
   "metadata": {},
   "outputs": [
    {
     "name": "stdout",
     "output_type": "stream",
     "text": [
      "Epoch 1/5\n",
      "1875/1875 [==============================] - 3s 1ms/step - loss: 0.8340 - acc: 0.6868 - val_loss: 0.5372 - val_acc: 0.8180\n",
      "Epoch 2/5\n",
      "1875/1875 [==============================] - 2s 1ms/step - loss: 0.6299 - acc: 0.7630 - val_loss: 0.5791 - val_acc: 0.7717\n",
      "Epoch 3/5\n",
      "1875/1875 [==============================] - 2s 1ms/step - loss: 0.5954 - acc: 0.7786 - val_loss: 0.5100 - val_acc: 0.8204\n",
      "Epoch 4/5\n",
      "1875/1875 [==============================] - 2s 1ms/step - loss: 0.5690 - acc: 0.7887 - val_loss: 0.5491 - val_acc: 0.7879\n",
      "Epoch 5/5\n",
      "1875/1875 [==============================] - 2s 1ms/step - loss: 0.5579 - acc: 0.7963 - val_loss: 0.5567 - val_acc: 0.7829\n"
     ]
    }
   ],
   "source": [
    "hist=model.fit(train_image,train_label,validation_data=(test_image,test_label),epochs=5)"
   ]
  },
  {
   "cell_type": "markdown",
   "id": "281b8648",
   "metadata": {},
   "source": [
    "多输入\n",
    "\n",
    "x = keras.layers.concatenate([lstm_out, auxiliary_input])"
   ]
  },
  {
   "cell_type": "code",
   "execution_count": 49,
   "id": "29d3da90",
   "metadata": {},
   "outputs": [
    {
     "data": {
      "text/plain": [
       "<matplotlib.legend.Legend at 0x17b43687eb8>"
      ]
     },
     "execution_count": 49,
     "metadata": {},
     "output_type": "execute_result"
    },
    {
     "data": {
      "image/png": "[encoded data removed]",
      "text/plain": [
       "<Figure size 432x288 with 1 Axes>"
      ]
     },
     "metadata": {
      "needs_background": "light"
     },
     "output_type": "display_data"
    }
   ],
   "source": [
    "plt.plot(hist.epoch,hist.history.get('loss'),'r',label='loss')\n",
    "plt.plot(hist.epoch,hist.history.get('val_loss'),'b',label='val_loss')\n",
    "plt.legend(loc='best')"
   ]
  },
  {
   "cell_type": "code",
   "execution_count": null,
   "id": "d0aee0f7",
   "metadata": {},
   "outputs": [],
   "source": []
  }
 ],
 "metadata": {
  "kernelspec": {
   "display_name": "Python 3",
   "language": "python",
   "name": "python3"
  },
  "language_info": {
   "codemirror_mode": {
    "name": "ipython",
    "version": 3
   },
   "file_extension": ".py",
   "mimetype": "text/x-python",
   "name": "python",
   "nbconvert_exporter": "python",
   "pygments_lexer": "ipython3",
   "version": "3.6.13"
  },
  "toc": {
   "base_numbering": 1,
   "nav_menu": {},
   "number_sections": true,
   "sideBar": true,
   "skip_h1_title": false,
   "title_cell": "Table of Contents",
   "title_sidebar": "Contents",
   "toc_cell": false,
   "toc_position": {},
   "toc_section_display": true,
   "toc_window_display": false
  }
 },
 "nbformat": 4,
 "nbformat_minor": 5
}
