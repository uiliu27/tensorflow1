{
 "cells": [
  {
   "cell_type": "markdown",
   "id": "23061215",
   "metadata": {},
   "source": [
    "### 逻辑回归\n",
    "*activation使用sigmoid函数*，视作概率值 \n",
    "\n",
    "\n",
    "loss='binary_crossentropy'"
   ]
  },
  {
   "cell_type": "code",
   "execution_count": 21,
   "id": "d6ed1645",
   "metadata": {},
   "outputs": [],
   "source": [
    "import pandas as pd\n",
    "import tensorflow as tf\n",
    "import numpy as np\n",
    "import matplotlib.pyplot as plt"
   ]
  },
  {
   "cell_type": "code",
   "execution_count": 22,
   "id": "68c8fa53",
   "metadata": {},
   "outputs": [
    {
     "data": {
      "text/html": [
       "<div>\n",
       "<style scoped>\n",
       "    .dataframe tbody tr th:only-of-type {\n",
       "        vertical-align: middle;\n",
       "    }\n",
       "\n",
       "    .dataframe tbody tr th {\n",
       "        vertical-align: top;\n",
       "    }\n",
       "\n",
       "    .dataframe thead th {\n",
       "        text-align: right;\n",
       "    }\n",
       "</style>\n",
       "<table border=\"1\" class=\"dataframe\">\n",
       "  <thead>\n",
       "    <tr style=\"text-align: right;\">\n",
       "      <th></th>\n",
       "      <th>0</th>\n",
       "      <th>1</th>\n",
       "      <th>2</th>\n",
       "      <th>3</th>\n",
       "      <th>4</th>\n",
       "      <th>5</th>\n",
       "      <th>6</th>\n",
       "      <th>7</th>\n",
       "      <th>8</th>\n",
       "      <th>9</th>\n",
       "      <th>10</th>\n",
       "      <th>11</th>\n",
       "      <th>12</th>\n",
       "      <th>13</th>\n",
       "      <th>14</th>\n",
       "      <th>15</th>\n",
       "    </tr>\n",
       "  </thead>\n",
       "  <tbody>\n",
       "    <tr>\n",
       "      <th>0</th>\n",
       "      <td>0</td>\n",
       "      <td>30.83</td>\n",
       "      <td>0.000</td>\n",
       "      <td>0</td>\n",
       "      <td>0</td>\n",
       "      <td>9</td>\n",
       "      <td>0</td>\n",
       "      <td>1.25</td>\n",
       "      <td>0</td>\n",
       "      <td>0</td>\n",
       "      <td>1</td>\n",
       "      <td>1</td>\n",
       "      <td>0</td>\n",
       "      <td>202</td>\n",
       "      <td>0.0</td>\n",
       "      <td>-1</td>\n",
       "    </tr>\n",
       "    <tr>\n",
       "      <th>1</th>\n",
       "      <td>1</td>\n",
       "      <td>58.67</td>\n",
       "      <td>4.460</td>\n",
       "      <td>0</td>\n",
       "      <td>0</td>\n",
       "      <td>8</td>\n",
       "      <td>1</td>\n",
       "      <td>3.04</td>\n",
       "      <td>0</td>\n",
       "      <td>0</td>\n",
       "      <td>6</td>\n",
       "      <td>1</td>\n",
       "      <td>0</td>\n",
       "      <td>43</td>\n",
       "      <td>560.0</td>\n",
       "      <td>-1</td>\n",
       "    </tr>\n",
       "    <tr>\n",
       "      <th>2</th>\n",
       "      <td>1</td>\n",
       "      <td>24.50</td>\n",
       "      <td>0.500</td>\n",
       "      <td>0</td>\n",
       "      <td>0</td>\n",
       "      <td>8</td>\n",
       "      <td>1</td>\n",
       "      <td>1.50</td>\n",
       "      <td>0</td>\n",
       "      <td>1</td>\n",
       "      <td>0</td>\n",
       "      <td>1</td>\n",
       "      <td>0</td>\n",
       "      <td>280</td>\n",
       "      <td>824.0</td>\n",
       "      <td>-1</td>\n",
       "    </tr>\n",
       "    <tr>\n",
       "      <th>3</th>\n",
       "      <td>0</td>\n",
       "      <td>27.83</td>\n",
       "      <td>1.540</td>\n",
       "      <td>0</td>\n",
       "      <td>0</td>\n",
       "      <td>9</td>\n",
       "      <td>0</td>\n",
       "      <td>3.75</td>\n",
       "      <td>0</td>\n",
       "      <td>0</td>\n",
       "      <td>5</td>\n",
       "      <td>0</td>\n",
       "      <td>0</td>\n",
       "      <td>100</td>\n",
       "      <td>3.0</td>\n",
       "      <td>-1</td>\n",
       "    </tr>\n",
       "    <tr>\n",
       "      <th>4</th>\n",
       "      <td>0</td>\n",
       "      <td>20.17</td>\n",
       "      <td>5.625</td>\n",
       "      <td>0</td>\n",
       "      <td>0</td>\n",
       "      <td>9</td>\n",
       "      <td>0</td>\n",
       "      <td>1.71</td>\n",
       "      <td>0</td>\n",
       "      <td>1</td>\n",
       "      <td>0</td>\n",
       "      <td>1</td>\n",
       "      <td>2</td>\n",
       "      <td>120</td>\n",
       "      <td>0.0</td>\n",
       "      <td>-1</td>\n",
       "    </tr>\n",
       "  </tbody>\n",
       "</table>\n",
       "</div>"
      ],
      "text/plain": [
       "   0      1      2   3   4   5   6     7   8   9   10  11  12   13     14  15\n",
       "0   0  30.83  0.000   0   0   9   0  1.25   0   0   1   1   0  202    0.0  -1\n",
       "1   1  58.67  4.460   0   0   8   1  3.04   0   0   6   1   0   43  560.0  -1\n",
       "2   1  24.50  0.500   0   0   8   1  1.50   0   1   0   1   0  280  824.0  -1\n",
       "3   0  27.83  1.540   0   0   9   0  3.75   0   0   5   0   0  100    3.0  -1\n",
       "4   0  20.17  5.625   0   0   9   0  1.71   0   1   0   1   2  120    0.0  -1"
      ]
     },
     "execution_count": 22,
     "metadata": {},
     "output_type": "execute_result"
    }
   ],
   "source": [
    "data=pd.read_csv('./credit-a.csv',header=None)\n",
    "data.head()"
   ]
  },
  {
   "cell_type": "code",
   "execution_count": 23,
   "id": "cc4922ad",
   "metadata": {},
   "outputs": [
    {
     "data": {
      "text/plain": [
       " 1    357\n",
       "-1    296\n",
       "Name: 15, dtype: int64"
      ]
     },
     "execution_count": 23,
     "metadata": {},
     "output_type": "execute_result"
    }
   ],
   "source": [
    "data.iloc[:,-1].value_counts()"
   ]
  },
  {
   "cell_type": "code",
   "execution_count": 24,
   "id": "c4364644",
   "metadata": {},
   "outputs": [],
   "source": [
    "x=data.iloc[:, :-1]\n",
    "y=data.iloc[:,-1].replace(-1,0)"
   ]
  },
  {
   "cell_type": "code",
   "execution_count": 25,
   "id": "43d1e5c0",
   "metadata": {},
   "outputs": [],
   "source": [
    "model=tf.keras.Sequential()"
   ]
  },
  {
   "cell_type": "code",
   "execution_count": 26,
   "id": "3fbd93d9",
   "metadata": {},
   "outputs": [],
   "source": [
    "model.add(tf.keras.layers.Dense(4,input_shape=(15,),activation='relu'))\n",
    "model.add(tf.keras.layers.Dense(4,input_shape=(15,),activation='relu'))\n",
    "model.add(tf.keras.layers.Dense(1,activation='sigmoid'))"
   ]
  },
  {
   "cell_type": "code",
   "execution_count": 27,
   "id": "afb435cb",
   "metadata": {},
   "outputs": [
    {
     "name": "stdout",
     "output_type": "stream",
     "text": [
      "Model: \"sequential_1\"\n",
      "_________________________________________________________________\n",
      "Layer (type)                 Output Shape              Param #   \n",
      "=================================================================\n",
      "dense_3 (Dense)              (None, 4)                 64        \n",
      "_________________________________________________________________\n",
      "dense_4 (Dense)              (None, 4)                 20        \n",
      "_________________________________________________________________\n",
      "dense_5 (Dense)              (None, 1)                 5         \n",
      "=================================================================\n",
      "Total params: 89\n",
      "Trainable params: 89\n",
      "Non-trainable params: 0\n",
      "_________________________________________________________________\n"
     ]
    }
   ],
   "source": [
    "model.summary()"
   ]
  },
  {
   "cell_type": "markdown",
   "id": "cabd70c4",
   "metadata": {},
   "source": [
    "·模型配置，metrics[]记录情况"
   ]
  },
  {
   "cell_type": "code",
   "execution_count": 28,
   "id": "0a1f46d3",
   "metadata": {},
   "outputs": [],
   "source": [
    "model.compile(optimizer='adam',loss='binary_crossentropy',metrics=['acc'])"
   ]
  },
  {
   "cell_type": "code",
   "execution_count": 29,
   "id": "5741bdae",
   "metadata": {},
   "outputs": [
    {
     "name": "stdout",
     "output_type": "stream",
     "text": [
      "Epoch 1/100\n",
      "21/21 [==============================] - 1s 2ms/step - loss: 104.6447 - acc: 0.5467\n",
      "Epoch 2/100\n",
      "21/21 [==============================] - 0s 1ms/step - loss: 63.3642 - acc: 0.5467\n",
      "Epoch 3/100\n",
      "21/21 [==============================] - 0s 1ms/step - loss: 50.7796 - acc: 0.5467\n",
      "Epoch 4/100\n",
      "21/21 [==============================] - 0s 1ms/step - loss: 38.6792 - acc: 0.5467\n",
      "Epoch 5/100\n",
      "21/21 [==============================] - 0s 1ms/step - loss: 27.9516 - acc: 0.5498\n",
      "Epoch 6/100\n",
      "21/21 [==============================] - 0s 1ms/step - loss: 17.3223 - acc: 0.5482\n",
      "Epoch 7/100\n",
      "21/21 [==============================] - 0s 1ms/step - loss: 8.0834 - acc: 0.5406\n",
      "Epoch 8/100\n",
      "21/21 [==============================] - 0s 1ms/step - loss: 0.9836 - acc: 0.5467\n",
      "Epoch 9/100\n",
      "21/21 [==============================] - 0s 1ms/step - loss: 0.7914 - acc: 0.5115\n",
      "Epoch 10/100\n",
      "21/21 [==============================] - 0s 1ms/step - loss: 0.7505 - acc: 0.5268\n",
      "Epoch 11/100\n",
      "21/21 [==============================] - 0s 1ms/step - loss: 0.7227 - acc: 0.5590\n",
      "Epoch 12/100\n",
      "21/21 [==============================] - 0s 1ms/step - loss: 0.6970 - acc: 0.5819\n",
      "Epoch 13/100\n",
      "21/21 [==============================] - 0s 1ms/step - loss: 0.6759 - acc: 0.6294\n",
      "Epoch 14/100\n",
      "21/21 [==============================] - 0s 1ms/step - loss: 0.6607 - acc: 0.6478\n",
      "Epoch 15/100\n",
      "21/21 [==============================] - 0s 1ms/step - loss: 0.6540 - acc: 0.6753\n",
      "Epoch 16/100\n",
      "21/21 [==============================] - ETA: 0s - loss: 0.5832 - acc: 0.812 - 0s 1ms/step - loss: 0.6496 - acc: 0.6861\n",
      "Epoch 17/100\n",
      "21/21 [==============================] - 0s 1ms/step - loss: 0.6470 - acc: 0.6845\n",
      "Epoch 18/100\n",
      "21/21 [==============================] - 0s 1ms/step - loss: 0.6453 - acc: 0.6876\n",
      "Epoch 19/100\n",
      "21/21 [==============================] - 0s 1ms/step - loss: 0.6436 - acc: 0.6830\n",
      "Epoch 20/100\n",
      "21/21 [==============================] - 0s 1ms/step - loss: 0.6416 - acc: 0.6876\n",
      "Epoch 21/100\n",
      "21/21 [==============================] - 0s 1ms/step - loss: 0.6402 - acc: 0.6845\n",
      "Epoch 22/100\n",
      "21/21 [==============================] - 0s 1ms/step - loss: 0.6382 - acc: 0.6922\n",
      "Epoch 23/100\n",
      "21/21 [==============================] - 0s 1ms/step - loss: 0.6359 - acc: 0.6922\n",
      "Epoch 24/100\n",
      "21/21 [==============================] - 0s 1ms/step - loss: 0.6342 - acc: 0.6937\n",
      "Epoch 25/100\n",
      "21/21 [==============================] - 0s 1ms/step - loss: 0.6323 - acc: 0.6937\n",
      "Epoch 26/100\n",
      "21/21 [==============================] - 0s 1ms/step - loss: 0.6305 - acc: 0.6983\n",
      "Epoch 27/100\n",
      "21/21 [==============================] - 0s 1ms/step - loss: 0.6282 - acc: 0.7029\n",
      "Epoch 28/100\n",
      "21/21 [==============================] - 0s 1ms/step - loss: 0.6264 - acc: 0.7121\n",
      "Epoch 29/100\n",
      "21/21 [==============================] - 0s 948us/step - loss: 0.6240 - acc: 0.7090\n",
      "Epoch 30/100\n",
      "21/21 [==============================] - 0s 1ms/step - loss: 0.6212 - acc: 0.7090\n",
      "Epoch 31/100\n",
      "21/21 [==============================] - 0s 1ms/step - loss: 0.6191 - acc: 0.7029\n",
      "Epoch 32/100\n",
      "21/21 [==============================] - 0s 1ms/step - loss: 0.6167 - acc: 0.7198\n",
      "Epoch 33/100\n",
      "21/21 [==============================] - 0s 1ms/step - loss: 0.6140 - acc: 0.7228\n",
      "Epoch 34/100\n",
      "21/21 [==============================] - 0s 1ms/step - loss: 0.6117 - acc: 0.7259\n",
      "Epoch 35/100\n",
      "21/21 [==============================] - 0s 1ms/step - loss: 0.6092 - acc: 0.7289\n",
      "Epoch 36/100\n",
      "21/21 [==============================] - 0s 1ms/step - loss: 0.6069 - acc: 0.7320\n",
      "Epoch 37/100\n",
      "21/21 [==============================] - 0s 997us/step - loss: 0.6050 - acc: 0.7259\n",
      "Epoch 38/100\n",
      "21/21 [==============================] - 0s 997us/step - loss: 0.6013 - acc: 0.7305\n",
      "Epoch 39/100\n",
      "21/21 [==============================] - 0s 997us/step - loss: 0.6000 - acc: 0.7243\n",
      "Epoch 40/100\n",
      "21/21 [==============================] - 0s 1ms/step - loss: 0.5961 - acc: 0.7305\n",
      "Epoch 41/100\n",
      "21/21 [==============================] - 0s 947us/step - loss: 0.5953 - acc: 0.7320\n",
      "Epoch 42/100\n",
      "21/21 [==============================] - 0s 997us/step - loss: 0.5911 - acc: 0.7366\n",
      "Epoch 43/100\n",
      "21/21 [==============================] - 0s 1ms/step - loss: 0.5885 - acc: 0.7351\n",
      "Epoch 44/100\n",
      "21/21 [==============================] - 0s 1ms/step - loss: 0.5877 - acc: 0.7366\n",
      "Epoch 45/100\n",
      "21/21 [==============================] - 0s 1ms/step - loss: 0.5838 - acc: 0.7366\n",
      "Epoch 46/100\n",
      "21/21 [==============================] - 0s 1ms/step - loss: 0.5811 - acc: 0.7427\n",
      "Epoch 47/100\n",
      "21/21 [==============================] - 0s 1ms/step - loss: 0.5785 - acc: 0.7473\n",
      "Epoch 48/100\n",
      "21/21 [==============================] - 0s 1ms/step - loss: 0.5771 - acc: 0.7489\n",
      "Epoch 49/100\n",
      "21/21 [==============================] - 0s 1ms/step - loss: 0.5754 - acc: 0.7565\n",
      "Epoch 50/100\n",
      "21/21 [==============================] - 0s 1ms/step - loss: 0.5718 - acc: 0.7489\n",
      "Epoch 51/100\n",
      "21/21 [==============================] - 0s 1ms/step - loss: 0.5686 - acc: 0.7626\n",
      "Epoch 52/100\n",
      "21/21 [==============================] - 0s 1ms/step - loss: 0.5680 - acc: 0.7657\n",
      "Epoch 53/100\n",
      "21/21 [==============================] - 0s 2ms/step - loss: 0.5609 - acc: 0.7672\n",
      "Epoch 54/100\n",
      "21/21 [==============================] - 0s 1ms/step - loss: 0.5409 - acc: 0.7718\n",
      "Epoch 55/100\n",
      "21/21 [==============================] - 0s 1ms/step - loss: 0.5410 - acc: 0.7703\n",
      "Epoch 56/100\n",
      "21/21 [==============================] - 0s 997us/step - loss: 0.5181 - acc: 0.7734\n",
      "Epoch 57/100\n",
      "21/21 [==============================] - 0s 998us/step - loss: 0.5143 - acc: 0.7734\n",
      "Epoch 58/100\n",
      "21/21 [==============================] - 0s 947us/step - loss: 0.5045 - acc: 0.7795\n",
      "Epoch 59/100\n",
      "21/21 [==============================] - 0s 997us/step - loss: 0.5039 - acc: 0.7825\n",
      "Epoch 60/100\n",
      "21/21 [==============================] - 0s 1ms/step - loss: 0.5158 - acc: 0.7779\n",
      "Epoch 61/100\n",
      "21/21 [==============================] - 0s 997us/step - loss: 0.5241 - acc: 0.7917\n",
      "Epoch 62/100\n",
      "21/21 [==============================] - 0s 1ms/step - loss: 0.4879 - acc: 0.7795\n",
      "Epoch 63/100\n",
      "21/21 [==============================] - 0s 997us/step - loss: 0.4917 - acc: 0.8086\n",
      "Epoch 64/100\n",
      "21/21 [==============================] - 0s 1ms/step - loss: 0.4913 - acc: 0.7933\n",
      "Epoch 65/100\n",
      "21/21 [==============================] - 0s 1ms/step - loss: 0.4869 - acc: 0.8178\n",
      "Epoch 66/100\n",
      "21/21 [==============================] - 0s 1ms/step - loss: 0.4853 - acc: 0.8116\n",
      "Epoch 67/100\n",
      "21/21 [==============================] - 0s 997us/step - loss: 0.4735 - acc: 0.8086\n",
      "Epoch 68/100\n",
      "21/21 [==============================] - 0s 1ms/step - loss: 0.4744 - acc: 0.8101\n",
      "Epoch 69/100\n",
      "21/21 [==============================] - 0s 997us/step - loss: 0.4809 - acc: 0.8193\n",
      "Epoch 70/100\n",
      "21/21 [==============================] - 0s 1ms/step - loss: 0.4830 - acc: 0.8178\n",
      "Epoch 71/100\n",
      "21/21 [==============================] - 0s 1ms/step - loss: 0.4801 - acc: 0.8086\n",
      "Epoch 72/100\n",
      "21/21 [==============================] - 0s 1ms/step - loss: 0.4605 - acc: 0.8101\n",
      "Epoch 73/100\n",
      "21/21 [==============================] - 0s 848us/step - loss: 0.4621 - acc: 0.8315\n",
      "Epoch 74/100\n",
      "21/21 [==============================] - 0s 947us/step - loss: 0.4613 - acc: 0.8361\n",
      "Epoch 75/100\n",
      "21/21 [==============================] - 0s 947us/step - loss: 0.4572 - acc: 0.8254\n",
      "Epoch 76/100\n",
      "21/21 [==============================] - 0s 848us/step - loss: 0.4749 - acc: 0.8101\n",
      "Epoch 77/100\n",
      "21/21 [==============================] - 0s 948us/step - loss: 0.4734 - acc: 0.8193\n",
      "Epoch 78/100\n",
      "21/21 [==============================] - 0s 1ms/step - loss: 0.4642 - acc: 0.8162\n",
      "Epoch 79/100\n",
      "21/21 [==============================] - 0s 997us/step - loss: 0.4546 - acc: 0.8270\n",
      "Epoch 80/100\n",
      "21/21 [==============================] - 0s 1ms/step - loss: 0.4439 - acc: 0.8285\n",
      "Epoch 81/100\n",
      "21/21 [==============================] - 0s 1ms/step - loss: 0.4438 - acc: 0.8254\n",
      "Epoch 82/100\n",
      "21/21 [==============================] - 0s 947us/step - loss: 0.4430 - acc: 0.8392\n",
      "Epoch 83/100\n",
      "21/21 [==============================] - 0s 1ms/step - loss: 0.4418 - acc: 0.8392\n",
      "Epoch 84/100\n",
      "21/21 [==============================] - 0s 1ms/step - loss: 0.4418 - acc: 0.8438\n",
      "Epoch 85/100\n",
      "21/21 [==============================] - 0s 1ms/step - loss: 0.4475 - acc: 0.8224\n",
      "Epoch 86/100\n",
      "21/21 [==============================] - 0s 997us/step - loss: 0.4627 - acc: 0.8147\n",
      "Epoch 87/100\n",
      "21/21 [==============================] - 0s 1ms/step - loss: 0.4484 - acc: 0.8178\n",
      "Epoch 88/100\n",
      "21/21 [==============================] - 0s 947us/step - loss: 0.4311 - acc: 0.8407\n",
      "Epoch 89/100\n",
      "21/21 [==============================] - 0s 947us/step - loss: 0.4310 - acc: 0.8438\n",
      "Epoch 90/100\n",
      "21/21 [==============================] - 0s 997us/step - loss: 0.4282 - acc: 0.8377\n",
      "Epoch 91/100\n",
      "21/21 [==============================] - 0s 947us/step - loss: 0.4346 - acc: 0.8315\n",
      "Epoch 92/100\n",
      "21/21 [==============================] - 0s 948us/step - loss: 0.4230 - acc: 0.8331\n",
      "Epoch 93/100\n",
      "21/21 [==============================] - 0s 1ms/step - loss: 0.4231 - acc: 0.8453\n",
      "Epoch 94/100\n",
      "21/21 [==============================] - 0s 1ms/step - loss: 0.4320 - acc: 0.8346\n",
      "Epoch 95/100\n",
      "21/21 [==============================] - 0s 997us/step - loss: 0.4275 - acc: 0.8285\n",
      "Epoch 96/100\n",
      "21/21 [==============================] - 0s 947us/step - loss: 0.4188 - acc: 0.8392\n",
      "Epoch 97/100\n",
      "21/21 [==============================] - 0s 1ms/step - loss: 0.4202 - acc: 0.8423\n",
      "Epoch 98/100\n",
      "21/21 [==============================] - 0s 997us/step - loss: 0.4194 - acc: 0.8331\n",
      "Epoch 99/100\n",
      "21/21 [==============================] - 0s 997us/step - loss: 0.4203 - acc: 0.8377\n",
      "Epoch 100/100\n",
      "21/21 [==============================] - 0s 997us/step - loss: 0.4263 - acc: 0.8331\n"
     ]
    }
   ],
   "source": [
    "history=model.fit(x,y,epochs=100)"
   ]
  },
  {
   "cell_type": "code",
   "execution_count": 31,
   "id": "e6b535b8",
   "metadata": {},
   "outputs": [
    {
     "data": {
      "text/plain": [
       "dict_keys(['loss', 'acc'])"
      ]
     },
     "execution_count": 31,
     "metadata": {},
     "output_type": "execute_result"
    }
   ],
   "source": [
    "history.history.keys()"
   ]
  },
  {
   "cell_type": "code",
   "execution_count": 32,
   "id": "3b703a57",
   "metadata": {},
   "outputs": [
    {
     "data": {
      "text/plain": [
       "[<matplotlib.lines.Line2D at 0x198e6872978>]"
      ]
     },
     "execution_count": 32,
     "metadata": {},
     "output_type": "execute_result"
    },
    {
     "data": {
      "image/png": "[encoded data removed]",
      "text/plain": [
       "<Figure size 432x288 with 1 Axes>"
      ]
     },
     "metadata": {
      "needs_background": "light"
     },
     "output_type": "display_data"
    }
   ],
   "source": [
    "plt.plot(history.epoch,history.history.get('loss'))"
   ]
  },
  {
   "cell_type": "code",
   "execution_count": 34,
   "id": "238edfba",
   "metadata": {},
   "outputs": [
    {
     "data": {
      "text/plain": [
       "[<matplotlib.lines.Line2D at 0x198e6fe2208>]"
      ]
     },
     "execution_count": 34,
     "metadata": {},
     "output_type": "execute_result"
    },
    {
     "data": {
      "image/png": "[encoded data removed]",
      "text/plain": [
       "<Figure size 432x288 with 1 Axes>"
      ]
     },
     "metadata": {
      "needs_background": "light"
     },
     "output_type": "display_data"
    }
   ],
   "source": [
    "plt.plot(history.epoch,history.history.get('acc'))"
   ]
  },
  {
   "cell_type": "code",
   "execution_count": null,
   "id": "31afb306",
   "metadata": {},
   "outputs": [],
   "source": []
  }
 ],
 "metadata": {
  "kernelspec": {
   "display_name": "Python 3",
   "language": "python",
   "name": "python3"
  },
  "language_info": {
   "codemirror_mode": {
    "name": "ipython",
    "version": 3
   },
   "file_extension": ".py",
   "mimetype": "text/x-python",
   "name": "python",
   "nbconvert_exporter": "python",
   "pygments_lexer": "ipython3",
   "version": "3.6.13"
  }
 },
 "nbformat": 4,
 "nbformat_minor": 5
}
