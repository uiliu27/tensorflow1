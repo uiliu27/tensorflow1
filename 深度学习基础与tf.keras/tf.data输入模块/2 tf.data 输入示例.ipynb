{
 "cells": [
  {
   "cell_type": "markdown",
   "id": "ab41a559",
   "metadata": {},
   "source": [
    "### 建立dataset,处理后训练"
   ]
  },
  {
   "cell_type": "code",
   "execution_count": 1,
   "id": "bfa4f442",
   "metadata": {},
   "outputs": [],
   "source": [
    "import tensorflow as tf"
   ]
  },
  {
   "cell_type": "code",
   "execution_count": 2,
   "id": "a26bc650",
   "metadata": {},
   "outputs": [],
   "source": [
    "(train_image,train_label),(test_image,test_label)=tf.keras.datasets.fashion_mnist.load_data()"
   ]
  },
  {
   "cell_type": "code",
   "execution_count": 3,
   "id": "16567bab",
   "metadata": {},
   "outputs": [],
   "source": [
    "train_image=train_image/225\n",
    "test_image=test_image/255"
   ]
  },
  {
   "cell_type": "code",
   "execution_count": 6,
   "id": "73133a08",
   "metadata": {},
   "outputs": [
    {
     "data": {
      "text/plain": [
       "<TensorSliceDataset shapes: (28, 28), types: tf.float64>"
      ]
     },
     "execution_count": 6,
     "metadata": {},
     "output_type": "execute_result"
    }
   ],
   "source": [
    "ds_train_img=tf.data.Dataset.from_tensor_slices(train_image)\n",
    "ds_train_img"
   ]
  },
  {
   "cell_type": "code",
   "execution_count": 7,
   "id": "94f61d79",
   "metadata": {},
   "outputs": [
    {
     "data": {
      "text/plain": [
       "<TensorSliceDataset shapes: (), types: tf.uint8>"
      ]
     },
     "execution_count": 7,
     "metadata": {},
     "output_type": "execute_result"
    }
   ],
   "source": [
    "# 对于label 也是array\n",
    "ds_train_lab=tf.data.Dataset.from_tensor_slices(train_label)\n",
    "ds_train_lab"
   ]
  },
  {
   "cell_type": "markdown",
   "id": "5487e2cb",
   "metadata": {},
   "source": [
    " **用元组形式直接创建**"
   ]
  },
  {
   "cell_type": "code",
   "execution_count": 22,
   "id": "529a84b6",
   "metadata": {},
   "outputs": [
    {
     "data": {
      "text/plain": [
       "<TensorSliceDataset shapes: ((28, 28), ()), types: (tf.float64, tf.uint8)>"
      ]
     },
     "execution_count": 22,
     "metadata": {},
     "output_type": "execute_result"
    }
   ],
   "source": [
    "\n",
    "ds_test=tf.data.Dataset.from_tensor_slices((test_image,test_label))\n",
    "ds_test"
   ]
  },
  {
   "cell_type": "markdown",
   "id": "8da1c06d",
   "metadata": {},
   "source": [
    "#### 处理后数据？\n",
    "。zip()\n",
    "<code>\n",
    "    Signature: tf.data.Dataset.zip(datasets)\n",
    "Docstring:\n",
    "Creates a `Dataset` by zipping together the given datasets\n",
    "    <code/>"
   ]
  },
  {
   "cell_type": "code",
   "execution_count": 8,
   "id": "ca9dc30b",
   "metadata": {},
   "outputs": [
    {
     "data": {
      "text/plain": [
       "<ZipDataset shapes: ((28, 28), ()), types: (tf.float64, tf.uint8)>"
      ]
     },
     "execution_count": 8,
     "metadata": {},
     "output_type": "execute_result"
    }
   ],
   "source": [
    "ds_train=tf.data.Dataset.zip((ds_train_img,ds_train_lab))\n",
    "ds_train"
   ]
  },
  {
   "cell_type": "markdown",
   "id": "18263f5f",
   "metadata": {},
   "source": [
    "#### zip合并数据\n",
    "zip一起，不用担心数据处理后不对应"
   ]
  },
  {
   "cell_type": "code",
   "execution_count": 9,
   "id": "cd088af0",
   "metadata": {},
   "outputs": [],
   "source": [
    "ds_train=ds_train.shuffle(10000).repeat().batch(64) \n",
    "#无线循环？？？"
   ]
  },
  {
   "cell_type": "code",
   "execution_count": 23,
   "id": "c62096c7",
   "metadata": {},
   "outputs": [],
   "source": [
    "ds_test=ds_test.batch(64)"
   ]
  },
  {
   "cell_type": "markdown",
   "id": "e1eddbb2",
   "metadata": {},
   "source": [
    "**对于测试数据，没必要shuffle，repeat（默认），设置batch**"
   ]
  },
  {
   "cell_type": "code",
   "execution_count": 12,
   "id": "43c018c6",
   "metadata": {},
   "outputs": [],
   "source": [
    "model=tf.keras.Sequential()\n",
    "model.add(tf.keras.layers.Flatten(input_shape=(28,28)))\n",
    "model.add(tf.keras.layers.Dense(128,activation='relu'))\n",
    "model.add(tf.keras.layers.Dense(10,activation='softmax'))"
   ]
  },
  {
   "cell_type": "code",
   "execution_count": 13,
   "id": "85e64e44",
   "metadata": {},
   "outputs": [],
   "source": [
    "model.compile(optimizer='adam',loss='sparse_categorical_crossentropy',metrics=['accuracy'])"
   ]
  },
  {
   "cell_type": "code",
   "execution_count": 16,
   "id": "948dd03c",
   "metadata": {},
   "outputs": [],
   "source": [
    "#循环多少次算一个epoch，经历多少次迭代    /batch—size\n",
    "steps_per_epochs=train_image.shape[0]//64"
   ]
  },
  {
   "cell_type": "code",
   "execution_count": 24,
   "id": "75963669",
   "metadata": {},
   "outputs": [
    {
     "name": "stdout",
     "output_type": "stream",
     "text": [
      "Epoch 1/5\n",
      "937/937 [==============================] - 2s 2ms/step - loss: 0.2840 - accuracy: 0.8952 - val_loss: 0.3573 - val_accuracy: 0.8713\n",
      "Epoch 2/5\n",
      "937/937 [==============================] - 2s 2ms/step - loss: 0.2722 - accuracy: 0.8996 - val_loss: 0.3351 - val_accuracy: 0.8797\n",
      "Epoch 3/5\n",
      "937/937 [==============================] - 2s 2ms/step - loss: 0.2624 - accuracy: 0.9029 - val_loss: 0.3409 - val_accuracy: 0.8776\n",
      "Epoch 4/5\n",
      "937/937 [==============================] - 2s 2ms/step - loss: 0.2503 - accuracy: 0.9066 - val_loss: 0.3375 - val_accuracy: 0.8796\n",
      "Epoch 5/5\n",
      "937/937 [==============================] - 2s 2ms/step - loss: 0.2434 - accuracy: 0.9098 - val_loss: 0.3276 - val_accuracy: 0.8837\n"
     ]
    },
    {
     "data": {
      "text/plain": [
       "<keras.callbacks.History at 0x1f480351080>"
      ]
     },
     "execution_count": 24,
     "metadata": {},
     "output_type": "execute_result"
    }
   ],
   "source": [
    "model.fit(ds_train,epochs=5,steps_per_epoch=steps_per_epochs,\n",
    "          validation_data=ds_test,\n",
    "         validation_steps=10000//64)  #同时测试和验证数据集，注意都需要steps"
   ]
  },
  {
   "cell_type": "code",
   "execution_count": null,
   "id": "03cd19f6",
   "metadata": {},
   "outputs": [],
   "source": []
  }
 ],
 "metadata": {
  "kernelspec": {
   "display_name": "Python 3",
   "language": "python",
   "name": "python3"
  },
  "language_info": {
   "codemirror_mode": {
    "name": "ipython",
    "version": 3
   },
   "file_extension": ".py",
   "mimetype": "text/x-python",
   "name": "python",
   "nbconvert_exporter": "python",
   "pygments_lexer": "ipython3",
   "version": "3.6.13"
  },
  "toc": {
   "base_numbering": 1,
   "nav_menu": {},
   "number_sections": true,
   "sideBar": true,
   "skip_h1_title": false,
   "title_cell": "Table of Contents",
   "title_sidebar": "Contents",
   "toc_cell": false,
   "toc_position": {},
   "toc_section_display": true,
   "toc_window_display": false
  }
 },
 "nbformat": 4,
 "nbformat_minor": 5
}
