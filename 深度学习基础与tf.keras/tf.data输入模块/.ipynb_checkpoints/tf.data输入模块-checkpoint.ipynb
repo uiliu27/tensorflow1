{
 "cells": [
  {
   "cell_type": "markdown",
   "id": "2d91211d",
   "metadata": {},
   "source": [
    "### 基于tf .data.Dataset \n",
    "每一个元素包含一个或者多个tensor对象。例如在图片，元素可能是单个训练样本，或者一对"
   ]
  },
  {
   "cell_type": "markdown",
   "id": "c81528d5",
   "metadata": {},
   "source": [
    "#### 如何建立\n",
    "- 直接从tennsor创建Dataset<code>\n",
    "tf.data.Dataset.from_tensor_slices\n",
    "Dataset.from_tensor_slices([]);numpy  <code/>\n",
    "\n",
    "    也是可以的，tensorflow会自动转换为tensor\n",
    "- 可以进行转换\n",
    "通过一个或者多个tf.data.Dataset 对象来使用变换创建dataSet  \n"
   ]
  },
  {
   "cell_type": "markdown",
   "id": "24381f5f",
   "metadata": {},
   "source": [
    "#### 使用\n",
    "- 使用列表建立\n",
    "- 使用字典建立"
   ]
  },
  {
   "cell_type": "code",
   "execution_count": 1,
   "id": "d18f6ab7",
   "metadata": {},
   "outputs": [],
   "source": [
    "import tensorflow as tf"
   ]
  },
  {
   "cell_type": "markdown",
   "id": "caabd3ca",
   "metadata": {},
   "source": [
    "使用列表和np。array效果一样\n",
    "dataset =tf.data.Dataset.from_tensor_slices(np.array([1,2,3,4,5,6,7]))"
   ]
  },
  {
   "cell_type": "code",
   "execution_count": 2,
   "id": "ba95fc4a",
   "metadata": {},
   "outputs": [],
   "source": [
    "dataset =tf.data.Dataset.from_tensor_slices([1,2,3,4,5,6,7])"
   ]
  },
  {
   "cell_type": "code",
   "execution_count": 3,
   "id": "5f22d047",
   "metadata": {},
   "outputs": [
    {
     "data": {
      "text/plain": [
       "<TensorSliceDataset shapes: (), types: tf.int32>"
      ]
     },
     "execution_count": 3,
     "metadata": {},
     "output_type": "execute_result"
    }
   ],
   "source": [
    "dataset"
   ]
  },
  {
   "cell_type": "code",
   "execution_count": 5,
   "id": "d6f2e416",
   "metadata": {},
   "outputs": [
    {
     "name": "stdout",
     "output_type": "stream",
     "text": [
      "tf.Tensor(1, shape=(), dtype=int32)\n",
      "tf.Tensor(2, shape=(), dtype=int32)\n",
      "tf.Tensor(3, shape=(), dtype=int32)\n",
      "tf.Tensor(4, shape=(), dtype=int32)\n",
      "tf.Tensor(5, shape=(), dtype=int32)\n",
      "tf.Tensor(6, shape=(), dtype=int32)\n",
      "tf.Tensor(7, shape=(), dtype=int32)\n"
     ]
    }
   ],
   "source": [
    "for i in dataset:\n",
    "    print(i)\n",
    "    \n",
    "    #tf.tensor 类型的数据，可以使用。numpy方法，转换为numpy"
   ]
  },
  {
   "cell_type": "code",
   "execution_count": 6,
   "id": "8f04aefe",
   "metadata": {},
   "outputs": [
    {
     "name": "stdout",
     "output_type": "stream",
     "text": [
      "1\n",
      "2\n",
      "3\n",
      "4\n",
      "5\n",
      "6\n",
      "7\n"
     ]
    }
   ],
   "source": [
    "for ele in dataset:\n",
    "    print(ele.numpy())"
   ]
  },
  {
   "cell_type": "code",
   "execution_count": 22,
   "id": "bb7e1b52",
   "metadata": {},
   "outputs": [
    {
     "data": {
      "text/plain": [
       "[7, 6, 2, 4, 3, 5, 1]"
      ]
     },
     "execution_count": 22,
     "metadata": {},
     "output_type": "execute_result"
    }
   ],
   "source": [
    " list(dataset.as_numpy_iterator())"
   ]
  },
  {
   "cell_type": "markdown",
   "id": "9af35bac",
   "metadata": {},
   "source": [
    "二维列表"
   ]
  },
  {
   "cell_type": "code",
   "execution_count": 7,
   "id": "7b75cb13",
   "metadata": {},
   "outputs": [],
   "source": [
    "data =tf.data.Dataset.from_tensor_slices([[1,2],[3,4],[5,6]])"
   ]
  },
  {
   "cell_type": "code",
   "execution_count": 8,
   "id": "fb4ea5dd",
   "metadata": {},
   "outputs": [
    {
     "data": {
      "text/plain": [
       "<TensorSliceDataset shapes: (2,), types: tf.int32>"
      ]
     },
     "execution_count": 8,
     "metadata": {},
     "output_type": "execute_result"
    }
   ],
   "source": [
    "data"
   ]
  },
  {
   "cell_type": "code",
   "execution_count": 9,
   "id": "6d454cf5",
   "metadata": {},
   "outputs": [
    {
     "name": "stdout",
     "output_type": "stream",
     "text": [
      "[1 2]\n",
      "[3 4]\n",
      "[5 6]\n"
     ]
    }
   ],
   "source": [
    "for ele in data:\n",
    "    print(ele.numpy())"
   ]
  },
  {
   "cell_type": "code",
   "execution_count": 13,
   "id": "348f4f54",
   "metadata": {},
   "outputs": [],
   "source": [
    "dataset_dic=tf.data.Dataset.from_tensor_slices({'a':[1,2,3,4],\n",
    "                                               'b':[6,7,8,9],\n",
    "                                               'c':[11,12,13,14]\n",
    "                                               })"
   ]
  },
  {
   "cell_type": "code",
   "execution_count": 17,
   "id": "708a7926",
   "metadata": {},
   "outputs": [
    {
     "data": {
      "text/plain": [
       "<TensorSliceDataset shapes: {a: (), b: (), c: ()}, types: {a: tf.int32, b: tf.int32, c: tf.int32}>"
      ]
     },
     "execution_count": 17,
     "metadata": {},
     "output_type": "execute_result"
    }
   ],
   "source": [
    "dataset_dic\n",
    "#拆分成单个值"
   ]
  },
  {
   "cell_type": "code",
   "execution_count": 16,
   "id": "4dc005e8",
   "metadata": {},
   "outputs": [
    {
     "name": "stdout",
     "output_type": "stream",
     "text": [
      "{'a': <tf.Tensor: shape=(), dtype=int32, numpy=1>, 'b': <tf.Tensor: shape=(), dtype=int32, numpy=6>, 'c': <tf.Tensor: shape=(), dtype=int32, numpy=11>}\n",
      "{'a': <tf.Tensor: shape=(), dtype=int32, numpy=2>, 'b': <tf.Tensor: shape=(), dtype=int32, numpy=7>, 'c': <tf.Tensor: shape=(), dtype=int32, numpy=12>}\n",
      "{'a': <tf.Tensor: shape=(), dtype=int32, numpy=3>, 'b': <tf.Tensor: shape=(), dtype=int32, numpy=8>, 'c': <tf.Tensor: shape=(), dtype=int32, numpy=13>}\n",
      "{'a': <tf.Tensor: shape=(), dtype=int32, numpy=4>, 'b': <tf.Tensor: shape=(), dtype=int32, numpy=9>, 'c': <tf.Tensor: shape=(), dtype=int32, numpy=14>}\n"
     ]
    }
   ],
   "source": [
    "for ele in dataset_dic:\n",
    "    print(ele)"
   ]
  },
  {
   "cell_type": "markdown",
   "id": "4b585e11",
   "metadata": {},
   "source": [
    "#### 操作，取出数\n",
    " next(iter(data.take(position)))  取出位置处数字"
   ]
  },
  {
   "cell_type": "code",
   "execution_count": 20,
   "id": "18068e00",
   "metadata": {},
   "outputs": [
    {
     "data": {
      "text/plain": [
       "<tf.Tensor: shape=(2,), dtype=int32, numpy=array([1, 2])>"
      ]
     },
     "execution_count": 20,
     "metadata": {},
     "output_type": "execute_result"
    }
   ],
   "source": [
    "next(iter(data.take(1)))"
   ]
  },
  {
   "cell_type": "markdown",
   "id": "d1cdc0bd",
   "metadata": {},
   "source": [
    "#### 训练时乱序 , 多次，batch\n",
    "\n",
    "\n",
    "dataset.shuffle()\n",
    "---<code>\n",
    "Signature: dataset.shuffle(buffer_size, seed=None, reshuffle_each_iteration=None <code/>\n",
    "    \n",
    "dataset.repeat(count=None)\n",
    "---<code>    \n",
    "Docstring:\n",
    "Repeats this dataset so each original value is seen `count` times. 神经网络训练次数多的话，训练结果较好\n",
    "<code/>\n",
    "\n",
    "dataset.batch\n",
    "---<code>\n",
    "Signature:\n",
    "dataset.batch(\n",
    "    batch_size,\n",
    "    drop_remainder=False,\n",
    "    num_parallel_calls=None,\n",
    "    deterministic=None,\n",
    ")\n",
    "Docstring:\n",
    "Combines consecutive elements of this dataset into batches.\n",
    "<code/>"
   ]
  },
  {
   "cell_type": "code",
   "execution_count": 30,
   "id": "96d03757",
   "metadata": {},
   "outputs": [],
   "source": [
    "dataset=dataset.shuffle(7)\n",
    "dataset=dataset.repeat(3)\n",
    "dataset=dataset.batch(3)"
   ]
  },
  {
   "cell_type": "code",
   "execution_count": 31,
   "id": "92d7a7f0",
   "metadata": {},
   "outputs": [
    {
     "name": "stdout",
     "output_type": "stream",
     "text": [
      "[6 2 5]\n",
      "[1 3 6]\n",
      "[3 6 5]\n",
      "[1 4 5]\n",
      "[7 2 3]\n",
      "[4 2 4]\n",
      "[7 4 3]\n",
      "[7 3 1]\n",
      "[2 7 1]\n",
      "[4 7 3]\n",
      "[6 5 4]\n",
      "[2 6 2]\n",
      "[6 1 7]\n",
      "[5 1 7]\n",
      "[5 2 5]\n",
      "[1 3 6]\n",
      "[6 5 3]\n",
      "[1 7 6]\n",
      "[2 3 4]\n",
      "[4 7 1]\n",
      "[5 2 4]\n",
      "[3 2 5]\n",
      "[1 5 6]\n",
      "[7 6 6]\n",
      "[4 1 7]\n",
      "[4 7 4]\n",
      "[2 5 3]\n",
      "[2 6 6]\n",
      "[4 1 4]\n",
      "[3 7 5]\n",
      "[3 4 5]\n",
      "[3 1 6]\n",
      "[1 1 7]\n",
      "[1 7 6]\n",
      "[4 2 5]\n",
      "[5 2 3]\n",
      "[7 6 4]\n",
      "[2 3 3]\n",
      "[6 2 7]\n",
      "[5 5 7]\n",
      "[2 1 3]\n",
      "[4 2 1]\n",
      "[5 2 1]\n",
      "[3 4 6]\n",
      "[2 3 7]\n",
      "[1 3 7]\n",
      "[5 5 6]\n",
      "[4 2 7]\n",
      "[6 4 6]\n",
      "[5 3 3]\n",
      "[1 7 7]\n",
      "[2 3 5]\n",
      "[1 1 2]\n",
      "[4 4 6]\n",
      "[7 2 1]\n",
      "[4 6 4]\n",
      "[2 6 4]\n",
      "[5 5 6]\n",
      "[5 3 3]\n",
      "[1 2 3]\n",
      "[7 1 7]\n",
      "[5 6 2]\n",
      "[7 4 1]\n"
     ]
    }
   ],
   "source": [
    "for ele in dataset:\n",
    "    print(ele.numpy())"
   ]
  },
  {
   "cell_type": "markdown",
   "id": "47c5c58e",
   "metadata": {},
   "source": [
    "####  数据处理\n",
    ".map()\n",
    "---<code>\n",
    "Signature: dataset.map(map_func, num_parallel_calls=None, deterministic=None)\n",
    "Docstring:\n",
    "Maps `map_func` across the elements of this dataset.<code/>"
   ]
  },
  {
   "cell_type": "code",
   "execution_count": 32,
   "id": "93be8d0c",
   "metadata": {},
   "outputs": [],
   "source": [
    "dataset =tf.data.Dataset.from_tensor_slices([1,2,3,4,5,6,7])"
   ]
  },
  {
   "cell_type": "code",
   "execution_count": 33,
   "id": "352a906c",
   "metadata": {},
   "outputs": [],
   "source": [
    "dataset=dataset.map(tf.square)"
   ]
  },
  {
   "cell_type": "code",
   "execution_count": 34,
   "id": "130bd31a",
   "metadata": {},
   "outputs": [
    {
     "name": "stdout",
     "output_type": "stream",
     "text": [
      "1\n",
      "4\n",
      "9\n",
      "16\n",
      "25\n",
      "36\n",
      "49\n"
     ]
    }
   ],
   "source": [
    "for ele in dataset:\n",
    "    print(ele.numpy())"
   ]
  },
  {
   "cell_type": "code",
   "execution_count": null,
   "id": "7a01fe48",
   "metadata": {},
   "outputs": [],
   "source": []
  }
 ],
 "metadata": {
  "kernelspec": {
   "display_name": "Python 3",
   "language": "python",
   "name": "python3"
  },
  "language_info": {
   "codemirror_mode": {
    "name": "ipython",
    "version": 3
   },
   "file_extension": ".py",
   "mimetype": "text/x-python",
   "name": "python",
   "nbconvert_exporter": "python",
   "pygments_lexer": "ipython3",
   "version": "3.6.13"
  },
  "toc": {
   "base_numbering": 1,
   "nav_menu": {},
   "number_sections": true,
   "sideBar": true,
   "skip_h1_title": false,
   "title_cell": "Table of Contents",
   "title_sidebar": "Contents",
   "toc_cell": false,
   "toc_position": {},
   "toc_section_display": true,
   "toc_window_display": false
  }
 },
 "nbformat": 4,
 "nbformat_minor": 5
}
