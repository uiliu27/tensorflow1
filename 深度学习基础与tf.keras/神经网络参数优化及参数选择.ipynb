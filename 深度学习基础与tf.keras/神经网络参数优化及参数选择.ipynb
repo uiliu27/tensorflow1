{
 "cells": [
  {
   "cell_type": "markdown",
   "id": "9a3c5205",
   "metadata": {},
   "source": [
    "### 神经网络参数优化及参数选择\n",
    "- 网络容量：\n",
    "可以认为与网络训练参数成正比  <br/>\n",
    "神经元多，拟合能力越强，越是容易产生过拟合"
   ]
  },
  {
   "cell_type": "markdown",
   "id": "03389dc9",
   "metadata": {},
   "source": [
    "#### 超参数的选择\n",
    "超参数，需要人为去设定的参数，神经元个数，学习速率\n",
    "\n",
    "\n",
    " 提高网络拟合能力：\n",
    " - 增加层\n",
    " - 增加隐藏神经元数量 ，效果并不明显\n",
    " \n",
    " \n",
    " 深度学习的层越来越深？？？<br />\n",
    " 单层神经元个数不宜太少，采用dense顺序模型，容不下这么多信息，造成信息丢失，会造成欠拟合\n"
   ]
  },
  {
   "cell_type": "code",
   "execution_count": 23,
   "id": "fabacc27",
   "metadata": {},
   "outputs": [],
   "source": [
    "import pandas as pd\n",
    "import tensorflow as tf\n",
    "import numpy as np\n",
    "import matplotlib.pyplot as plt\n",
    "%matplotlib inline"
   ]
  },
  {
   "cell_type": "code",
   "execution_count": 24,
   "id": "2e5abe22",
   "metadata": {},
   "outputs": [],
   "source": [
    "(train_image,train_label),(test_image,test_label)=tf.keras.datasets.fashion_mnist.load_data()"
   ]
  },
  {
   "cell_type": "markdown",
   "id": "c0a5d08e",
   "metadata": {},
   "source": [
    " **图片归一化处理**"
   ]
  },
  {
   "cell_type": "code",
   "execution_count": 25,
   "id": "ba59e11c",
   "metadata": {},
   "outputs": [],
   "source": [
    "train_image=train_image/255\n",
    "test_image=test_image/255"
   ]
  },
  {
   "cell_type": "markdown",
   "id": "820d839f",
   "metadata": {},
   "source": [
    "**独热编码**"
   ]
  },
  {
   "cell_type": "code",
   "execution_count": 26,
   "id": "decc2ce8",
   "metadata": {},
   "outputs": [],
   "source": [
    "train_label_onehot=tf.keras.utils.to_categorical(train_label)\n",
    "test_label_onehot=tf.keras.utils.to_categorical(test_label)"
   ]
  },
  {
   "cell_type": "code",
   "execution_count": 27,
   "id": "998be3bd",
   "metadata": {},
   "outputs": [],
   "source": [
    "#增加2个隐藏层的结果\n",
    "model=tf.keras.Sequential()\n",
    "model.add(tf.keras.layers.Flatten(input_shape=(28,28))) #扁平成向量\n",
    "model.add(tf.keras.layers.Dense(128,activation='relu'))\n",
    "model.add(tf.keras.layers.Dropout(.2))\n",
    "model.add(tf.keras.layers.Dense(128,activation='relu'))\n",
    "model.add(tf.keras.layers.Dropout(.2))\n",
    "model.add(tf.keras.layers.Dense(128,activation='relu'))\n",
    "model.add(tf.keras.layers.Dropout(.2))\n",
    "model.add(tf.keras.layers.Dense(10,activation='softmax'))  #10个输出 为 概率分布"
   ]
  },
  {
   "cell_type": "code",
   "execution_count": 28,
   "id": "21aa07db",
   "metadata": {},
   "outputs": [
    {
     "name": "stdout",
     "output_type": "stream",
     "text": [
      "Model: \"sequential_2\"\n",
      "_________________________________________________________________\n",
      "Layer (type)                 Output Shape              Param #   \n",
      "=================================================================\n",
      "flatten_2 (Flatten)          (None, 784)               0         \n",
      "_________________________________________________________________\n",
      "dense_8 (Dense)              (None, 128)               100480    \n",
      "_________________________________________________________________\n",
      "dropout (Dropout)            (None, 128)               0         \n",
      "_________________________________________________________________\n",
      "dense_9 (Dense)              (None, 128)               16512     \n",
      "_________________________________________________________________\n",
      "dropout_1 (Dropout)          (None, 128)               0         \n",
      "_________________________________________________________________\n",
      "dense_10 (Dense)             (None, 128)               16512     \n",
      "_________________________________________________________________\n",
      "dropout_2 (Dropout)          (None, 128)               0         \n",
      "_________________________________________________________________\n",
      "dense_11 (Dense)             (None, 10)                1290      \n",
      "=================================================================\n",
      "Total params: 134,794\n",
      "Trainable params: 134,794\n",
      "Non-trainable params: 0\n",
      "_________________________________________________________________\n"
     ]
    }
   ],
   "source": [
    "model.summary()"
   ]
  },
  {
   "cell_type": "code",
   "execution_count": 29,
   "id": "32db57cf",
   "metadata": {},
   "outputs": [],
   "source": [
    "model.compile(optimizer='adam',loss='categorical_crossentropy',metrics=['acc']) "
   ]
  },
  {
   "cell_type": "code",
   "execution_count": 30,
   "id": "c00217b7",
   "metadata": {},
   "outputs": [
    {
     "name": "stdout",
     "output_type": "stream",
     "text": [
      "Epoch 1/10\n",
      "1875/1875 [==============================] - 5s 2ms/step - loss: 0.5829 - acc: 0.7904\n",
      "Epoch 2/10\n",
      "1875/1875 [==============================] - 4s 2ms/step - loss: 0.4353 - acc: 0.8415\n",
      "Epoch 3/10\n",
      "1875/1875 [==============================] - 3s 2ms/step - loss: 0.4026 - acc: 0.8538\n",
      "Epoch 4/10\n",
      "1875/1875 [==============================] - 3s 1ms/step - loss: 0.3764 - acc: 0.8626\n",
      "Epoch 5/10\n",
      "1875/1875 [==============================] - 3s 2ms/step - loss: 0.3612 - acc: 0.8689\n",
      "Epoch 6/10\n",
      "1875/1875 [==============================] - 3s 2ms/step - loss: 0.3509 - acc: 0.8708A: 1s - loss: 0.3558 - acc: - ETA:\n",
      "Epoch 7/10\n",
      "1875/1875 [==============================] - 4s 2ms/step - loss: 0.3432 - acc: 0.8741\n",
      "Epoch 8/10\n",
      "1875/1875 [==============================] - 4s 2ms/step - loss: 0.3319 - acc: 0.8779\n",
      "Epoch 9/10\n",
      "1875/1875 [==============================] - 4s 2ms/step - loss: 0.3237 - acc: 0.8812\n",
      "Epoch 10/10\n",
      "1875/1875 [==============================] - 3s 2ms/step - loss: 0.3179 - acc: 0.8827\n"
     ]
    },
    {
     "data": {
      "text/plain": [
       "<keras.callbacks.History at 0x2ecd4d66cf8>"
      ]
     },
     "execution_count": 30,
     "metadata": {},
     "output_type": "execute_result"
    }
   ],
   "source": [
    "model.fit(train_image,train_label_onehot,epochs=10)"
   ]
  },
  {
   "cell_type": "markdown",
   "id": "a86c4511",
   "metadata": {},
   "source": [
    "###  dropout 抑制过拟合\n",
    "- 分布式表征（Distributed Representation），是人工神经网络研究的一个核心思想\n",
    "\n",
    "    神经元与概念多对多的表示，利用神经网络的分布式特征表达（只要能保留核心特征），既可以实现成功完成任务。于“小红汽车”这个概念，如果用分布式特征地表达，那么就可能是一个神经元代表大小（形状：小），一个神经元代表颜色（颜色：红），还有一个神经元代表车的类别（类别：汽车）。只有当这三个神经元同时被激活时，就可以比较准确地描述我们要表达的物体。\n",
    "\n",
    "    \n",
    "- dropout learning 丢弃学习，关键就是保留核心特征\n",
    "    深度学习网络的训练过程中，对于神经网络单元，按照一定的概率将其暂时从网络中丢弃。\n",
    "    \n",
    "  【学习阶段】以概率p主动临时性地忽略掉部分隐藏节点\n",
    "    1. 首先随机（临时）删掉网络中的一些隐藏神经元，一般情况下输入输出神经元保持不变\n",
    "\n",
    "    2. 把输入x通过修改后的网络前向传播，删除的神经元不进行前向传播，传给下一层的值是0，然后把得到的损失结果通过修改后的网络反向传播。一小批训练样本执行完这个过程后就按照随机梯度下降法更新没有被删除的神经元对应的参数（w，b）\n",
    "\n",
    "    3. 恢复被删掉的神经元，此时被删除的神经元保持原样，而没有被删除的神经元已经有所更新\n",
    "\n",
    "    4. 不断重复上述过程1，2，3：\n",
    "\n",
    "  【测试阶段】将参与学习的节点和那些被隐藏的节点以一定的概率p加权求和，综合计算得到网络的输出。预测的时候，每一个单元的参数要预乘以p。\n"
   ]
  },
  {
   "cell_type": "code",
   "execution_count": 31,
   "id": "98d06dd3",
   "metadata": {},
   "outputs": [
    {
     "name": "stdout",
     "output_type": "stream",
     "text": [
      "Epoch 1/10\n",
      "1875/1875 [==============================] - 3s 2ms/step - loss: 0.3143 - acc: 0.8847 - val_loss: 0.3272 - val_acc: 0.8796\n",
      "Epoch 2/10\n",
      "1875/1875 [==============================] - 3s 2ms/step - loss: 0.3093 - acc: 0.8874 - val_loss: 0.3336 - val_acc: 0.8786\n",
      "Epoch 3/10\n",
      "1875/1875 [==============================] - 3s 2ms/step - loss: 0.3025 - acc: 0.8899 - val_loss: 0.3471 - val_acc: 0.8781\n",
      "Epoch 4/10\n",
      "1875/1875 [==============================] - 4s 2ms/step - loss: 0.2972 - acc: 0.8916 - val_loss: 0.3346 - val_acc: 0.8797\n",
      "Epoch 5/10\n",
      "1875/1875 [==============================] - 4s 2ms/step - loss: 0.2972 - acc: 0.8912 - val_loss: 0.3334 - val_acc: 0.8820 - acc: 0.89\n",
      "Epoch 6/10\n",
      "1875/1875 [==============================] - 3s 2ms/step - loss: 0.2927 - acc: 0.8932 - val_loss: 0.3351 - val_acc: 0.8802\n",
      "Epoch 7/10\n",
      "1875/1875 [==============================] - 3s 2ms/step - loss: 0.2892 - acc: 0.8936 - val_loss: 0.3276 - val_acc: 0.8816\n",
      "Epoch 8/10\n",
      "1875/1875 [==============================] - 3s 2ms/step - loss: 0.2851 - acc: 0.8950 - val_loss: 0.3323 - val_acc: 0.8840\n",
      "Epoch 9/10\n",
      "1875/1875 [==============================] - 3s 2ms/step - loss: 0.2818 - acc: 0.8955 - val_loss: 0.3312 - val_acc: 0.8814\n",
      "Epoch 10/10\n",
      "1875/1875 [==============================] - 3s 2ms/step - loss: 0.2805 - acc: 0.8964 - val_loss: 0.3323 - val_acc: 0.8830\n"
     ]
    }
   ],
   "source": [
    "histor=model.fit(train_image,train_label_onehot,epochs=10,validation_data=(test_image,test_label_onehot))"
   ]
  },
  {
   "cell_type": "code",
   "execution_count": 32,
   "id": "36632133",
   "metadata": {},
   "outputs": [
    {
     "data": {
      "text/plain": [
       "dict_keys(['loss', 'acc', 'val_loss', 'val_acc'])"
      ]
     },
     "execution_count": 32,
     "metadata": {},
     "output_type": "execute_result"
    }
   ],
   "source": [
    "histor.history.keys()"
   ]
  },
  {
   "cell_type": "code",
   "execution_count": 33,
   "id": "a7a7cc87",
   "metadata": {},
   "outputs": [
    {
     "data": {
      "text/plain": [
       "<matplotlib.legend.Legend at 0x2ecb7f10cc0>"
      ]
     },
     "execution_count": 33,
     "metadata": {},
     "output_type": "execute_result"
    },
    {
     "data": {
      "image/png": "[encoded data removed]",
      "text/plain": [
       "<Figure size 432x288 with 1 Axes>"
      ]
     },
     "metadata": {
      "needs_background": "light"
     },
     "output_type": "display_data"
    }
   ],
   "source": [
    "plt.plot(histor.epoch,histor.history.get('loss'),label='loss')\n",
    "plt.plot(histor.epoch,histor.history.get('val_loss'),label='val_loss')\n",
    "plt.legend(loc='best')"
   ]
  },
  {
   "cell_type": "markdown",
   "id": "1cbb754a",
   "metadata": {},
   "source": [
    "#### 上图，val_loss损失上升,过拟合,下图正确率显示\n",
    "\n",
    "在训练数据上得分很高，但是测试数据得分很低"
   ]
  },
  {
   "cell_type": "code",
   "execution_count": 34,
   "id": "8622b354",
   "metadata": {},
   "outputs": [
    {
     "data": {
      "text/plain": [
       "<matplotlib.legend.Legend at 0x2ecb95ff198>"
      ]
     },
     "execution_count": 34,
     "metadata": {},
     "output_type": "execute_result"
    },
    {
     "data": {
      "image/png": "[encoded data removed]",
      "text/plain": [
       "<Figure size 432x288 with 1 Axes>"
      ]
     },
     "metadata": {
      "needs_background": "light"
     },
     "output_type": "display_data"
    }
   ],
   "source": [
    "plt.plot(histor.epoch,histor.history.get('acc'),label='acc')\n",
    "plt.plot(histor.epoch,histor.history.get('val_acc'),label='val_acc')\n",
    "plt.legend(loc='best')"
   ]
  },
  {
   "cell_type": "markdown",
   "id": "46f2edeb",
   "metadata": {},
   "source": [
    "### 参数选择原则\n",
    "- 首先，开发一个过拟合的模型：\n",
    "添加更多的层，每一层变大，训练更多的轮次，\n",
    "\n",
    "- 然后，抑制过拟合\n",
    "dropout，正则化，图像增强<br/>\n",
    "增加数据，交叉验证"
   ]
  },
  {
   "cell_type": "markdown",
   "id": "772aaed0",
   "metadata": {},
   "source": [
    "减小网络规模，实际中并不咋使用正则化？？？"
   ]
  }
 ],
 "metadata": {
  "kernelspec": {
   "display_name": "Python 3",
   "language": "python",
   "name": "python3"
  },
  "language_info": {
   "codemirror_mode": {
    "name": "ipython",
    "version": 3
   },
   "file_extension": ".py",
   "mimetype": "text/x-python",
   "name": "python",
   "nbconvert_exporter": "python",
   "pygments_lexer": "ipython3",
   "version": "3.6.13"
  },
  "toc": {
   "base_numbering": 1,
   "nav_menu": {},
   "number_sections": true,
   "sideBar": true,
   "skip_h1_title": false,
   "title_cell": "Table of Contents",
   "title_sidebar": "Contents",
   "toc_cell": false,
   "toc_position": {},
   "toc_section_display": true,
   "toc_window_display": false
  }
 },
 "nbformat": 4,
 "nbformat_minor": 5
}
